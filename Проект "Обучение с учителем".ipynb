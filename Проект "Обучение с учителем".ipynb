{
 "cells": [
  {
   "cell_type": "markdown",
   "metadata": {
    "tags": []
   },
   "source": [
    "# Отток клиентов"
   ]
  },
  {
   "cell_type": "markdown",
   "metadata": {},
   "source": [
    "Из «Бета-Банка» стали уходить клиенты. Каждый месяц. Немного, но заметно. Банковские маркетологи посчитали: сохранять текущих клиентов дешевле, чем привлекать новых.\n",
    "\n",
    "Нужно спрогнозировать, уйдёт клиент из банка в ближайшее время или нет. Предоставлены исторические данные о поведении клиентов и расторжении договоров с банком. \n",
    "\n",
    "Необходимо построить модель с предельно большим значением *F1*-меры. Чтобы сдать проект успешно, нужно довести метрику до 0.59. Проверьте *F1*-меру на тестовой выборке самостоятельно.\n",
    "\n",
    "Дополнительно измеряйте *AUC-ROC*, сравнивайте её значение с *F1*-мерой.\n",
    "\n",
    "Источник данных: [https://www.kaggle.com/barelydedicated/bank-customer-churn-modeling](https://www.kaggle.com/barelydedicated/bank-customer-churn-modeling)"
   ]
  },
  {
   "cell_type": "markdown",
   "metadata": {
    "toc": true
   },
   "source": [
    "<h1>Содержание<span class=\"tocSkip\"></span></h1>\n",
    "<div class=\"toc\"><ul class=\"toc-item\"><li><span><a href=\"#Подготовка-данных\" data-toc-modified-id=\"Подготовка-данных-1\"><span class=\"toc-item-num\">1&nbsp;&nbsp;</span>Подготовка данных</a></span><ul class=\"toc-item\"><li><span><a href=\"#Удаление-пропусков-и-столбцов\" data-toc-modified-id=\"Удаление-пропусков-и-столбцов-1.1\"><span class=\"toc-item-num\">1.1&nbsp;&nbsp;</span>Удаление пропусков и столбцов</a></span></li><li><span><a href=\"#Разделение-данных-(после-ревью-№1)\" data-toc-modified-id=\"Разделение-данных-(после-ревью-№1)-1.2\"><span class=\"toc-item-num\">1.2&nbsp;&nbsp;</span>Разделение данных (после ревью №1)</a></span></li><li><span><a href=\"#Кодирование-столбца-Gender\" data-toc-modified-id=\"Кодирование-столбца-Gender-1.3\"><span class=\"toc-item-num\">1.3&nbsp;&nbsp;</span>Кодирование столбца <code>Gender</code></a></span></li><li><span><a href=\"#Кодирование-столбца-Geography\" data-toc-modified-id=\"Кодирование-столбца-Geography-1.4\"><span class=\"toc-item-num\">1.4&nbsp;&nbsp;</span>Кодирование столбца <code>Geography</code></a></span></li><li><span><a href=\"#Разделение-данных-на-выборки\" data-toc-modified-id=\"Разделение-данных-на-выборки-1.5\"><span class=\"toc-item-num\">1.5&nbsp;&nbsp;</span>Разделение данных на выборки</a></span></li><li><span><a href=\"#Масштабирование-признаков-CreditScore,-Balance-и-EstimatedSalary\" data-toc-modified-id=\"Масштабирование-признаков-CreditScore,-Balance-и-EstimatedSalary-1.6\"><span class=\"toc-item-num\">1.6&nbsp;&nbsp;</span>Масштабирование признаков <code>CreditScore</code>, <code>Balance</code> и <code>EstimatedSalary</code></a></span></li></ul></li><li><span><a href=\"#Исследование-задачи\" data-toc-modified-id=\"Исследование-задачи-2\"><span class=\"toc-item-num\">2&nbsp;&nbsp;</span>Исследование задачи</a></span><ul class=\"toc-item\"><li><span><a href=\"#Исследование-баланса-классов\" data-toc-modified-id=\"Исследование-баланса-классов-2.1\"><span class=\"toc-item-num\">2.1&nbsp;&nbsp;</span>Исследование баланса классов</a></span></li><li><span><a href=\"#Изучение-моделей-без-учёта-дисбаланса\" data-toc-modified-id=\"Изучение-моделей-без-учёта-дисбаланса-2.2\"><span class=\"toc-item-num\">2.2&nbsp;&nbsp;</span>Изучение моделей без учёта дисбаланса</a></span></li></ul></li><li><span><a href=\"#Борьба-с-дисбалансом\" data-toc-modified-id=\"Борьба-с-дисбалансом-3\"><span class=\"toc-item-num\">3&nbsp;&nbsp;</span>Борьба с дисбалансом</a></span><ul class=\"toc-item\"><li><span><a href=\"#Увеличение-выборки-(upsampling)\" data-toc-modified-id=\"Увеличение-выборки-(upsampling)-3.1\"><span class=\"toc-item-num\">3.1&nbsp;&nbsp;</span>Увеличение выборки (upsampling)</a></span><ul class=\"toc-item\"><li><span><a href=\"#Проверка-моделей\" data-toc-modified-id=\"Проверка-моделей-3.1.1\"><span class=\"toc-item-num\">3.1.1&nbsp;&nbsp;</span>Проверка моделей</a></span></li></ul></li><li><span><a href=\"#Уменьшение-выборки-(downsampling)\" data-toc-modified-id=\"Уменьшение-выборки-(downsampling)-3.2\"><span class=\"toc-item-num\">3.2&nbsp;&nbsp;</span>Уменьшение выборки (downsampling)</a></span><ul class=\"toc-item\"><li><span><a href=\"#Проверка-моделей\" data-toc-modified-id=\"Проверка-моделей-3.2.1\"><span class=\"toc-item-num\">3.2.1&nbsp;&nbsp;</span>Проверка моделей</a></span></li></ul></li><li><span><a href=\"#Автоматическая-балансировка\" data-toc-modified-id=\"Автоматическая-балансировка-3.3\"><span class=\"toc-item-num\">3.3&nbsp;&nbsp;</span>Автоматическая балансировка</a></span></li></ul></li><li><span><a href=\"#Тестирование-модели\" data-toc-modified-id=\"Тестирование-модели-4\"><span class=\"toc-item-num\">4&nbsp;&nbsp;</span>Тестирование модели</a></span></li><li><span><a href=\"#Общий-вывод\" data-toc-modified-id=\"Общий-вывод-5\"><span class=\"toc-item-num\">5&nbsp;&nbsp;</span>Общий вывод</a></span></li><li><span><a href=\"#Чек-лист-готовности-проекта\" data-toc-modified-id=\"Чек-лист-готовности-проекта-6\"><span class=\"toc-item-num\">6&nbsp;&nbsp;</span>Чек-лист готовности проекта</a></span></li></ul></div>"
   ]
  },
  {
   "cell_type": "markdown",
   "metadata": {},
   "source": [
    "## Подготовка данных"
   ]
  },
  {
   "cell_type": "code",
   "execution_count": 1,
   "metadata": {},
   "outputs": [],
   "source": [
    "import numpy as np\n",
    "import pandas as pd\n",
    "\n",
    "from sklearn.model_selection import train_test_split\n",
    "from sklearn.preprocessing import (\n",
    "    OneHotEncoder,\n",
    "    OrdinalEncoder,\n",
    "    StandardScaler\n",
    ")\n",
    "from sklearn.tree import DecisionTreeClassifier \n",
    "from sklearn.ensemble import RandomForestClassifier\n",
    "from sklearn.linear_model import LogisticRegression \n",
    "from sklearn.metrics import (\n",
    "    confusion_matrix,\n",
    "    f1_score,\n",
    "    roc_auc_score\n",
    ")\n",
    "from sklearn.utils import shuffle\n",
    "\n",
    "RANDOM_STATE = 12345"
   ]
  },
  {
   "cell_type": "code",
   "execution_count": 2,
   "metadata": {},
   "outputs": [],
   "source": [
    "df = pd.read_csv('data.csv')"
   ]
  },
  {
   "cell_type": "code",
   "execution_count": 3,
   "metadata": {},
   "outputs": [
    {
     "data": {
      "text/html": [
       "<div>\n",
       "<style scoped>\n",
       "    .dataframe tbody tr th:only-of-type {\n",
       "        vertical-align: middle;\n",
       "    }\n",
       "\n",
       "    .dataframe tbody tr th {\n",
       "        vertical-align: top;\n",
       "    }\n",
       "\n",
       "    .dataframe thead th {\n",
       "        text-align: right;\n",
       "    }\n",
       "</style>\n",
       "<table border=\"1\" class=\"dataframe\">\n",
       "  <thead>\n",
       "    <tr style=\"text-align: right;\">\n",
       "      <th></th>\n",
       "      <th>RowNumber</th>\n",
       "      <th>CustomerId</th>\n",
       "      <th>Surname</th>\n",
       "      <th>CreditScore</th>\n",
       "      <th>Geography</th>\n",
       "      <th>Gender</th>\n",
       "      <th>Age</th>\n",
       "      <th>Tenure</th>\n",
       "      <th>Balance</th>\n",
       "      <th>NumOfProducts</th>\n",
       "      <th>HasCrCard</th>\n",
       "      <th>IsActiveMember</th>\n",
       "      <th>EstimatedSalary</th>\n",
       "      <th>Exited</th>\n",
       "    </tr>\n",
       "  </thead>\n",
       "  <tbody>\n",
       "    <tr>\n",
       "      <th>0</th>\n",
       "      <td>1</td>\n",
       "      <td>15634602</td>\n",
       "      <td>Hargrave</td>\n",
       "      <td>619</td>\n",
       "      <td>France</td>\n",
       "      <td>Female</td>\n",
       "      <td>42</td>\n",
       "      <td>2</td>\n",
       "      <td>0.00</td>\n",
       "      <td>1</td>\n",
       "      <td>1</td>\n",
       "      <td>1</td>\n",
       "      <td>101348.88</td>\n",
       "      <td>1</td>\n",
       "    </tr>\n",
       "    <tr>\n",
       "      <th>1</th>\n",
       "      <td>2</td>\n",
       "      <td>15647311</td>\n",
       "      <td>Hill</td>\n",
       "      <td>608</td>\n",
       "      <td>Spain</td>\n",
       "      <td>Female</td>\n",
       "      <td>41</td>\n",
       "      <td>1</td>\n",
       "      <td>83807.86</td>\n",
       "      <td>1</td>\n",
       "      <td>0</td>\n",
       "      <td>1</td>\n",
       "      <td>112542.58</td>\n",
       "      <td>0</td>\n",
       "    </tr>\n",
       "    <tr>\n",
       "      <th>2</th>\n",
       "      <td>3</td>\n",
       "      <td>15619304</td>\n",
       "      <td>Onio</td>\n",
       "      <td>502</td>\n",
       "      <td>France</td>\n",
       "      <td>Female</td>\n",
       "      <td>42</td>\n",
       "      <td>8</td>\n",
       "      <td>159660.80</td>\n",
       "      <td>3</td>\n",
       "      <td>1</td>\n",
       "      <td>0</td>\n",
       "      <td>113931.57</td>\n",
       "      <td>1</td>\n",
       "    </tr>\n",
       "    <tr>\n",
       "      <th>3</th>\n",
       "      <td>4</td>\n",
       "      <td>15701354</td>\n",
       "      <td>Boni</td>\n",
       "      <td>699</td>\n",
       "      <td>France</td>\n",
       "      <td>Female</td>\n",
       "      <td>39</td>\n",
       "      <td>1</td>\n",
       "      <td>0.00</td>\n",
       "      <td>2</td>\n",
       "      <td>0</td>\n",
       "      <td>0</td>\n",
       "      <td>93826.63</td>\n",
       "      <td>0</td>\n",
       "    </tr>\n",
       "    <tr>\n",
       "      <th>4</th>\n",
       "      <td>5</td>\n",
       "      <td>15737888</td>\n",
       "      <td>Mitchell</td>\n",
       "      <td>850</td>\n",
       "      <td>Spain</td>\n",
       "      <td>Female</td>\n",
       "      <td>43</td>\n",
       "      <td>2</td>\n",
       "      <td>125510.82</td>\n",
       "      <td>1</td>\n",
       "      <td>1</td>\n",
       "      <td>1</td>\n",
       "      <td>79084.10</td>\n",
       "      <td>0</td>\n",
       "    </tr>\n",
       "  </tbody>\n",
       "</table>\n",
       "</div>"
      ],
      "text/plain": [
       "   RowNumber  CustomerId   Surname  CreditScore Geography  Gender  Age  \\\n",
       "0          1    15634602  Hargrave          619    France  Female   42   \n",
       "1          2    15647311      Hill          608     Spain  Female   41   \n",
       "2          3    15619304      Onio          502    France  Female   42   \n",
       "3          4    15701354      Boni          699    France  Female   39   \n",
       "4          5    15737888  Mitchell          850     Spain  Female   43   \n",
       "\n",
       "   Tenure    Balance  NumOfProducts  HasCrCard  IsActiveMember  \\\n",
       "0       2       0.00              1          1               1   \n",
       "1       1   83807.86              1          0               1   \n",
       "2       8  159660.80              3          1               0   \n",
       "3       1       0.00              2          0               0   \n",
       "4       2  125510.82              1          1               1   \n",
       "\n",
       "   EstimatedSalary  Exited  \n",
       "0        101348.88       1  \n",
       "1        112542.58       0  \n",
       "2        113931.57       1  \n",
       "3         93826.63       0  \n",
       "4         79084.10       0  "
      ]
     },
     "execution_count": 3,
     "metadata": {},
     "output_type": "execute_result"
    }
   ],
   "source": [
    "df.head()"
   ]
  },
  {
   "cell_type": "code",
   "execution_count": 4,
   "metadata": {},
   "outputs": [
    {
     "name": "stdout",
     "output_type": "stream",
     "text": [
      "<class 'pandas.core.frame.DataFrame'>\n",
      "RangeIndex: 10000 entries, 0 to 9999\n",
      "Data columns (total 14 columns):\n",
      " #   Column           Non-Null Count  Dtype  \n",
      "---  ------           --------------  -----  \n",
      " 0   RowNumber        10000 non-null  int64  \n",
      " 1   CustomerId       10000 non-null  int64  \n",
      " 2   Surname          10000 non-null  object \n",
      " 3   CreditScore      10000 non-null  int64  \n",
      " 4   Geography        10000 non-null  object \n",
      " 5   Gender           10000 non-null  object \n",
      " 6   Age              10000 non-null  int64  \n",
      " 7   Tenure           10000 non-null  int64  \n",
      " 8   Balance          10000 non-null  float64\n",
      " 9   NumOfProducts    10000 non-null  int64  \n",
      " 10  HasCrCard        10000 non-null  int64  \n",
      " 11  IsActiveMember   10000 non-null  int64  \n",
      " 12  EstimatedSalary  10000 non-null  float64\n",
      " 13  Exited           10000 non-null  int64  \n",
      "dtypes: float64(2), int64(9), object(3)\n",
      "memory usage: 1.1+ MB\n"
     ]
    }
   ],
   "source": [
    "df.info()"
   ]
  },
  {
   "cell_type": "code",
   "execution_count": 5,
   "metadata": {},
   "outputs": [
    {
     "data": {
      "text/html": [
       "<div>\n",
       "<style scoped>\n",
       "    .dataframe tbody tr th:only-of-type {\n",
       "        vertical-align: middle;\n",
       "    }\n",
       "\n",
       "    .dataframe tbody tr th {\n",
       "        vertical-align: top;\n",
       "    }\n",
       "\n",
       "    .dataframe thead th {\n",
       "        text-align: right;\n",
       "    }\n",
       "</style>\n",
       "<table border=\"1\" class=\"dataframe\">\n",
       "  <thead>\n",
       "    <tr style=\"text-align: right;\">\n",
       "      <th></th>\n",
       "      <th>RowNumber</th>\n",
       "      <th>CustomerId</th>\n",
       "      <th>CreditScore</th>\n",
       "      <th>Age</th>\n",
       "      <th>Tenure</th>\n",
       "      <th>Balance</th>\n",
       "      <th>NumOfProducts</th>\n",
       "      <th>HasCrCard</th>\n",
       "      <th>IsActiveMember</th>\n",
       "      <th>EstimatedSalary</th>\n",
       "      <th>Exited</th>\n",
       "    </tr>\n",
       "  </thead>\n",
       "  <tbody>\n",
       "    <tr>\n",
       "      <th>count</th>\n",
       "      <td>10000.00000</td>\n",
       "      <td>1.000000e+04</td>\n",
       "      <td>10000.000000</td>\n",
       "      <td>10000.000000</td>\n",
       "      <td>10000.000000</td>\n",
       "      <td>10000.000000</td>\n",
       "      <td>10000.000000</td>\n",
       "      <td>10000.00000</td>\n",
       "      <td>10000.000000</td>\n",
       "      <td>10000.000000</td>\n",
       "      <td>10000.000000</td>\n",
       "    </tr>\n",
       "    <tr>\n",
       "      <th>mean</th>\n",
       "      <td>5000.50000</td>\n",
       "      <td>1.569094e+07</td>\n",
       "      <td>650.528800</td>\n",
       "      <td>38.921800</td>\n",
       "      <td>5.012800</td>\n",
       "      <td>76485.889288</td>\n",
       "      <td>1.530200</td>\n",
       "      <td>0.70550</td>\n",
       "      <td>0.515100</td>\n",
       "      <td>100090.239881</td>\n",
       "      <td>0.203700</td>\n",
       "    </tr>\n",
       "    <tr>\n",
       "      <th>std</th>\n",
       "      <td>2886.89568</td>\n",
       "      <td>7.193619e+04</td>\n",
       "      <td>96.653299</td>\n",
       "      <td>10.487806</td>\n",
       "      <td>2.892174</td>\n",
       "      <td>62397.405202</td>\n",
       "      <td>0.581654</td>\n",
       "      <td>0.45584</td>\n",
       "      <td>0.499797</td>\n",
       "      <td>57510.492818</td>\n",
       "      <td>0.402769</td>\n",
       "    </tr>\n",
       "    <tr>\n",
       "      <th>min</th>\n",
       "      <td>1.00000</td>\n",
       "      <td>1.556570e+07</td>\n",
       "      <td>350.000000</td>\n",
       "      <td>18.000000</td>\n",
       "      <td>0.000000</td>\n",
       "      <td>0.000000</td>\n",
       "      <td>1.000000</td>\n",
       "      <td>0.00000</td>\n",
       "      <td>0.000000</td>\n",
       "      <td>11.580000</td>\n",
       "      <td>0.000000</td>\n",
       "    </tr>\n",
       "    <tr>\n",
       "      <th>25%</th>\n",
       "      <td>2500.75000</td>\n",
       "      <td>1.562853e+07</td>\n",
       "      <td>584.000000</td>\n",
       "      <td>32.000000</td>\n",
       "      <td>3.000000</td>\n",
       "      <td>0.000000</td>\n",
       "      <td>1.000000</td>\n",
       "      <td>0.00000</td>\n",
       "      <td>0.000000</td>\n",
       "      <td>51002.110000</td>\n",
       "      <td>0.000000</td>\n",
       "    </tr>\n",
       "    <tr>\n",
       "      <th>50%</th>\n",
       "      <td>5000.50000</td>\n",
       "      <td>1.569074e+07</td>\n",
       "      <td>652.000000</td>\n",
       "      <td>37.000000</td>\n",
       "      <td>5.000000</td>\n",
       "      <td>97198.540000</td>\n",
       "      <td>1.000000</td>\n",
       "      <td>1.00000</td>\n",
       "      <td>1.000000</td>\n",
       "      <td>100193.915000</td>\n",
       "      <td>0.000000</td>\n",
       "    </tr>\n",
       "    <tr>\n",
       "      <th>75%</th>\n",
       "      <td>7500.25000</td>\n",
       "      <td>1.575323e+07</td>\n",
       "      <td>718.000000</td>\n",
       "      <td>44.000000</td>\n",
       "      <td>7.000000</td>\n",
       "      <td>127644.240000</td>\n",
       "      <td>2.000000</td>\n",
       "      <td>1.00000</td>\n",
       "      <td>1.000000</td>\n",
       "      <td>149388.247500</td>\n",
       "      <td>0.000000</td>\n",
       "    </tr>\n",
       "    <tr>\n",
       "      <th>max</th>\n",
       "      <td>10000.00000</td>\n",
       "      <td>1.581569e+07</td>\n",
       "      <td>850.000000</td>\n",
       "      <td>92.000000</td>\n",
       "      <td>10.000000</td>\n",
       "      <td>250898.090000</td>\n",
       "      <td>4.000000</td>\n",
       "      <td>1.00000</td>\n",
       "      <td>1.000000</td>\n",
       "      <td>199992.480000</td>\n",
       "      <td>1.000000</td>\n",
       "    </tr>\n",
       "  </tbody>\n",
       "</table>\n",
       "</div>"
      ],
      "text/plain": [
       "         RowNumber    CustomerId   CreditScore           Age        Tenure  \\\n",
       "count  10000.00000  1.000000e+04  10000.000000  10000.000000  10000.000000   \n",
       "mean    5000.50000  1.569094e+07    650.528800     38.921800      5.012800   \n",
       "std     2886.89568  7.193619e+04     96.653299     10.487806      2.892174   \n",
       "min        1.00000  1.556570e+07    350.000000     18.000000      0.000000   \n",
       "25%     2500.75000  1.562853e+07    584.000000     32.000000      3.000000   \n",
       "50%     5000.50000  1.569074e+07    652.000000     37.000000      5.000000   \n",
       "75%     7500.25000  1.575323e+07    718.000000     44.000000      7.000000   \n",
       "max    10000.00000  1.581569e+07    850.000000     92.000000     10.000000   \n",
       "\n",
       "             Balance  NumOfProducts    HasCrCard  IsActiveMember  \\\n",
       "count   10000.000000   10000.000000  10000.00000    10000.000000   \n",
       "mean    76485.889288       1.530200      0.70550        0.515100   \n",
       "std     62397.405202       0.581654      0.45584        0.499797   \n",
       "min         0.000000       1.000000      0.00000        0.000000   \n",
       "25%         0.000000       1.000000      0.00000        0.000000   \n",
       "50%     97198.540000       1.000000      1.00000        1.000000   \n",
       "75%    127644.240000       2.000000      1.00000        1.000000   \n",
       "max    250898.090000       4.000000      1.00000        1.000000   \n",
       "\n",
       "       EstimatedSalary        Exited  \n",
       "count     10000.000000  10000.000000  \n",
       "mean     100090.239881      0.203700  \n",
       "std       57510.492818      0.402769  \n",
       "min          11.580000      0.000000  \n",
       "25%       51002.110000      0.000000  \n",
       "50%      100193.915000      0.000000  \n",
       "75%      149388.247500      0.000000  \n",
       "max      199992.480000      1.000000  "
      ]
     },
     "execution_count": 5,
     "metadata": {},
     "output_type": "execute_result"
    }
   ],
   "source": [
    "df.describe()"
   ]
  },
  {
   "cell_type": "markdown",
   "metadata": {},
   "source": [
    "**Описание данных**\n",
    "\n",
    "Признаки:\n",
    "- `RowNumber` — индекс строки в данных\n",
    "- `CustomerId` — уникальный идентификатор клиента\n",
    "- `Surname` — фамилия\n",
    "- `CreditScore` — кредитный рейтинг\n",
    "- `Geography` — страна проживания\n",
    "- `Gender` — пол\n",
    "- `Age` — возраст\n",
    "- `Tenure` — сколько лет человек является клиентом банка\n",
    "- `Balance` — баланс на счёте\n",
    "- `NumOfProducts` — количество продуктов банка, используемых клиентом\n",
    "- `HasCrCard` — наличие кредитной карты\n",
    "- `IsActiveMember` — активность клиента\n",
    "- `EstimatedSalary` — предполагаемая зарплата\n",
    "\n",
    "Целевой признак:\n",
    "- `Exited` — факт ухода клиента"
   ]
  },
  {
   "cell_type": "markdown",
   "metadata": {},
   "source": [
    "**Промежуточный вывод:** в данных присутствуют категориальные признаки: пол и страна.  Эти данные считаю необходимым закодировать. Так же в столбцах со значением баланса на счету, кредитного рейтинга и предполагаемой зарплатой имеется большой разброс данных, их считаю необходимым масштабировать.\n",
    "\n",
    "Столбцы с фамилией, уникальным идентификатором клиента и порядковым номером - данные, которые мало влияют на факт ухода клиента из банка, считаю логичным не включать их в список признаков."
   ]
  },
  {
   "cell_type": "markdown",
   "metadata": {},
   "source": [
    "### Удаление пропусков и столбцов"
   ]
  },
  {
   "cell_type": "code",
   "execution_count": 6,
   "metadata": {},
   "outputs": [],
   "source": [
    "df.drop(['RowNumber', 'CustomerId', 'Surname'], axis= 1, inplace= True)"
   ]
  },
  {
   "cell_type": "code",
   "execution_count": 7,
   "metadata": {},
   "outputs": [
    {
     "name": "stdout",
     "output_type": "stream",
     "text": [
      "<class 'pandas.core.frame.DataFrame'>\n",
      "RangeIndex: 10000 entries, 0 to 9999\n",
      "Data columns (total 11 columns):\n",
      " #   Column           Non-Null Count  Dtype  \n",
      "---  ------           --------------  -----  \n",
      " 0   CreditScore      10000 non-null  int64  \n",
      " 1   Geography        10000 non-null  object \n",
      " 2   Gender           10000 non-null  object \n",
      " 3   Age              10000 non-null  int64  \n",
      " 4   Tenure           10000 non-null  int64  \n",
      " 5   Balance          10000 non-null  float64\n",
      " 6   NumOfProducts    10000 non-null  int64  \n",
      " 7   HasCrCard        10000 non-null  int64  \n",
      " 8   IsActiveMember   10000 non-null  int64  \n",
      " 9   EstimatedSalary  10000 non-null  float64\n",
      " 10  Exited           10000 non-null  int64  \n",
      "dtypes: float64(2), int64(7), object(2)\n",
      "memory usage: 859.5+ KB\n"
     ]
    }
   ],
   "source": [
    "df.info()"
   ]
  },
  {
   "cell_type": "markdown",
   "metadata": {},
   "source": [
    "### Разделение данных"
   ]
  },
  {
   "cell_type": "code",
   "execution_count": 8,
   "metadata": {},
   "outputs": [],
   "source": [
    "target = df['Exited']\n",
    "features = df.drop('Exited', axis=1)"
   ]
  },
  {
   "cell_type": "code",
   "execution_count": 9,
   "metadata": {},
   "outputs": [],
   "source": [
    "features_train, features_vt, target_train, target_vt = train_test_split(\n",
    "    features, target, test_size=0.4, random_state=RANDOM_STATE, stratify=target\n",
    ")"
   ]
  },
  {
   "cell_type": "code",
   "execution_count": 10,
   "metadata": {},
   "outputs": [],
   "source": [
    "features_test, features_valid, target_test, target_valid = train_test_split(\n",
    "    features_vt, target_vt, test_size=0.5, random_state=RANDOM_STATE, stratify=target_vt\n",
    ")"
   ]
  },
  {
   "cell_type": "code",
   "execution_count": 11,
   "metadata": {},
   "outputs": [
    {
     "name": "stdout",
     "output_type": "stream",
     "text": [
      "Размер features_train:\n",
      "(6000, 10)\n",
      "Размер target_train:\n",
      "(6000,)\n",
      "Размер features_valid:\n",
      "(2000, 10)\n",
      "Размер target_valid:\n",
      "(2000,)\n",
      "Размер features_test:\n",
      "(2000, 10)\n",
      "Размер target_test:\n",
      "(2000,)\n"
     ]
    }
   ],
   "source": [
    "print(\n",
    "    'Размер features_train:', \n",
    "    features_train.shape,\n",
    "    'Размер target_train:', \n",
    "    target_train.shape,\n",
    "    'Размер features_valid:', \n",
    "    features_valid.shape,\n",
    "    'Размер target_valid:', \n",
    "    target_valid.shape,\n",
    "    'Размер features_test:', \n",
    "    features_test.shape,\n",
    "    'Размер target_test:', \n",
    "    target_test.shape, \n",
    "    sep='\\n'\n",
    ")"
   ]
  },
  {
   "cell_type": "code",
   "execution_count": 12,
   "metadata": {},
   "outputs": [
    {
     "name": "stdout",
     "output_type": "stream",
     "text": [
      "Соотношение классов target_train:\n",
      "0    4778\n",
      "1    1222\n",
      "Name: Exited, dtype: int64\n",
      "Соотношение классов target_valid:\n",
      "0    1593\n",
      "1     407\n",
      "Name: Exited, dtype: int64\n",
      "Соотношение классов target_test:\n",
      "0    1592\n",
      "1     408\n",
      "Name: Exited, dtype: int64\n"
     ]
    }
   ],
   "source": [
    "print(\n",
    "    'Соотношение классов target_train:', \n",
    "    target_train.value_counts(),\n",
    "    'Соотношение классов target_valid:', \n",
    "    target_valid.value_counts(),\n",
    "    'Соотношение классов target_test:', \n",
    "    target_test.value_counts(), \n",
    "    sep='\\n'\n",
    ")"
   ]
  },
  {
   "cell_type": "code",
   "execution_count": 13,
   "metadata": {},
   "outputs": [],
   "source": [
    "features_train = features_train.reset_index(drop=True)\n",
    "target_train = target_train.reset_index(drop=True)\n",
    "features_valid = features_valid.reset_index(drop=True)\n",
    "target_valid = target_valid.reset_index(drop=True)\n",
    "features_test = features_test.reset_index(drop=True)\n",
    "target_test = target_test.reset_index(drop=True)"
   ]
  },
  {
   "cell_type": "markdown",
   "metadata": {},
   "source": [
    "### Кодирование столбца `Gender`"
   ]
  },
  {
   "cell_type": "code",
   "execution_count": 14,
   "metadata": {},
   "outputs": [],
   "source": [
    "enc_gender = OneHotEncoder(drop = 'first', handle_unknown='error', sparse=False)"
   ]
  },
  {
   "cell_type": "code",
   "execution_count": 15,
   "metadata": {},
   "outputs": [
    {
     "name": "stderr",
     "output_type": "stream",
     "text": [
      "/Users/olesyashtangey/opt/anaconda3/lib/python3.9/site-packages/sklearn/utils/deprecation.py:87: FutureWarning: Function get_feature_names is deprecated; get_feature_names is deprecated in 1.0 and will be removed in 1.2. Please use get_feature_names_out instead.\n",
      "  warnings.warn(msg, category=FutureWarning)\n"
     ]
    },
    {
     "data": {
      "text/html": [
       "<div>\n",
       "<style scoped>\n",
       "    .dataframe tbody tr th:only-of-type {\n",
       "        vertical-align: middle;\n",
       "    }\n",
       "\n",
       "    .dataframe tbody tr th {\n",
       "        vertical-align: top;\n",
       "    }\n",
       "\n",
       "    .dataframe thead th {\n",
       "        text-align: right;\n",
       "    }\n",
       "</style>\n",
       "<table border=\"1\" class=\"dataframe\">\n",
       "  <thead>\n",
       "    <tr style=\"text-align: right;\">\n",
       "      <th></th>\n",
       "      <th>x0_Male</th>\n",
       "    </tr>\n",
       "  </thead>\n",
       "  <tbody>\n",
       "    <tr>\n",
       "      <th>0</th>\n",
       "      <td>0.0</td>\n",
       "    </tr>\n",
       "    <tr>\n",
       "      <th>1</th>\n",
       "      <td>0.0</td>\n",
       "    </tr>\n",
       "    <tr>\n",
       "      <th>2</th>\n",
       "      <td>1.0</td>\n",
       "    </tr>\n",
       "    <tr>\n",
       "      <th>3</th>\n",
       "      <td>0.0</td>\n",
       "    </tr>\n",
       "    <tr>\n",
       "      <th>4</th>\n",
       "      <td>0.0</td>\n",
       "    </tr>\n",
       "  </tbody>\n",
       "</table>\n",
       "</div>"
      ],
      "text/plain": [
       "   x0_Male\n",
       "0      0.0\n",
       "1      0.0\n",
       "2      1.0\n",
       "3      0.0\n",
       "4      0.0"
      ]
     },
     "execution_count": 15,
     "metadata": {},
     "output_type": "execute_result"
    }
   ],
   "source": [
    "enc_train_gender = pd.DataFrame(enc_gender.fit_transform(features_train[['Gender']]))\n",
    "enc_train_gender.columns = enc_gender.get_feature_names()\n",
    "enc_train_gender.head()"
   ]
  },
  {
   "cell_type": "code",
   "execution_count": 16,
   "metadata": {},
   "outputs": [
    {
     "data": {
      "text/html": [
       "<div>\n",
       "<style scoped>\n",
       "    .dataframe tbody tr th:only-of-type {\n",
       "        vertical-align: middle;\n",
       "    }\n",
       "\n",
       "    .dataframe tbody tr th {\n",
       "        vertical-align: top;\n",
       "    }\n",
       "\n",
       "    .dataframe thead th {\n",
       "        text-align: right;\n",
       "    }\n",
       "</style>\n",
       "<table border=\"1\" class=\"dataframe\">\n",
       "  <thead>\n",
       "    <tr style=\"text-align: right;\">\n",
       "      <th></th>\n",
       "      <th>CreditScore</th>\n",
       "      <th>Geography</th>\n",
       "      <th>Age</th>\n",
       "      <th>Tenure</th>\n",
       "      <th>Balance</th>\n",
       "      <th>NumOfProducts</th>\n",
       "      <th>HasCrCard</th>\n",
       "      <th>IsActiveMember</th>\n",
       "      <th>EstimatedSalary</th>\n",
       "      <th>x0_Male</th>\n",
       "    </tr>\n",
       "  </thead>\n",
       "  <tbody>\n",
       "    <tr>\n",
       "      <th>0</th>\n",
       "      <td>549</td>\n",
       "      <td>Germany</td>\n",
       "      <td>49</td>\n",
       "      <td>6</td>\n",
       "      <td>124829.16</td>\n",
       "      <td>1</td>\n",
       "      <td>0</td>\n",
       "      <td>1</td>\n",
       "      <td>93551.36</td>\n",
       "      <td>0.0</td>\n",
       "    </tr>\n",
       "    <tr>\n",
       "      <th>1</th>\n",
       "      <td>694</td>\n",
       "      <td>France</td>\n",
       "      <td>38</td>\n",
       "      <td>5</td>\n",
       "      <td>195926.39</td>\n",
       "      <td>1</td>\n",
       "      <td>1</td>\n",
       "      <td>1</td>\n",
       "      <td>85522.84</td>\n",
       "      <td>0.0</td>\n",
       "    </tr>\n",
       "    <tr>\n",
       "      <th>2</th>\n",
       "      <td>660</td>\n",
       "      <td>France</td>\n",
       "      <td>34</td>\n",
       "      <td>8</td>\n",
       "      <td>106486.66</td>\n",
       "      <td>2</td>\n",
       "      <td>0</td>\n",
       "      <td>1</td>\n",
       "      <td>182262.66</td>\n",
       "      <td>1.0</td>\n",
       "    </tr>\n",
       "    <tr>\n",
       "      <th>3</th>\n",
       "      <td>632</td>\n",
       "      <td>Germany</td>\n",
       "      <td>41</td>\n",
       "      <td>3</td>\n",
       "      <td>81877.38</td>\n",
       "      <td>1</td>\n",
       "      <td>1</td>\n",
       "      <td>1</td>\n",
       "      <td>33642.21</td>\n",
       "      <td>0.0</td>\n",
       "    </tr>\n",
       "    <tr>\n",
       "      <th>4</th>\n",
       "      <td>580</td>\n",
       "      <td>France</td>\n",
       "      <td>56</td>\n",
       "      <td>1</td>\n",
       "      <td>131368.30</td>\n",
       "      <td>1</td>\n",
       "      <td>1</td>\n",
       "      <td>0</td>\n",
       "      <td>106918.67</td>\n",
       "      <td>0.0</td>\n",
       "    </tr>\n",
       "  </tbody>\n",
       "</table>\n",
       "</div>"
      ],
      "text/plain": [
       "   CreditScore Geography  Age  Tenure    Balance  NumOfProducts  HasCrCard  \\\n",
       "0          549   Germany   49       6  124829.16              1          0   \n",
       "1          694    France   38       5  195926.39              1          1   \n",
       "2          660    France   34       8  106486.66              2          0   \n",
       "3          632   Germany   41       3   81877.38              1          1   \n",
       "4          580    France   56       1  131368.30              1          1   \n",
       "\n",
       "   IsActiveMember  EstimatedSalary  x0_Male  \n",
       "0               1         93551.36      0.0  \n",
       "1               1         85522.84      0.0  \n",
       "2               1        182262.66      1.0  \n",
       "3               1         33642.21      0.0  \n",
       "4               0        106918.67      0.0  "
      ]
     },
     "execution_count": 16,
     "metadata": {},
     "output_type": "execute_result"
    }
   ],
   "source": [
    "features_train = features_train.join(enc_train_gender)\n",
    "features_train.drop('Gender', axis = 1, inplace = True)\n",
    "features_train.head()"
   ]
  },
  {
   "cell_type": "code",
   "execution_count": 17,
   "metadata": {},
   "outputs": [
    {
     "name": "stdout",
     "output_type": "stream",
     "text": [
      "<class 'pandas.core.frame.DataFrame'>\n",
      "RangeIndex: 6000 entries, 0 to 5999\n",
      "Data columns (total 10 columns):\n",
      " #   Column           Non-Null Count  Dtype  \n",
      "---  ------           --------------  -----  \n",
      " 0   CreditScore      6000 non-null   int64  \n",
      " 1   Geography        6000 non-null   object \n",
      " 2   Age              6000 non-null   int64  \n",
      " 3   Tenure           6000 non-null   int64  \n",
      " 4   Balance          6000 non-null   float64\n",
      " 5   NumOfProducts    6000 non-null   int64  \n",
      " 6   HasCrCard        6000 non-null   int64  \n",
      " 7   IsActiveMember   6000 non-null   int64  \n",
      " 8   EstimatedSalary  6000 non-null   float64\n",
      " 9   x0_Male          6000 non-null   float64\n",
      "dtypes: float64(3), int64(6), object(1)\n",
      "memory usage: 468.9+ KB\n"
     ]
    }
   ],
   "source": [
    "features_train.info()"
   ]
  },
  {
   "cell_type": "code",
   "execution_count": 18,
   "metadata": {},
   "outputs": [
    {
     "name": "stderr",
     "output_type": "stream",
     "text": [
      "/Users/olesyashtangey/opt/anaconda3/lib/python3.9/site-packages/sklearn/utils/deprecation.py:87: FutureWarning: Function get_feature_names is deprecated; get_feature_names is deprecated in 1.0 and will be removed in 1.2. Please use get_feature_names_out instead.\n",
      "  warnings.warn(msg, category=FutureWarning)\n"
     ]
    },
    {
     "data": {
      "text/html": [
       "<div>\n",
       "<style scoped>\n",
       "    .dataframe tbody tr th:only-of-type {\n",
       "        vertical-align: middle;\n",
       "    }\n",
       "\n",
       "    .dataframe tbody tr th {\n",
       "        vertical-align: top;\n",
       "    }\n",
       "\n",
       "    .dataframe thead th {\n",
       "        text-align: right;\n",
       "    }\n",
       "</style>\n",
       "<table border=\"1\" class=\"dataframe\">\n",
       "  <thead>\n",
       "    <tr style=\"text-align: right;\">\n",
       "      <th></th>\n",
       "      <th>x0_Male</th>\n",
       "    </tr>\n",
       "  </thead>\n",
       "  <tbody>\n",
       "    <tr>\n",
       "      <th>0</th>\n",
       "      <td>0.0</td>\n",
       "    </tr>\n",
       "    <tr>\n",
       "      <th>1</th>\n",
       "      <td>1.0</td>\n",
       "    </tr>\n",
       "    <tr>\n",
       "      <th>2</th>\n",
       "      <td>1.0</td>\n",
       "    </tr>\n",
       "    <tr>\n",
       "      <th>3</th>\n",
       "      <td>0.0</td>\n",
       "    </tr>\n",
       "    <tr>\n",
       "      <th>4</th>\n",
       "      <td>0.0</td>\n",
       "    </tr>\n",
       "  </tbody>\n",
       "</table>\n",
       "</div>"
      ],
      "text/plain": [
       "   x0_Male\n",
       "0      0.0\n",
       "1      1.0\n",
       "2      1.0\n",
       "3      0.0\n",
       "4      0.0"
      ]
     },
     "execution_count": 18,
     "metadata": {},
     "output_type": "execute_result"
    }
   ],
   "source": [
    "enc_valid_gender = pd.DataFrame(enc_gender.transform(features_valid[['Gender']]))\n",
    "enc_valid_gender.columns = enc_gender.get_feature_names()\n",
    "enc_valid_gender.head()"
   ]
  },
  {
   "cell_type": "code",
   "execution_count": 19,
   "metadata": {},
   "outputs": [
    {
     "data": {
      "text/html": [
       "<div>\n",
       "<style scoped>\n",
       "    .dataframe tbody tr th:only-of-type {\n",
       "        vertical-align: middle;\n",
       "    }\n",
       "\n",
       "    .dataframe tbody tr th {\n",
       "        vertical-align: top;\n",
       "    }\n",
       "\n",
       "    .dataframe thead th {\n",
       "        text-align: right;\n",
       "    }\n",
       "</style>\n",
       "<table border=\"1\" class=\"dataframe\">\n",
       "  <thead>\n",
       "    <tr style=\"text-align: right;\">\n",
       "      <th></th>\n",
       "      <th>CreditScore</th>\n",
       "      <th>Geography</th>\n",
       "      <th>Age</th>\n",
       "      <th>Tenure</th>\n",
       "      <th>Balance</th>\n",
       "      <th>NumOfProducts</th>\n",
       "      <th>HasCrCard</th>\n",
       "      <th>IsActiveMember</th>\n",
       "      <th>EstimatedSalary</th>\n",
       "      <th>x0_Male</th>\n",
       "    </tr>\n",
       "  </thead>\n",
       "  <tbody>\n",
       "    <tr>\n",
       "      <th>0</th>\n",
       "      <td>601</td>\n",
       "      <td>Germany</td>\n",
       "      <td>54</td>\n",
       "      <td>1</td>\n",
       "      <td>131039.97</td>\n",
       "      <td>2</td>\n",
       "      <td>1</td>\n",
       "      <td>1</td>\n",
       "      <td>199661.50</td>\n",
       "      <td>0.0</td>\n",
       "    </tr>\n",
       "    <tr>\n",
       "      <th>1</th>\n",
       "      <td>534</td>\n",
       "      <td>France</td>\n",
       "      <td>24</td>\n",
       "      <td>1</td>\n",
       "      <td>0.00</td>\n",
       "      <td>1</td>\n",
       "      <td>1</td>\n",
       "      <td>1</td>\n",
       "      <td>169653.32</td>\n",
       "      <td>1.0</td>\n",
       "    </tr>\n",
       "    <tr>\n",
       "      <th>2</th>\n",
       "      <td>527</td>\n",
       "      <td>France</td>\n",
       "      <td>47</td>\n",
       "      <td>1</td>\n",
       "      <td>0.00</td>\n",
       "      <td>1</td>\n",
       "      <td>1</td>\n",
       "      <td>0</td>\n",
       "      <td>21312.16</td>\n",
       "      <td>1.0</td>\n",
       "    </tr>\n",
       "    <tr>\n",
       "      <th>3</th>\n",
       "      <td>730</td>\n",
       "      <td>Spain</td>\n",
       "      <td>52</td>\n",
       "      <td>7</td>\n",
       "      <td>0.00</td>\n",
       "      <td>2</td>\n",
       "      <td>0</td>\n",
       "      <td>1</td>\n",
       "      <td>122398.84</td>\n",
       "      <td>0.0</td>\n",
       "    </tr>\n",
       "    <tr>\n",
       "      <th>4</th>\n",
       "      <td>714</td>\n",
       "      <td>Germany</td>\n",
       "      <td>49</td>\n",
       "      <td>4</td>\n",
       "      <td>93059.34</td>\n",
       "      <td>1</td>\n",
       "      <td>1</td>\n",
       "      <td>0</td>\n",
       "      <td>7571.51</td>\n",
       "      <td>0.0</td>\n",
       "    </tr>\n",
       "  </tbody>\n",
       "</table>\n",
       "</div>"
      ],
      "text/plain": [
       "   CreditScore Geography  Age  Tenure    Balance  NumOfProducts  HasCrCard  \\\n",
       "0          601   Germany   54       1  131039.97              2          1   \n",
       "1          534    France   24       1       0.00              1          1   \n",
       "2          527    France   47       1       0.00              1          1   \n",
       "3          730     Spain   52       7       0.00              2          0   \n",
       "4          714   Germany   49       4   93059.34              1          1   \n",
       "\n",
       "   IsActiveMember  EstimatedSalary  x0_Male  \n",
       "0               1        199661.50      0.0  \n",
       "1               1        169653.32      1.0  \n",
       "2               0         21312.16      1.0  \n",
       "3               1        122398.84      0.0  \n",
       "4               0          7571.51      0.0  "
      ]
     },
     "execution_count": 19,
     "metadata": {},
     "output_type": "execute_result"
    }
   ],
   "source": [
    "features_valid = features_valid.join(enc_valid_gender)\n",
    "features_valid.drop('Gender', axis = 1, inplace = True)\n",
    "features_valid.head()"
   ]
  },
  {
   "cell_type": "code",
   "execution_count": 20,
   "metadata": {},
   "outputs": [
    {
     "name": "stdout",
     "output_type": "stream",
     "text": [
      "<class 'pandas.core.frame.DataFrame'>\n",
      "RangeIndex: 2000 entries, 0 to 1999\n",
      "Data columns (total 10 columns):\n",
      " #   Column           Non-Null Count  Dtype  \n",
      "---  ------           --------------  -----  \n",
      " 0   CreditScore      2000 non-null   int64  \n",
      " 1   Geography        2000 non-null   object \n",
      " 2   Age              2000 non-null   int64  \n",
      " 3   Tenure           2000 non-null   int64  \n",
      " 4   Balance          2000 non-null   float64\n",
      " 5   NumOfProducts    2000 non-null   int64  \n",
      " 6   HasCrCard        2000 non-null   int64  \n",
      " 7   IsActiveMember   2000 non-null   int64  \n",
      " 8   EstimatedSalary  2000 non-null   float64\n",
      " 9   x0_Male          2000 non-null   float64\n",
      "dtypes: float64(3), int64(6), object(1)\n",
      "memory usage: 156.4+ KB\n"
     ]
    }
   ],
   "source": [
    "features_valid.info()"
   ]
  },
  {
   "cell_type": "code",
   "execution_count": 21,
   "metadata": {},
   "outputs": [
    {
     "name": "stderr",
     "output_type": "stream",
     "text": [
      "/Users/olesyashtangey/opt/anaconda3/lib/python3.9/site-packages/sklearn/utils/deprecation.py:87: FutureWarning: Function get_feature_names is deprecated; get_feature_names is deprecated in 1.0 and will be removed in 1.2. Please use get_feature_names_out instead.\n",
      "  warnings.warn(msg, category=FutureWarning)\n"
     ]
    },
    {
     "data": {
      "text/html": [
       "<div>\n",
       "<style scoped>\n",
       "    .dataframe tbody tr th:only-of-type {\n",
       "        vertical-align: middle;\n",
       "    }\n",
       "\n",
       "    .dataframe tbody tr th {\n",
       "        vertical-align: top;\n",
       "    }\n",
       "\n",
       "    .dataframe thead th {\n",
       "        text-align: right;\n",
       "    }\n",
       "</style>\n",
       "<table border=\"1\" class=\"dataframe\">\n",
       "  <thead>\n",
       "    <tr style=\"text-align: right;\">\n",
       "      <th></th>\n",
       "      <th>x0_Male</th>\n",
       "    </tr>\n",
       "  </thead>\n",
       "  <tbody>\n",
       "    <tr>\n",
       "      <th>0</th>\n",
       "      <td>0.0</td>\n",
       "    </tr>\n",
       "    <tr>\n",
       "      <th>1</th>\n",
       "      <td>1.0</td>\n",
       "    </tr>\n",
       "    <tr>\n",
       "      <th>2</th>\n",
       "      <td>0.0</td>\n",
       "    </tr>\n",
       "    <tr>\n",
       "      <th>3</th>\n",
       "      <td>1.0</td>\n",
       "    </tr>\n",
       "    <tr>\n",
       "      <th>4</th>\n",
       "      <td>0.0</td>\n",
       "    </tr>\n",
       "  </tbody>\n",
       "</table>\n",
       "</div>"
      ],
      "text/plain": [
       "   x0_Male\n",
       "0      0.0\n",
       "1      1.0\n",
       "2      0.0\n",
       "3      1.0\n",
       "4      0.0"
      ]
     },
     "execution_count": 21,
     "metadata": {},
     "output_type": "execute_result"
    }
   ],
   "source": [
    "enc_test_gender = pd.DataFrame(enc_gender.transform(features_test[['Gender']]))\n",
    "enc_test_gender.columns = enc_gender.get_feature_names()\n",
    "enc_test_gender.head()"
   ]
  },
  {
   "cell_type": "code",
   "execution_count": 22,
   "metadata": {},
   "outputs": [
    {
     "data": {
      "text/html": [
       "<div>\n",
       "<style scoped>\n",
       "    .dataframe tbody tr th:only-of-type {\n",
       "        vertical-align: middle;\n",
       "    }\n",
       "\n",
       "    .dataframe tbody tr th {\n",
       "        vertical-align: top;\n",
       "    }\n",
       "\n",
       "    .dataframe thead th {\n",
       "        text-align: right;\n",
       "    }\n",
       "</style>\n",
       "<table border=\"1\" class=\"dataframe\">\n",
       "  <thead>\n",
       "    <tr style=\"text-align: right;\">\n",
       "      <th></th>\n",
       "      <th>CreditScore</th>\n",
       "      <th>Geography</th>\n",
       "      <th>Age</th>\n",
       "      <th>Tenure</th>\n",
       "      <th>Balance</th>\n",
       "      <th>NumOfProducts</th>\n",
       "      <th>HasCrCard</th>\n",
       "      <th>IsActiveMember</th>\n",
       "      <th>EstimatedSalary</th>\n",
       "      <th>x0_Male</th>\n",
       "    </tr>\n",
       "  </thead>\n",
       "  <tbody>\n",
       "    <tr>\n",
       "      <th>0</th>\n",
       "      <td>502</td>\n",
       "      <td>France</td>\n",
       "      <td>64</td>\n",
       "      <td>3</td>\n",
       "      <td>139663.37</td>\n",
       "      <td>1</td>\n",
       "      <td>0</td>\n",
       "      <td>1</td>\n",
       "      <td>100995.11</td>\n",
       "      <td>0.0</td>\n",
       "    </tr>\n",
       "    <tr>\n",
       "      <th>1</th>\n",
       "      <td>707</td>\n",
       "      <td>France</td>\n",
       "      <td>58</td>\n",
       "      <td>6</td>\n",
       "      <td>89685.92</td>\n",
       "      <td>1</td>\n",
       "      <td>0</td>\n",
       "      <td>1</td>\n",
       "      <td>126471.13</td>\n",
       "      <td>1.0</td>\n",
       "    </tr>\n",
       "    <tr>\n",
       "      <th>2</th>\n",
       "      <td>619</td>\n",
       "      <td>France</td>\n",
       "      <td>35</td>\n",
       "      <td>8</td>\n",
       "      <td>132292.63</td>\n",
       "      <td>1</td>\n",
       "      <td>1</td>\n",
       "      <td>0</td>\n",
       "      <td>65682.93</td>\n",
       "      <td>0.0</td>\n",
       "    </tr>\n",
       "    <tr>\n",
       "      <th>3</th>\n",
       "      <td>769</td>\n",
       "      <td>France</td>\n",
       "      <td>31</td>\n",
       "      <td>4</td>\n",
       "      <td>61297.05</td>\n",
       "      <td>2</td>\n",
       "      <td>1</td>\n",
       "      <td>1</td>\n",
       "      <td>7118.02</td>\n",
       "      <td>1.0</td>\n",
       "    </tr>\n",
       "    <tr>\n",
       "      <th>4</th>\n",
       "      <td>637</td>\n",
       "      <td>France</td>\n",
       "      <td>38</td>\n",
       "      <td>3</td>\n",
       "      <td>104339.56</td>\n",
       "      <td>1</td>\n",
       "      <td>0</td>\n",
       "      <td>0</td>\n",
       "      <td>119882.86</td>\n",
       "      <td>0.0</td>\n",
       "    </tr>\n",
       "  </tbody>\n",
       "</table>\n",
       "</div>"
      ],
      "text/plain": [
       "   CreditScore Geography  Age  Tenure    Balance  NumOfProducts  HasCrCard  \\\n",
       "0          502    France   64       3  139663.37              1          0   \n",
       "1          707    France   58       6   89685.92              1          0   \n",
       "2          619    France   35       8  132292.63              1          1   \n",
       "3          769    France   31       4   61297.05              2          1   \n",
       "4          637    France   38       3  104339.56              1          0   \n",
       "\n",
       "   IsActiveMember  EstimatedSalary  x0_Male  \n",
       "0               1        100995.11      0.0  \n",
       "1               1        126471.13      1.0  \n",
       "2               0         65682.93      0.0  \n",
       "3               1          7118.02      1.0  \n",
       "4               0        119882.86      0.0  "
      ]
     },
     "execution_count": 22,
     "metadata": {},
     "output_type": "execute_result"
    }
   ],
   "source": [
    "features_test = features_test.join(enc_test_gender)\n",
    "features_test.drop('Gender', axis = 1, inplace = True)\n",
    "features_test.head()"
   ]
  },
  {
   "cell_type": "code",
   "execution_count": 23,
   "metadata": {},
   "outputs": [
    {
     "name": "stdout",
     "output_type": "stream",
     "text": [
      "<class 'pandas.core.frame.DataFrame'>\n",
      "RangeIndex: 2000 entries, 0 to 1999\n",
      "Data columns (total 10 columns):\n",
      " #   Column           Non-Null Count  Dtype  \n",
      "---  ------           --------------  -----  \n",
      " 0   CreditScore      2000 non-null   int64  \n",
      " 1   Geography        2000 non-null   object \n",
      " 2   Age              2000 non-null   int64  \n",
      " 3   Tenure           2000 non-null   int64  \n",
      " 4   Balance          2000 non-null   float64\n",
      " 5   NumOfProducts    2000 non-null   int64  \n",
      " 6   HasCrCard        2000 non-null   int64  \n",
      " 7   IsActiveMember   2000 non-null   int64  \n",
      " 8   EstimatedSalary  2000 non-null   float64\n",
      " 9   x0_Male          2000 non-null   float64\n",
      "dtypes: float64(3), int64(6), object(1)\n",
      "memory usage: 156.4+ KB\n"
     ]
    }
   ],
   "source": [
    "features_test.info()"
   ]
  },
  {
   "cell_type": "markdown",
   "metadata": {},
   "source": [
    "### Кодирование столбца `Geography`"
   ]
  },
  {
   "cell_type": "code",
   "execution_count": 24,
   "metadata": {},
   "outputs": [],
   "source": [
    "enc_geography = OneHotEncoder(drop = 'first', handle_unknown='error', sparse=False)"
   ]
  },
  {
   "cell_type": "code",
   "execution_count": 25,
   "metadata": {},
   "outputs": [
    {
     "name": "stderr",
     "output_type": "stream",
     "text": [
      "/Users/olesyashtangey/opt/anaconda3/lib/python3.9/site-packages/sklearn/utils/deprecation.py:87: FutureWarning: Function get_feature_names is deprecated; get_feature_names is deprecated in 1.0 and will be removed in 1.2. Please use get_feature_names_out instead.\n",
      "  warnings.warn(msg, category=FutureWarning)\n"
     ]
    },
    {
     "data": {
      "text/html": [
       "<div>\n",
       "<style scoped>\n",
       "    .dataframe tbody tr th:only-of-type {\n",
       "        vertical-align: middle;\n",
       "    }\n",
       "\n",
       "    .dataframe tbody tr th {\n",
       "        vertical-align: top;\n",
       "    }\n",
       "\n",
       "    .dataframe thead th {\n",
       "        text-align: right;\n",
       "    }\n",
       "</style>\n",
       "<table border=\"1\" class=\"dataframe\">\n",
       "  <thead>\n",
       "    <tr style=\"text-align: right;\">\n",
       "      <th></th>\n",
       "      <th>x0_Germany</th>\n",
       "      <th>x0_Spain</th>\n",
       "    </tr>\n",
       "  </thead>\n",
       "  <tbody>\n",
       "    <tr>\n",
       "      <th>0</th>\n",
       "      <td>1.0</td>\n",
       "      <td>0.0</td>\n",
       "    </tr>\n",
       "    <tr>\n",
       "      <th>1</th>\n",
       "      <td>0.0</td>\n",
       "      <td>0.0</td>\n",
       "    </tr>\n",
       "    <tr>\n",
       "      <th>2</th>\n",
       "      <td>0.0</td>\n",
       "      <td>0.0</td>\n",
       "    </tr>\n",
       "    <tr>\n",
       "      <th>3</th>\n",
       "      <td>1.0</td>\n",
       "      <td>0.0</td>\n",
       "    </tr>\n",
       "    <tr>\n",
       "      <th>4</th>\n",
       "      <td>0.0</td>\n",
       "      <td>0.0</td>\n",
       "    </tr>\n",
       "  </tbody>\n",
       "</table>\n",
       "</div>"
      ],
      "text/plain": [
       "   x0_Germany  x0_Spain\n",
       "0         1.0       0.0\n",
       "1         0.0       0.0\n",
       "2         0.0       0.0\n",
       "3         1.0       0.0\n",
       "4         0.0       0.0"
      ]
     },
     "execution_count": 25,
     "metadata": {},
     "output_type": "execute_result"
    }
   ],
   "source": [
    "enc_train_geo = pd.DataFrame(enc_geography.fit_transform(features_train[['Geography']]))\n",
    "enc_train_geo.columns = enc_geography.get_feature_names()\n",
    "enc_train_geo.head()"
   ]
  },
  {
   "cell_type": "code",
   "execution_count": 26,
   "metadata": {},
   "outputs": [
    {
     "data": {
      "text/html": [
       "<div>\n",
       "<style scoped>\n",
       "    .dataframe tbody tr th:only-of-type {\n",
       "        vertical-align: middle;\n",
       "    }\n",
       "\n",
       "    .dataframe tbody tr th {\n",
       "        vertical-align: top;\n",
       "    }\n",
       "\n",
       "    .dataframe thead th {\n",
       "        text-align: right;\n",
       "    }\n",
       "</style>\n",
       "<table border=\"1\" class=\"dataframe\">\n",
       "  <thead>\n",
       "    <tr style=\"text-align: right;\">\n",
       "      <th></th>\n",
       "      <th>CreditScore</th>\n",
       "      <th>Age</th>\n",
       "      <th>Tenure</th>\n",
       "      <th>Balance</th>\n",
       "      <th>NumOfProducts</th>\n",
       "      <th>HasCrCard</th>\n",
       "      <th>IsActiveMember</th>\n",
       "      <th>EstimatedSalary</th>\n",
       "      <th>x0_Male</th>\n",
       "      <th>x0_Germany</th>\n",
       "      <th>x0_Spain</th>\n",
       "    </tr>\n",
       "  </thead>\n",
       "  <tbody>\n",
       "    <tr>\n",
       "      <th>0</th>\n",
       "      <td>549</td>\n",
       "      <td>49</td>\n",
       "      <td>6</td>\n",
       "      <td>124829.16</td>\n",
       "      <td>1</td>\n",
       "      <td>0</td>\n",
       "      <td>1</td>\n",
       "      <td>93551.36</td>\n",
       "      <td>0.0</td>\n",
       "      <td>1.0</td>\n",
       "      <td>0.0</td>\n",
       "    </tr>\n",
       "    <tr>\n",
       "      <th>1</th>\n",
       "      <td>694</td>\n",
       "      <td>38</td>\n",
       "      <td>5</td>\n",
       "      <td>195926.39</td>\n",
       "      <td>1</td>\n",
       "      <td>1</td>\n",
       "      <td>1</td>\n",
       "      <td>85522.84</td>\n",
       "      <td>0.0</td>\n",
       "      <td>0.0</td>\n",
       "      <td>0.0</td>\n",
       "    </tr>\n",
       "    <tr>\n",
       "      <th>2</th>\n",
       "      <td>660</td>\n",
       "      <td>34</td>\n",
       "      <td>8</td>\n",
       "      <td>106486.66</td>\n",
       "      <td>2</td>\n",
       "      <td>0</td>\n",
       "      <td>1</td>\n",
       "      <td>182262.66</td>\n",
       "      <td>1.0</td>\n",
       "      <td>0.0</td>\n",
       "      <td>0.0</td>\n",
       "    </tr>\n",
       "    <tr>\n",
       "      <th>3</th>\n",
       "      <td>632</td>\n",
       "      <td>41</td>\n",
       "      <td>3</td>\n",
       "      <td>81877.38</td>\n",
       "      <td>1</td>\n",
       "      <td>1</td>\n",
       "      <td>1</td>\n",
       "      <td>33642.21</td>\n",
       "      <td>0.0</td>\n",
       "      <td>1.0</td>\n",
       "      <td>0.0</td>\n",
       "    </tr>\n",
       "    <tr>\n",
       "      <th>4</th>\n",
       "      <td>580</td>\n",
       "      <td>56</td>\n",
       "      <td>1</td>\n",
       "      <td>131368.30</td>\n",
       "      <td>1</td>\n",
       "      <td>1</td>\n",
       "      <td>0</td>\n",
       "      <td>106918.67</td>\n",
       "      <td>0.0</td>\n",
       "      <td>0.0</td>\n",
       "      <td>0.0</td>\n",
       "    </tr>\n",
       "  </tbody>\n",
       "</table>\n",
       "</div>"
      ],
      "text/plain": [
       "   CreditScore  Age  Tenure    Balance  NumOfProducts  HasCrCard  \\\n",
       "0          549   49       6  124829.16              1          0   \n",
       "1          694   38       5  195926.39              1          1   \n",
       "2          660   34       8  106486.66              2          0   \n",
       "3          632   41       3   81877.38              1          1   \n",
       "4          580   56       1  131368.30              1          1   \n",
       "\n",
       "   IsActiveMember  EstimatedSalary  x0_Male  x0_Germany  x0_Spain  \n",
       "0               1         93551.36      0.0         1.0       0.0  \n",
       "1               1         85522.84      0.0         0.0       0.0  \n",
       "2               1        182262.66      1.0         0.0       0.0  \n",
       "3               1         33642.21      0.0         1.0       0.0  \n",
       "4               0        106918.67      0.0         0.0       0.0  "
      ]
     },
     "execution_count": 26,
     "metadata": {},
     "output_type": "execute_result"
    }
   ],
   "source": [
    "features_train = features_train.join(enc_train_geo)\n",
    "features_train.drop('Geography', axis = 1, inplace = True)\n",
    "features_train.head()"
   ]
  },
  {
   "cell_type": "code",
   "execution_count": 27,
   "metadata": {},
   "outputs": [
    {
     "name": "stdout",
     "output_type": "stream",
     "text": [
      "<class 'pandas.core.frame.DataFrame'>\n",
      "RangeIndex: 6000 entries, 0 to 5999\n",
      "Data columns (total 11 columns):\n",
      " #   Column           Non-Null Count  Dtype  \n",
      "---  ------           --------------  -----  \n",
      " 0   CreditScore      6000 non-null   int64  \n",
      " 1   Age              6000 non-null   int64  \n",
      " 2   Tenure           6000 non-null   int64  \n",
      " 3   Balance          6000 non-null   float64\n",
      " 4   NumOfProducts    6000 non-null   int64  \n",
      " 5   HasCrCard        6000 non-null   int64  \n",
      " 6   IsActiveMember   6000 non-null   int64  \n",
      " 7   EstimatedSalary  6000 non-null   float64\n",
      " 8   x0_Male          6000 non-null   float64\n",
      " 9   x0_Germany       6000 non-null   float64\n",
      " 10  x0_Spain         6000 non-null   float64\n",
      "dtypes: float64(5), int64(6)\n",
      "memory usage: 515.8 KB\n"
     ]
    }
   ],
   "source": [
    "features_train.info()"
   ]
  },
  {
   "cell_type": "code",
   "execution_count": 28,
   "metadata": {},
   "outputs": [
    {
     "name": "stderr",
     "output_type": "stream",
     "text": [
      "/Users/olesyashtangey/opt/anaconda3/lib/python3.9/site-packages/sklearn/utils/deprecation.py:87: FutureWarning: Function get_feature_names is deprecated; get_feature_names is deprecated in 1.0 and will be removed in 1.2. Please use get_feature_names_out instead.\n",
      "  warnings.warn(msg, category=FutureWarning)\n"
     ]
    },
    {
     "data": {
      "text/html": [
       "<div>\n",
       "<style scoped>\n",
       "    .dataframe tbody tr th:only-of-type {\n",
       "        vertical-align: middle;\n",
       "    }\n",
       "\n",
       "    .dataframe tbody tr th {\n",
       "        vertical-align: top;\n",
       "    }\n",
       "\n",
       "    .dataframe thead th {\n",
       "        text-align: right;\n",
       "    }\n",
       "</style>\n",
       "<table border=\"1\" class=\"dataframe\">\n",
       "  <thead>\n",
       "    <tr style=\"text-align: right;\">\n",
       "      <th></th>\n",
       "      <th>x0_Germany</th>\n",
       "      <th>x0_Spain</th>\n",
       "    </tr>\n",
       "  </thead>\n",
       "  <tbody>\n",
       "    <tr>\n",
       "      <th>0</th>\n",
       "      <td>1.0</td>\n",
       "      <td>0.0</td>\n",
       "    </tr>\n",
       "    <tr>\n",
       "      <th>1</th>\n",
       "      <td>0.0</td>\n",
       "      <td>0.0</td>\n",
       "    </tr>\n",
       "    <tr>\n",
       "      <th>2</th>\n",
       "      <td>0.0</td>\n",
       "      <td>0.0</td>\n",
       "    </tr>\n",
       "    <tr>\n",
       "      <th>3</th>\n",
       "      <td>0.0</td>\n",
       "      <td>1.0</td>\n",
       "    </tr>\n",
       "    <tr>\n",
       "      <th>4</th>\n",
       "      <td>1.0</td>\n",
       "      <td>0.0</td>\n",
       "    </tr>\n",
       "  </tbody>\n",
       "</table>\n",
       "</div>"
      ],
      "text/plain": [
       "   x0_Germany  x0_Spain\n",
       "0         1.0       0.0\n",
       "1         0.0       0.0\n",
       "2         0.0       0.0\n",
       "3         0.0       1.0\n",
       "4         1.0       0.0"
      ]
     },
     "execution_count": 28,
     "metadata": {},
     "output_type": "execute_result"
    }
   ],
   "source": [
    "enc_valid_geo = pd.DataFrame(enc_geography.transform(features_valid[['Geography']]))\n",
    "enc_valid_geo.columns = enc_geography.get_feature_names()\n",
    "enc_valid_geo.head()"
   ]
  },
  {
   "cell_type": "code",
   "execution_count": 29,
   "metadata": {},
   "outputs": [
    {
     "data": {
      "text/html": [
       "<div>\n",
       "<style scoped>\n",
       "    .dataframe tbody tr th:only-of-type {\n",
       "        vertical-align: middle;\n",
       "    }\n",
       "\n",
       "    .dataframe tbody tr th {\n",
       "        vertical-align: top;\n",
       "    }\n",
       "\n",
       "    .dataframe thead th {\n",
       "        text-align: right;\n",
       "    }\n",
       "</style>\n",
       "<table border=\"1\" class=\"dataframe\">\n",
       "  <thead>\n",
       "    <tr style=\"text-align: right;\">\n",
       "      <th></th>\n",
       "      <th>CreditScore</th>\n",
       "      <th>Age</th>\n",
       "      <th>Tenure</th>\n",
       "      <th>Balance</th>\n",
       "      <th>NumOfProducts</th>\n",
       "      <th>HasCrCard</th>\n",
       "      <th>IsActiveMember</th>\n",
       "      <th>EstimatedSalary</th>\n",
       "      <th>x0_Male</th>\n",
       "      <th>x0_Germany</th>\n",
       "      <th>x0_Spain</th>\n",
       "    </tr>\n",
       "  </thead>\n",
       "  <tbody>\n",
       "    <tr>\n",
       "      <th>0</th>\n",
       "      <td>601</td>\n",
       "      <td>54</td>\n",
       "      <td>1</td>\n",
       "      <td>131039.97</td>\n",
       "      <td>2</td>\n",
       "      <td>1</td>\n",
       "      <td>1</td>\n",
       "      <td>199661.50</td>\n",
       "      <td>0.0</td>\n",
       "      <td>1.0</td>\n",
       "      <td>0.0</td>\n",
       "    </tr>\n",
       "    <tr>\n",
       "      <th>1</th>\n",
       "      <td>534</td>\n",
       "      <td>24</td>\n",
       "      <td>1</td>\n",
       "      <td>0.00</td>\n",
       "      <td>1</td>\n",
       "      <td>1</td>\n",
       "      <td>1</td>\n",
       "      <td>169653.32</td>\n",
       "      <td>1.0</td>\n",
       "      <td>0.0</td>\n",
       "      <td>0.0</td>\n",
       "    </tr>\n",
       "    <tr>\n",
       "      <th>2</th>\n",
       "      <td>527</td>\n",
       "      <td>47</td>\n",
       "      <td>1</td>\n",
       "      <td>0.00</td>\n",
       "      <td>1</td>\n",
       "      <td>1</td>\n",
       "      <td>0</td>\n",
       "      <td>21312.16</td>\n",
       "      <td>1.0</td>\n",
       "      <td>0.0</td>\n",
       "      <td>0.0</td>\n",
       "    </tr>\n",
       "    <tr>\n",
       "      <th>3</th>\n",
       "      <td>730</td>\n",
       "      <td>52</td>\n",
       "      <td>7</td>\n",
       "      <td>0.00</td>\n",
       "      <td>2</td>\n",
       "      <td>0</td>\n",
       "      <td>1</td>\n",
       "      <td>122398.84</td>\n",
       "      <td>0.0</td>\n",
       "      <td>0.0</td>\n",
       "      <td>1.0</td>\n",
       "    </tr>\n",
       "    <tr>\n",
       "      <th>4</th>\n",
       "      <td>714</td>\n",
       "      <td>49</td>\n",
       "      <td>4</td>\n",
       "      <td>93059.34</td>\n",
       "      <td>1</td>\n",
       "      <td>1</td>\n",
       "      <td>0</td>\n",
       "      <td>7571.51</td>\n",
       "      <td>0.0</td>\n",
       "      <td>1.0</td>\n",
       "      <td>0.0</td>\n",
       "    </tr>\n",
       "  </tbody>\n",
       "</table>\n",
       "</div>"
      ],
      "text/plain": [
       "   CreditScore  Age  Tenure    Balance  NumOfProducts  HasCrCard  \\\n",
       "0          601   54       1  131039.97              2          1   \n",
       "1          534   24       1       0.00              1          1   \n",
       "2          527   47       1       0.00              1          1   \n",
       "3          730   52       7       0.00              2          0   \n",
       "4          714   49       4   93059.34              1          1   \n",
       "\n",
       "   IsActiveMember  EstimatedSalary  x0_Male  x0_Germany  x0_Spain  \n",
       "0               1        199661.50      0.0         1.0       0.0  \n",
       "1               1        169653.32      1.0         0.0       0.0  \n",
       "2               0         21312.16      1.0         0.0       0.0  \n",
       "3               1        122398.84      0.0         0.0       1.0  \n",
       "4               0          7571.51      0.0         1.0       0.0  "
      ]
     },
     "execution_count": 29,
     "metadata": {},
     "output_type": "execute_result"
    }
   ],
   "source": [
    "features_valid = features_valid.join(enc_valid_geo)\n",
    "features_valid.drop('Geography', axis = 1, inplace = True)\n",
    "features_valid.head()"
   ]
  },
  {
   "cell_type": "code",
   "execution_count": 30,
   "metadata": {},
   "outputs": [
    {
     "name": "stdout",
     "output_type": "stream",
     "text": [
      "<class 'pandas.core.frame.DataFrame'>\n",
      "RangeIndex: 2000 entries, 0 to 1999\n",
      "Data columns (total 11 columns):\n",
      " #   Column           Non-Null Count  Dtype  \n",
      "---  ------           --------------  -----  \n",
      " 0   CreditScore      2000 non-null   int64  \n",
      " 1   Age              2000 non-null   int64  \n",
      " 2   Tenure           2000 non-null   int64  \n",
      " 3   Balance          2000 non-null   float64\n",
      " 4   NumOfProducts    2000 non-null   int64  \n",
      " 5   HasCrCard        2000 non-null   int64  \n",
      " 6   IsActiveMember   2000 non-null   int64  \n",
      " 7   EstimatedSalary  2000 non-null   float64\n",
      " 8   x0_Male          2000 non-null   float64\n",
      " 9   x0_Germany       2000 non-null   float64\n",
      " 10  x0_Spain         2000 non-null   float64\n",
      "dtypes: float64(5), int64(6)\n",
      "memory usage: 172.0 KB\n"
     ]
    }
   ],
   "source": [
    "features_valid.info()"
   ]
  },
  {
   "cell_type": "code",
   "execution_count": 31,
   "metadata": {},
   "outputs": [
    {
     "name": "stderr",
     "output_type": "stream",
     "text": [
      "/Users/olesyashtangey/opt/anaconda3/lib/python3.9/site-packages/sklearn/utils/deprecation.py:87: FutureWarning: Function get_feature_names is deprecated; get_feature_names is deprecated in 1.0 and will be removed in 1.2. Please use get_feature_names_out instead.\n",
      "  warnings.warn(msg, category=FutureWarning)\n"
     ]
    },
    {
     "data": {
      "text/html": [
       "<div>\n",
       "<style scoped>\n",
       "    .dataframe tbody tr th:only-of-type {\n",
       "        vertical-align: middle;\n",
       "    }\n",
       "\n",
       "    .dataframe tbody tr th {\n",
       "        vertical-align: top;\n",
       "    }\n",
       "\n",
       "    .dataframe thead th {\n",
       "        text-align: right;\n",
       "    }\n",
       "</style>\n",
       "<table border=\"1\" class=\"dataframe\">\n",
       "  <thead>\n",
       "    <tr style=\"text-align: right;\">\n",
       "      <th></th>\n",
       "      <th>x0_Germany</th>\n",
       "      <th>x0_Spain</th>\n",
       "    </tr>\n",
       "  </thead>\n",
       "  <tbody>\n",
       "    <tr>\n",
       "      <th>0</th>\n",
       "      <td>0.0</td>\n",
       "      <td>0.0</td>\n",
       "    </tr>\n",
       "    <tr>\n",
       "      <th>1</th>\n",
       "      <td>0.0</td>\n",
       "      <td>0.0</td>\n",
       "    </tr>\n",
       "    <tr>\n",
       "      <th>2</th>\n",
       "      <td>0.0</td>\n",
       "      <td>0.0</td>\n",
       "    </tr>\n",
       "    <tr>\n",
       "      <th>3</th>\n",
       "      <td>0.0</td>\n",
       "      <td>0.0</td>\n",
       "    </tr>\n",
       "    <tr>\n",
       "      <th>4</th>\n",
       "      <td>0.0</td>\n",
       "      <td>0.0</td>\n",
       "    </tr>\n",
       "  </tbody>\n",
       "</table>\n",
       "</div>"
      ],
      "text/plain": [
       "   x0_Germany  x0_Spain\n",
       "0         0.0       0.0\n",
       "1         0.0       0.0\n",
       "2         0.0       0.0\n",
       "3         0.0       0.0\n",
       "4         0.0       0.0"
      ]
     },
     "execution_count": 31,
     "metadata": {},
     "output_type": "execute_result"
    }
   ],
   "source": [
    "enc_test_geo = pd.DataFrame(enc_geography.transform(features_test[['Geography']]))\n",
    "enc_test_geo.columns = enc_geography.get_feature_names()\n",
    "enc_test_geo.head()"
   ]
  },
  {
   "cell_type": "code",
   "execution_count": 32,
   "metadata": {},
   "outputs": [
    {
     "data": {
      "text/html": [
       "<div>\n",
       "<style scoped>\n",
       "    .dataframe tbody tr th:only-of-type {\n",
       "        vertical-align: middle;\n",
       "    }\n",
       "\n",
       "    .dataframe tbody tr th {\n",
       "        vertical-align: top;\n",
       "    }\n",
       "\n",
       "    .dataframe thead th {\n",
       "        text-align: right;\n",
       "    }\n",
       "</style>\n",
       "<table border=\"1\" class=\"dataframe\">\n",
       "  <thead>\n",
       "    <tr style=\"text-align: right;\">\n",
       "      <th></th>\n",
       "      <th>CreditScore</th>\n",
       "      <th>Age</th>\n",
       "      <th>Tenure</th>\n",
       "      <th>Balance</th>\n",
       "      <th>NumOfProducts</th>\n",
       "      <th>HasCrCard</th>\n",
       "      <th>IsActiveMember</th>\n",
       "      <th>EstimatedSalary</th>\n",
       "      <th>x0_Male</th>\n",
       "      <th>x0_Germany</th>\n",
       "      <th>x0_Spain</th>\n",
       "    </tr>\n",
       "  </thead>\n",
       "  <tbody>\n",
       "    <tr>\n",
       "      <th>0</th>\n",
       "      <td>502</td>\n",
       "      <td>64</td>\n",
       "      <td>3</td>\n",
       "      <td>139663.37</td>\n",
       "      <td>1</td>\n",
       "      <td>0</td>\n",
       "      <td>1</td>\n",
       "      <td>100995.11</td>\n",
       "      <td>0.0</td>\n",
       "      <td>0.0</td>\n",
       "      <td>0.0</td>\n",
       "    </tr>\n",
       "    <tr>\n",
       "      <th>1</th>\n",
       "      <td>707</td>\n",
       "      <td>58</td>\n",
       "      <td>6</td>\n",
       "      <td>89685.92</td>\n",
       "      <td>1</td>\n",
       "      <td>0</td>\n",
       "      <td>1</td>\n",
       "      <td>126471.13</td>\n",
       "      <td>1.0</td>\n",
       "      <td>0.0</td>\n",
       "      <td>0.0</td>\n",
       "    </tr>\n",
       "    <tr>\n",
       "      <th>2</th>\n",
       "      <td>619</td>\n",
       "      <td>35</td>\n",
       "      <td>8</td>\n",
       "      <td>132292.63</td>\n",
       "      <td>1</td>\n",
       "      <td>1</td>\n",
       "      <td>0</td>\n",
       "      <td>65682.93</td>\n",
       "      <td>0.0</td>\n",
       "      <td>0.0</td>\n",
       "      <td>0.0</td>\n",
       "    </tr>\n",
       "    <tr>\n",
       "      <th>3</th>\n",
       "      <td>769</td>\n",
       "      <td>31</td>\n",
       "      <td>4</td>\n",
       "      <td>61297.05</td>\n",
       "      <td>2</td>\n",
       "      <td>1</td>\n",
       "      <td>1</td>\n",
       "      <td>7118.02</td>\n",
       "      <td>1.0</td>\n",
       "      <td>0.0</td>\n",
       "      <td>0.0</td>\n",
       "    </tr>\n",
       "    <tr>\n",
       "      <th>4</th>\n",
       "      <td>637</td>\n",
       "      <td>38</td>\n",
       "      <td>3</td>\n",
       "      <td>104339.56</td>\n",
       "      <td>1</td>\n",
       "      <td>0</td>\n",
       "      <td>0</td>\n",
       "      <td>119882.86</td>\n",
       "      <td>0.0</td>\n",
       "      <td>0.0</td>\n",
       "      <td>0.0</td>\n",
       "    </tr>\n",
       "  </tbody>\n",
       "</table>\n",
       "</div>"
      ],
      "text/plain": [
       "   CreditScore  Age  Tenure    Balance  NumOfProducts  HasCrCard  \\\n",
       "0          502   64       3  139663.37              1          0   \n",
       "1          707   58       6   89685.92              1          0   \n",
       "2          619   35       8  132292.63              1          1   \n",
       "3          769   31       4   61297.05              2          1   \n",
       "4          637   38       3  104339.56              1          0   \n",
       "\n",
       "   IsActiveMember  EstimatedSalary  x0_Male  x0_Germany  x0_Spain  \n",
       "0               1        100995.11      0.0         0.0       0.0  \n",
       "1               1        126471.13      1.0         0.0       0.0  \n",
       "2               0         65682.93      0.0         0.0       0.0  \n",
       "3               1          7118.02      1.0         0.0       0.0  \n",
       "4               0        119882.86      0.0         0.0       0.0  "
      ]
     },
     "execution_count": 32,
     "metadata": {},
     "output_type": "execute_result"
    }
   ],
   "source": [
    "features_test = features_test.join(enc_test_geo)\n",
    "features_test.drop('Geography', axis = 1, inplace = True)\n",
    "features_test.head()"
   ]
  },
  {
   "cell_type": "code",
   "execution_count": 33,
   "metadata": {},
   "outputs": [
    {
     "name": "stdout",
     "output_type": "stream",
     "text": [
      "<class 'pandas.core.frame.DataFrame'>\n",
      "RangeIndex: 2000 entries, 0 to 1999\n",
      "Data columns (total 11 columns):\n",
      " #   Column           Non-Null Count  Dtype  \n",
      "---  ------           --------------  -----  \n",
      " 0   CreditScore      2000 non-null   int64  \n",
      " 1   Age              2000 non-null   int64  \n",
      " 2   Tenure           2000 non-null   int64  \n",
      " 3   Balance          2000 non-null   float64\n",
      " 4   NumOfProducts    2000 non-null   int64  \n",
      " 5   HasCrCard        2000 non-null   int64  \n",
      " 6   IsActiveMember   2000 non-null   int64  \n",
      " 7   EstimatedSalary  2000 non-null   float64\n",
      " 8   x0_Male          2000 non-null   float64\n",
      " 9   x0_Germany       2000 non-null   float64\n",
      " 10  x0_Spain         2000 non-null   float64\n",
      "dtypes: float64(5), int64(6)\n",
      "memory usage: 172.0 KB\n"
     ]
    }
   ],
   "source": [
    "features_test.info()"
   ]
  },
  {
   "cell_type": "markdown",
   "metadata": {},
   "source": [
    "### Масштабирование признаков `CreditScore`, `Balance` и `EstimatedSalary`"
   ]
  },
  {
   "cell_type": "code",
   "execution_count": 34,
   "metadata": {},
   "outputs": [],
   "source": [
    "numeric = ['CreditScore', 'Balance', 'EstimatedSalary'] "
   ]
  },
  {
   "cell_type": "code",
   "execution_count": 35,
   "metadata": {},
   "outputs": [
    {
     "data": {
      "text/html": [
       "<style>#sk-container-id-1 {color: black;background-color: white;}#sk-container-id-1 pre{padding: 0;}#sk-container-id-1 div.sk-toggleable {background-color: white;}#sk-container-id-1 label.sk-toggleable__label {cursor: pointer;display: block;width: 100%;margin-bottom: 0;padding: 0.3em;box-sizing: border-box;text-align: center;}#sk-container-id-1 label.sk-toggleable__label-arrow:before {content: \"▸\";float: left;margin-right: 0.25em;color: #696969;}#sk-container-id-1 label.sk-toggleable__label-arrow:hover:before {color: black;}#sk-container-id-1 div.sk-estimator:hover label.sk-toggleable__label-arrow:before {color: black;}#sk-container-id-1 div.sk-toggleable__content {max-height: 0;max-width: 0;overflow: hidden;text-align: left;background-color: #f0f8ff;}#sk-container-id-1 div.sk-toggleable__content pre {margin: 0.2em;color: black;border-radius: 0.25em;background-color: #f0f8ff;}#sk-container-id-1 input.sk-toggleable__control:checked~div.sk-toggleable__content {max-height: 200px;max-width: 100%;overflow: auto;}#sk-container-id-1 input.sk-toggleable__control:checked~label.sk-toggleable__label-arrow:before {content: \"▾\";}#sk-container-id-1 div.sk-estimator input.sk-toggleable__control:checked~label.sk-toggleable__label {background-color: #d4ebff;}#sk-container-id-1 div.sk-label input.sk-toggleable__control:checked~label.sk-toggleable__label {background-color: #d4ebff;}#sk-container-id-1 input.sk-hidden--visually {border: 0;clip: rect(1px 1px 1px 1px);clip: rect(1px, 1px, 1px, 1px);height: 1px;margin: -1px;overflow: hidden;padding: 0;position: absolute;width: 1px;}#sk-container-id-1 div.sk-estimator {font-family: monospace;background-color: #f0f8ff;border: 1px dotted black;border-radius: 0.25em;box-sizing: border-box;margin-bottom: 0.5em;}#sk-container-id-1 div.sk-estimator:hover {background-color: #d4ebff;}#sk-container-id-1 div.sk-parallel-item::after {content: \"\";width: 100%;border-bottom: 1px solid gray;flex-grow: 1;}#sk-container-id-1 div.sk-label:hover label.sk-toggleable__label {background-color: #d4ebff;}#sk-container-id-1 div.sk-serial::before {content: \"\";position: absolute;border-left: 1px solid gray;box-sizing: border-box;top: 0;bottom: 0;left: 50%;z-index: 0;}#sk-container-id-1 div.sk-serial {display: flex;flex-direction: column;align-items: center;background-color: white;padding-right: 0.2em;padding-left: 0.2em;position: relative;}#sk-container-id-1 div.sk-item {position: relative;z-index: 1;}#sk-container-id-1 div.sk-parallel {display: flex;align-items: stretch;justify-content: center;background-color: white;position: relative;}#sk-container-id-1 div.sk-item::before, #sk-container-id-1 div.sk-parallel-item::before {content: \"\";position: absolute;border-left: 1px solid gray;box-sizing: border-box;top: 0;bottom: 0;left: 50%;z-index: -1;}#sk-container-id-1 div.sk-parallel-item {display: flex;flex-direction: column;z-index: 1;position: relative;background-color: white;}#sk-container-id-1 div.sk-parallel-item:first-child::after {align-self: flex-end;width: 50%;}#sk-container-id-1 div.sk-parallel-item:last-child::after {align-self: flex-start;width: 50%;}#sk-container-id-1 div.sk-parallel-item:only-child::after {width: 0;}#sk-container-id-1 div.sk-dashed-wrapped {border: 1px dashed gray;margin: 0 0.4em 0.5em 0.4em;box-sizing: border-box;padding-bottom: 0.4em;background-color: white;}#sk-container-id-1 div.sk-label label {font-family: monospace;font-weight: bold;display: inline-block;line-height: 1.2em;}#sk-container-id-1 div.sk-label-container {text-align: center;}#sk-container-id-1 div.sk-container {/* jupyter's `normalize.less` sets `[hidden] { display: none; }` but bootstrap.min.css set `[hidden] { display: none !important; }` so we also need the `!important` here to be able to override the default hidden behavior on the sphinx rendered scikit-learn.org. See: https://github.com/scikit-learn/scikit-learn/issues/21755 */display: inline-block !important;position: relative;}#sk-container-id-1 div.sk-text-repr-fallback {display: none;}</style><div id=\"sk-container-id-1\" class=\"sk-top-container\"><div class=\"sk-text-repr-fallback\"><pre>StandardScaler()</pre><b>In a Jupyter environment, please rerun this cell to show the HTML representation or trust the notebook. <br />On GitHub, the HTML representation is unable to render, please try loading this page with nbviewer.org.</b></div><div class=\"sk-container\" hidden><div class=\"sk-item\"><div class=\"sk-estimator sk-toggleable\"><input class=\"sk-toggleable__control sk-hidden--visually\" id=\"sk-estimator-id-1\" type=\"checkbox\" checked><label for=\"sk-estimator-id-1\" class=\"sk-toggleable__label sk-toggleable__label-arrow\">StandardScaler</label><div class=\"sk-toggleable__content\"><pre>StandardScaler()</pre></div></div></div></div></div>"
      ],
      "text/plain": [
       "StandardScaler()"
      ]
     },
     "execution_count": 35,
     "metadata": {},
     "output_type": "execute_result"
    }
   ],
   "source": [
    "scaler = StandardScaler()\n",
    "scaler.fit(features_train[numeric])"
   ]
  },
  {
   "cell_type": "code",
   "execution_count": 36,
   "metadata": {},
   "outputs": [],
   "source": [
    "pd.options.mode.chained_assignment = None\n",
    "features_train[numeric] = scaler.transform(features_train[numeric])\n",
    "features_valid[numeric] = scaler.transform(features_valid[numeric]) \n",
    "features_test[numeric] = scaler.transform(features_test[numeric]) "
   ]
  },
  {
   "cell_type": "code",
   "execution_count": 37,
   "metadata": {},
   "outputs": [
    {
     "name": "stdout",
     "output_type": "stream",
     "text": [
      "<class 'pandas.core.frame.DataFrame'>\n",
      "RangeIndex: 6000 entries, 0 to 5999\n",
      "Data columns (total 11 columns):\n",
      " #   Column           Non-Null Count  Dtype  \n",
      "---  ------           --------------  -----  \n",
      " 0   CreditScore      6000 non-null   float64\n",
      " 1   Age              6000 non-null   int64  \n",
      " 2   Tenure           6000 non-null   int64  \n",
      " 3   Balance          6000 non-null   float64\n",
      " 4   NumOfProducts    6000 non-null   int64  \n",
      " 5   HasCrCard        6000 non-null   int64  \n",
      " 6   IsActiveMember   6000 non-null   int64  \n",
      " 7   EstimatedSalary  6000 non-null   float64\n",
      " 8   x0_Male          6000 non-null   float64\n",
      " 9   x0_Germany       6000 non-null   float64\n",
      " 10  x0_Spain         6000 non-null   float64\n",
      "dtypes: float64(6), int64(5)\n",
      "memory usage: 515.8 KB\n"
     ]
    }
   ],
   "source": [
    "features_train.info()"
   ]
  },
  {
   "cell_type": "markdown",
   "metadata": {},
   "source": [
    "## Исследование задачи"
   ]
  },
  {
   "cell_type": "markdown",
   "metadata": {},
   "source": [
    "Прогноз, уйдёт клиент из банка в ближайшее время или нет - задача классификации. В проекте будет рассмотрено 3 вида модели: \n",
    "- дерево решений;\n",
    "- случайный лес;\n",
    "- логистическая регрессия."
   ]
  },
  {
   "cell_type": "markdown",
   "metadata": {},
   "source": [
    "### Исследование баланса классов"
   ]
  },
  {
   "cell_type": "code",
   "execution_count": 38,
   "metadata": {
    "scrolled": true
   },
   "outputs": [
    {
     "name": "stdout",
     "output_type": "stream",
     "text": [
      "Общее соотношение классов:\n",
      "0    7963\n",
      "1    2037\n",
      "Name: Exited, dtype: int64\n",
      "Соотношение классов в обучающей выборке:\n",
      "0    4778\n",
      "1    1222\n",
      "Name: Exited, dtype: int64\n",
      "Соотношение классов в валидационной выборке:\n",
      "0    1593\n",
      "1     407\n",
      "Name: Exited, dtype: int64\n",
      "Соотношение классов в тестовой выборке:\n",
      "0    1593\n",
      "1     407\n",
      "Name: Exited, dtype: int64\n"
     ]
    }
   ],
   "source": [
    "print(\n",
    "    'Общее соотношение классов:', \n",
    "    target.value_counts(),\n",
    "    'Соотношение классов в обучающей выборке:', \n",
    "    target_train.value_counts(),\n",
    "    'Соотношение классов в валидационной выборке:', \n",
    "    target_valid.value_counts(),\n",
    "    'Соотношение классов в тестовой выборке:', \n",
    "    target_valid.value_counts(), \n",
    "    sep='\\n'\n",
    ")"
   ]
  },
  {
   "cell_type": "markdown",
   "metadata": {},
   "source": [
    "**Вывод:** в данных наблюдается явный дисбаланс классов, клиентов, оставшихся в банке, примерно в 4 раза больше."
   ]
  },
  {
   "cell_type": "markdown",
   "metadata": {},
   "source": [
    "### Изучение моделей без учёта дисбаланса"
   ]
  },
  {
   "cell_type": "code",
   "execution_count": 39,
   "metadata": {},
   "outputs": [
    {
     "name": "stdout",
     "output_type": "stream",
     "text": [
      "Значения наилучшей модели:\n",
      "Глубина дерева = 7\n",
      "F1-метрика = 0.552870090634441\n",
      "Матрица ошибок:\n",
      "[[1521   72]\n",
      " [ 224  183]]\n",
      "AUC-ROC-метрика = 0.8092900296290126\n"
     ]
    }
   ],
   "source": [
    "# дерево решений (model DecisionTreeClassifier == model_dtc)\n",
    "best_model_dtc = None\n",
    "best_depth_dtc = 0\n",
    "best_result_f1_dtc = 0\n",
    "\n",
    "for depth in range(1, 11):\n",
    "    model = DecisionTreeClassifier(random_state=RANDOM_STATE, max_depth=depth)\n",
    "    model.fit(features_train, target_train) \n",
    "    predictions_valid = model.predict(features_valid) \n",
    "    result_f1 = f1_score(target_valid, predictions_valid)\n",
    "    \n",
    "    if result_f1 > best_result_f1_dtc:\n",
    "        best_model_dtc = model\n",
    "        best_depth_dtc = depth\n",
    "        best_result_f1_dtc = result_f1\n",
    "\n",
    "\n",
    "predictions_valid_dtc = best_model_dtc.predict(features_valid)\n",
    "\n",
    "probabilities_valid_dtc = best_model_dtc.predict_proba(features_valid)[:, 1]\n",
    "auc_roc_dtc = roc_auc_score(target_valid, probabilities_valid_dtc)\n",
    "\n",
    "print('Значения наилучшей модели:')\n",
    "print('Глубина дерева =', best_depth_dtc)\n",
    "print('F1-метрика =', best_result_f1_dtc)\n",
    "print('Матрица ошибок:')\n",
    "print(confusion_matrix(target_valid, predictions_valid_dtc))\n",
    "print('AUC-ROC-метрика =', auc_roc_dtc)"
   ]
  },
  {
   "cell_type": "code",
   "execution_count": 40,
   "metadata": {},
   "outputs": [
    {
     "name": "stdout",
     "output_type": "stream",
     "text": [
      "Значения наилучшей модели:\n",
      "Количество деревьев = 30\n",
      "Глубина дерева = 10\n",
      "F1-метрика = 0.5553822152886115\n",
      "Матрица ошибок:\n",
      "[[1537   56]\n",
      " [ 229  178]]\n",
      "AUC-ROC-метрика = 0.8530957768245904\n"
     ]
    }
   ],
   "source": [
    "# случайный лес (model RandomForestClassifier == model_rfc)\n",
    "best_model_rfc = None\n",
    "best_est_rfc = 0\n",
    "best_depth_rfc = 0\n",
    "best_result_f1_rfc = 0\n",
    "\n",
    "for est in range(5, 51, 5):\n",
    "    for depth in range (1, 11):\n",
    "        model = RandomForestClassifier(random_state=RANDOM_STATE, n_estimators=est, max_depth=depth)\n",
    "        model.fit(features_train, target_train) \n",
    "        predictions_valid = model.predict(features_valid) \n",
    "        result_f1 = f1_score(target_valid, predictions_valid)\n",
    "    \n",
    "        if result_f1 > best_result_f1_rfc:\n",
    "            best_model_rfc = model \n",
    "            best_est_rfc = est\n",
    "            best_depth_rfc = depth\n",
    "            best_result_f1_rfc = result_f1\n",
    "\n",
    "\n",
    "predictions_valid_rfc = best_model_rfc.predict(features_valid)\n",
    "\n",
    "probabilities_valid_rfc = best_model_rfc.predict_proba(features_valid)[:, 1]\n",
    "auc_roc_rfc = roc_auc_score(target_valid, probabilities_valid_rfc)   \n",
    "\n",
    "print('Значения наилучшей модели:')\n",
    "print('Количество деревьев =', best_est_rfc)\n",
    "print('Глубина дерева =', best_depth_rfc)\n",
    "print('F1-метрика =', best_result_f1_rfc)\n",
    "print('Матрица ошибок:')\n",
    "print(confusion_matrix(target_valid, predictions_valid_rfc))\n",
    "print('AUC-ROC-метрика =', auc_roc_rfc)"
   ]
  },
  {
   "cell_type": "code",
   "execution_count": 41,
   "metadata": {
    "scrolled": true
   },
   "outputs": [
    {
     "name": "stdout",
     "output_type": "stream",
     "text": [
      "Значения модели:\n",
      "F1-метрика = 0.2900188323917138\n",
      "Матрица ошибок:\n",
      "[[1546   47]\n",
      " [ 330   77]]\n",
      "AUC-ROC-метрика = 0.7496078513027664\n"
     ]
    }
   ],
   "source": [
    "# логистическая регрессия (model LogisticRegression == model_lr)\n",
    "model_lr = LogisticRegression(random_state=RANDOM_STATE, solver='liblinear', max_iter=1000)\n",
    "model_lr.fit(features_train, target_train) \n",
    "predictions_valid_lr = model_lr.predict(features_valid)\n",
    "result_f1_lr = f1_score(target_valid, predictions_valid_lr)\n",
    "\n",
    "probabilities_valid_lr = model_lr.predict_proba(features_valid)[:, 1]\n",
    "auc_roc_lr = roc_auc_score(target_valid, probabilities_valid_lr)\n",
    "\n",
    "print('Значения модели:')\n",
    "print('F1-метрика =', result_f1_lr)\n",
    "print('Матрица ошибок:')\n",
    "print(confusion_matrix(target_valid, predictions_valid_lr))\n",
    "print('AUC-ROC-метрика =', auc_roc_lr)"
   ]
  },
  {
   "cell_type": "markdown",
   "metadata": {},
   "source": [
    "___"
   ]
  },
  {
   "cell_type": "code",
   "execution_count": 42,
   "metadata": {},
   "outputs": [],
   "source": [
    "metrics_ser = pd.Series(['F1', 'AUC-ROC'])\n",
    "dtc_ser = pd.Series([best_result_f1_dtc, auc_roc_dtc])\n",
    "rft_ser = pd.Series([best_result_f1_rfc, auc_roc_rfc])\n",
    "lr_ser = pd.Series([result_f1_lr, auc_roc_lr])\n",
    "\n",
    "metrics_df = metrics_ser.to_frame(name='metrics')\n",
    "dtc_df = dtc_ser.to_frame(name='DTC')\n",
    "rft_df = rft_ser.to_frame(name='RFT')\n",
    "lr_df = lr_ser.to_frame(name='LR')\n",
    "\n",
    "metrics_imbalance = pd.concat([metrics_df, dtc_df, rft_df, lr_df], axis= 1)"
   ]
  },
  {
   "cell_type": "code",
   "execution_count": 43,
   "metadata": {},
   "outputs": [
    {
     "data": {
      "text/html": [
       "<div>\n",
       "<style scoped>\n",
       "    .dataframe tbody tr th:only-of-type {\n",
       "        vertical-align: middle;\n",
       "    }\n",
       "\n",
       "    .dataframe tbody tr th {\n",
       "        vertical-align: top;\n",
       "    }\n",
       "\n",
       "    .dataframe thead th {\n",
       "        text-align: right;\n",
       "    }\n",
       "</style>\n",
       "<table border=\"1\" class=\"dataframe\">\n",
       "  <thead>\n",
       "    <tr style=\"text-align: right;\">\n",
       "      <th></th>\n",
       "      <th>metrics</th>\n",
       "      <th>DTC</th>\n",
       "      <th>RFT</th>\n",
       "      <th>LR</th>\n",
       "    </tr>\n",
       "  </thead>\n",
       "  <tbody>\n",
       "    <tr>\n",
       "      <th>0</th>\n",
       "      <td>F1</td>\n",
       "      <td>0.55287</td>\n",
       "      <td>0.555382</td>\n",
       "      <td>0.290019</td>\n",
       "    </tr>\n",
       "    <tr>\n",
       "      <th>1</th>\n",
       "      <td>AUC-ROC</td>\n",
       "      <td>0.80929</td>\n",
       "      <td>0.853096</td>\n",
       "      <td>0.749608</td>\n",
       "    </tr>\n",
       "  </tbody>\n",
       "</table>\n",
       "</div>"
      ],
      "text/plain": [
       "   metrics      DTC       RFT        LR\n",
       "0       F1  0.55287  0.555382  0.290019\n",
       "1  AUC-ROC  0.80929  0.853096  0.749608"
      ]
     },
     "execution_count": 43,
     "metadata": {},
     "output_type": "execute_result"
    }
   ],
   "source": [
    "metrics_imbalance"
   ]
  },
  {
   "cell_type": "markdown",
   "metadata": {},
   "source": [
    "**Вывод:** самые высокие значения метрик F1 и AUC-ROC получились у модели случайного леса: 0.56 и 0.85 соответственно; самые низкие - у модели логистической регрессии: 0.29 и 0.75. При этом ни одной модели не удалось достичь требуемого качества (f1 > 0.59)"
   ]
  },
  {
   "cell_type": "markdown",
   "metadata": {},
   "source": [
    "## Борьба с дисбалансом"
   ]
  },
  {
   "cell_type": "markdown",
   "metadata": {},
   "source": [
    "Устранить дисбаланс можно разными методами: \n",
    "- увеличением выборки; \n",
    "- уменьшением выборки; \n",
    "- автоматической балансировкой.\n",
    "\n",
    "Чтобы наглядно увидеть, как сбалансированная выборка меняет качество модели, возмем модели с лучшими параметрами из шага 2 и обучим их на новых данных, либо применим автобалансировку. \n",
    "\n",
    "Для этого создадим функцию, которая будет принимать название модели, обучающие данные и необходимость в автоматической балансировке, а отдавать метрики качества: F1-меру и AUC-ROC."
   ]
  },
  {
   "cell_type": "code",
   "execution_count": 44,
   "metadata": {},
   "outputs": [],
   "source": [
    "# Функция вызова \n",
    "def get_model_metrics(name_model, features_train_new, target_train_new, wght):\n",
    "    if wght == True:\n",
    "        if name_model == 'dtc':\n",
    "            model = DecisionTreeClassifier(\n",
    "                random_state=RANDOM_STATE, max_depth=5, class_weight='balanced')\n",
    "        elif name_model == 'rfc':\n",
    "            model = RandomForestClassifier(\n",
    "                random_state=RANDOM_STATE, n_estimators=20, max_depth=10, class_weight='balanced')\n",
    "        elif name_model == 'lr':\n",
    "            model = LogisticRegression(\n",
    "                random_state=RANDOM_STATE, solver='liblinear', max_iter=1000, class_weight='balanced')\n",
    "        else:\n",
    "            return print('Функция не работает с такой моделью')\n",
    "    elif wght == False: \n",
    "        if name_model == 'dtc':\n",
    "            model = DecisionTreeClassifier(random_state=RANDOM_STATE, max_depth=5)\n",
    "        elif name_model == 'rfc':\n",
    "            model = RandomForestClassifier(random_state=RANDOM_STATE, n_estimators=20, max_depth=10)\n",
    "        elif name_model == 'lr':\n",
    "            model = LogisticRegression(random_state=RANDOM_STATE, solver='liblinear', max_iter=1000)\n",
    "        else:\n",
    "            return print('Функция не работает с такой моделью')\n",
    "    else:\n",
    "        return print('Не понятно: взвешивать или нет?')\n",
    "        \n",
    "    model.fit(features_train_new, target_train_new)\n",
    "    predictions_valid = model.predict(features_valid) \n",
    "    \n",
    "    result_f1 = f1_score(target_valid, predictions_valid)\n",
    "\n",
    "    probabilities_valid = model.predict_proba(features_valid)[:, 1]\n",
    "    auc_roc = roc_auc_score(target_valid, probabilities_valid)\n",
    "    \n",
    "    print('Модель:', name_model)\n",
    "    print('F1-метрика =', result_f1)\n",
    "    print('Матрица ошибок:')\n",
    "    print(confusion_matrix(target_valid, predictions_valid))\n",
    "    print('AUC-ROC-метрика =', auc_roc)\n",
    "    \n",
    "    return result_f1, auc_roc"
   ]
  },
  {
   "cell_type": "markdown",
   "metadata": {},
   "source": [
    "### Увеличение выборки (upsampling)"
   ]
  },
  {
   "cell_type": "markdown",
   "metadata": {},
   "source": [
    "Преобразование проходит в несколько этапов:\n",
    "- разделить обучающую выборку на объекты по классам;\n",
    "- определить тот класс, который содержит меньше объектов;\n",
    "- скопировать несколько раз объекты меньшего класса; \n",
    "- с учетом полученных данных создать новую обучающую выборку;\n",
    "- перемешать данные.\n",
    "\n",
    "При этом если использовать \"копирование и размножение\" выборки с классом 1, а после этого использовать кросс-валидацию, то может получиться чрезмерно оптимистичный результат.\n",
    "\n",
    "Так же следует отметить, что увеличение выборки следует проводить на обучающей выборке."
   ]
  },
  {
   "cell_type": "code",
   "execution_count": 45,
   "metadata": {},
   "outputs": [],
   "source": [
    "def upsample(features, target, repeat):\n",
    "    features_zeros = features[target == 0]\n",
    "    features_ones = features[target == 1]\n",
    "    target_zeros = target[target == 0]\n",
    "    target_ones = target[target == 1]\n",
    "\n",
    "    features_upsampled = pd.concat([features_zeros] + [features_ones] * repeat)\n",
    "    target_upsampled = pd.concat([target_zeros] + [target_ones] * repeat)\n",
    "    \n",
    "    features_upsampled, target_upsampled = shuffle(\n",
    "        features_upsampled, target_upsampled, random_state=RANDOM_STATE\n",
    "    )\n",
    "    \n",
    "    return features_upsampled, target_upsampled"
   ]
  },
  {
   "cell_type": "code",
   "execution_count": 46,
   "metadata": {},
   "outputs": [],
   "source": [
    "features_upsampled, target_upsampled = upsample(features_train, target_train, 4)"
   ]
  },
  {
   "cell_type": "code",
   "execution_count": 47,
   "metadata": {},
   "outputs": [
    {
     "name": "stdout",
     "output_type": "stream",
     "text": [
      "Размер features_upsampled\n",
      "(9666, 11)\n",
      "Размер target_upsampled\n",
      "(9666,)\n",
      "Соотношение классов:\n",
      "1    4888\n",
      "0    4778\n",
      "Name: Exited, dtype: int64\n"
     ]
    }
   ],
   "source": [
    "print(\n",
    "    'Размер features_upsampled', \n",
    "    features_upsampled.shape,\n",
    "    'Размер target_upsampled', \n",
    "    target_upsampled.shape,\n",
    "    'Соотношение классов:', \n",
    "    target_upsampled.value_counts(), \n",
    "    sep='\\n'\n",
    ")"
   ]
  },
  {
   "cell_type": "markdown",
   "metadata": {},
   "source": [
    "#### Проверка моделей"
   ]
  },
  {
   "cell_type": "code",
   "execution_count": 48,
   "metadata": {},
   "outputs": [
    {
     "name": "stdout",
     "output_type": "stream",
     "text": [
      "Модель: dtc\n",
      "F1-метрика = 0.5264822134387352\n",
      "Матрица ошибок:\n",
      "[[1068  525]\n",
      " [  74  333]]\n",
      "AUC-ROC-метрика = 0.8278309125766753\n"
     ]
    }
   ],
   "source": [
    "dtc_ups_f1, dtc_ups_auc = get_model_metrics('dtc', features_upsampled, target_upsampled, False)"
   ]
  },
  {
   "cell_type": "code",
   "execution_count": 49,
   "metadata": {},
   "outputs": [
    {
     "name": "stdout",
     "output_type": "stream",
     "text": [
      "Модель: rfc\n",
      "F1-метрика = 0.5870535714285715\n",
      "Матрица ошибок:\n",
      "[[1367  226]\n",
      " [ 144  263]]\n",
      "AUC-ROC-метрика = 0.8422320625710455\n"
     ]
    }
   ],
   "source": [
    "rfc_ups_f1, rfc_ups_auc = get_model_metrics('rfc', features_upsampled, target_upsampled, False)"
   ]
  },
  {
   "cell_type": "code",
   "execution_count": 50,
   "metadata": {
    "scrolled": true
   },
   "outputs": [
    {
     "name": "stdout",
     "output_type": "stream",
     "text": [
      "Модель: lr\n",
      "F1-метрика = 0.4804088586030664\n",
      "Матрица ошибок:\n",
      "[[1108  485]\n",
      " [ 125  282]]\n",
      "AUC-ROC-метрика = 0.753872516584381\n"
     ]
    }
   ],
   "source": [
    "lr_ups_f1, lr_ups_auc = get_model_metrics('lr', features_upsampled, target_upsampled, False)"
   ]
  },
  {
   "cell_type": "markdown",
   "metadata": {},
   "source": [
    "___"
   ]
  },
  {
   "cell_type": "code",
   "execution_count": 51,
   "metadata": {},
   "outputs": [],
   "source": [
    "dtc_ups_ser = pd.Series([dtc_ups_f1, dtc_ups_auc])\n",
    "rft_ups_ser = pd.Series([rfc_ups_f1, rfc_ups_auc])\n",
    "lr_ups_ser = pd.Series([lr_ups_f1, lr_ups_auc])\n",
    "\n",
    "dtc_ups_df = dtc_ups_ser.to_frame(name='DTC_ups')\n",
    "rft_ups_df = rft_ups_ser.to_frame(name='RFT_ups')\n",
    "lr_ups_df = lr_ups_ser.to_frame(name='LR_ups')\n",
    "\n",
    "metrics_upsample = pd.concat([metrics_df, dtc_ups_df, rft_ups_df, lr_ups_df], axis= 1)"
   ]
  },
  {
   "cell_type": "code",
   "execution_count": 52,
   "metadata": {},
   "outputs": [
    {
     "data": {
      "text/html": [
       "<div>\n",
       "<style scoped>\n",
       "    .dataframe tbody tr th:only-of-type {\n",
       "        vertical-align: middle;\n",
       "    }\n",
       "\n",
       "    .dataframe tbody tr th {\n",
       "        vertical-align: top;\n",
       "    }\n",
       "\n",
       "    .dataframe thead th {\n",
       "        text-align: right;\n",
       "    }\n",
       "</style>\n",
       "<table border=\"1\" class=\"dataframe\">\n",
       "  <thead>\n",
       "    <tr style=\"text-align: right;\">\n",
       "      <th></th>\n",
       "      <th>metrics</th>\n",
       "      <th>DTC_ups</th>\n",
       "      <th>RFT_ups</th>\n",
       "      <th>LR_ups</th>\n",
       "    </tr>\n",
       "  </thead>\n",
       "  <tbody>\n",
       "    <tr>\n",
       "      <th>0</th>\n",
       "      <td>F1</td>\n",
       "      <td>0.526482</td>\n",
       "      <td>0.587054</td>\n",
       "      <td>0.480409</td>\n",
       "    </tr>\n",
       "    <tr>\n",
       "      <th>1</th>\n",
       "      <td>AUC-ROC</td>\n",
       "      <td>0.827831</td>\n",
       "      <td>0.842232</td>\n",
       "      <td>0.753873</td>\n",
       "    </tr>\n",
       "  </tbody>\n",
       "</table>\n",
       "</div>"
      ],
      "text/plain": [
       "   metrics   DTC_ups   RFT_ups    LR_ups\n",
       "0       F1  0.526482  0.587054  0.480409\n",
       "1  AUC-ROC  0.827831  0.842232  0.753873"
      ]
     },
     "execution_count": 52,
     "metadata": {},
     "output_type": "execute_result"
    }
   ],
   "source": [
    "metrics_upsample"
   ]
  },
  {
   "cell_type": "code",
   "execution_count": 53,
   "metadata": {},
   "outputs": [
    {
     "data": {
      "text/html": [
       "<div>\n",
       "<style scoped>\n",
       "    .dataframe tbody tr th:only-of-type {\n",
       "        vertical-align: middle;\n",
       "    }\n",
       "\n",
       "    .dataframe tbody tr th {\n",
       "        vertical-align: top;\n",
       "    }\n",
       "\n",
       "    .dataframe thead th {\n",
       "        text-align: right;\n",
       "    }\n",
       "</style>\n",
       "<table border=\"1\" class=\"dataframe\">\n",
       "  <thead>\n",
       "    <tr style=\"text-align: right;\">\n",
       "      <th></th>\n",
       "      <th>metrics</th>\n",
       "      <th>DTC</th>\n",
       "      <th>RFT</th>\n",
       "      <th>LR</th>\n",
       "    </tr>\n",
       "  </thead>\n",
       "  <tbody>\n",
       "    <tr>\n",
       "      <th>0</th>\n",
       "      <td>F1</td>\n",
       "      <td>0.55287</td>\n",
       "      <td>0.555382</td>\n",
       "      <td>0.290019</td>\n",
       "    </tr>\n",
       "    <tr>\n",
       "      <th>1</th>\n",
       "      <td>AUC-ROC</td>\n",
       "      <td>0.80929</td>\n",
       "      <td>0.853096</td>\n",
       "      <td>0.749608</td>\n",
       "    </tr>\n",
       "  </tbody>\n",
       "</table>\n",
       "</div>"
      ],
      "text/plain": [
       "   metrics      DTC       RFT        LR\n",
       "0       F1  0.55287  0.555382  0.290019\n",
       "1  AUC-ROC  0.80929  0.853096  0.749608"
      ]
     },
     "execution_count": 53,
     "metadata": {},
     "output_type": "execute_result"
    }
   ],
   "source": [
    "# для сравнения\n",
    "metrics_imbalance"
   ]
  },
  {
   "cell_type": "markdown",
   "metadata": {},
   "source": [
    "**Вывод:** значение метрики F1 моделей логистической регрессии и случайного леса выросло, а модели дерева решений - уменьшилось, при этом самое большое значение по-прежнему у случайного леса. Что касается метрик AUC-ROC, они почти не изменились."
   ]
  },
  {
   "cell_type": "markdown",
   "metadata": {},
   "source": [
    "### Уменьшение выборки (downsampling)"
   ]
  },
  {
   "cell_type": "code",
   "execution_count": 54,
   "metadata": {},
   "outputs": [],
   "source": [
    "def downsample(features, target, fraction): \n",
    "    features_zeros = features[target == 0] \n",
    "    features_ones = features[target == 1] \n",
    "    target_zeros = target[target == 0] \n",
    "    target_ones = target[target == 1]\n",
    "\n",
    "    features_downsampled = pd.concat(\n",
    "        [features_zeros.sample(frac=fraction, random_state=RANDOM_STATE)] + [features_ones]\n",
    "    )\n",
    "    target_downsampled = pd.concat(\n",
    "        [target_zeros.sample(frac=fraction, random_state=RANDOM_STATE)] + [target_ones]\n",
    "    )\n",
    "    features_downsampled, target_downsampled = shuffle(\n",
    "        features_downsampled, target_downsampled, random_state=RANDOM_STATE\n",
    "    )\n",
    "\n",
    "    return features_downsampled, target_downsampled"
   ]
  },
  {
   "cell_type": "code",
   "execution_count": 55,
   "metadata": {},
   "outputs": [],
   "source": [
    "features_downsampled, target_downsampled = downsample(features_train, target_train, 0.25)"
   ]
  },
  {
   "cell_type": "code",
   "execution_count": 56,
   "metadata": {},
   "outputs": [
    {
     "name": "stdout",
     "output_type": "stream",
     "text": [
      "Размер features_downsampled\n",
      "(2416, 11)\n",
      "Размер target_downsampled\n",
      "(2416,)\n",
      "Соотношение классов:\n",
      "1    1222\n",
      "0    1194\n",
      "Name: Exited, dtype: int64\n"
     ]
    }
   ],
   "source": [
    "print(\n",
    "    'Размер features_downsampled', \n",
    "    features_downsampled.shape,\n",
    "    'Размер target_downsampled', \n",
    "    target_downsampled.shape,\n",
    "    'Соотношение классов:', \n",
    "    target_downsampled.value_counts(), \n",
    "    sep='\\n'\n",
    ")"
   ]
  },
  {
   "cell_type": "markdown",
   "metadata": {},
   "source": [
    "#### Проверка моделей"
   ]
  },
  {
   "cell_type": "code",
   "execution_count": 57,
   "metadata": {},
   "outputs": [
    {
     "name": "stdout",
     "output_type": "stream",
     "text": [
      "Модель: dtc\n",
      "F1-метрика = 0.522342064714946\n",
      "Матрица ошибок:\n",
      "[[1041  552]\n",
      " [  68  339]]\n",
      "AUC-ROC-метрика = 0.8292953970920073\n"
     ]
    }
   ],
   "source": [
    "dtc_downs_f1, dtc_downs_auc = get_model_metrics('dtc', features_downsampled, target_downsampled, False)"
   ]
  },
  {
   "cell_type": "code",
   "execution_count": 58,
   "metadata": {},
   "outputs": [
    {
     "name": "stdout",
     "output_type": "stream",
     "text": [
      "Модель: rfc\n",
      "F1-метрика = 0.5655813953488372\n",
      "Матрица ошибок:\n",
      "[[1229  364]\n",
      " [ 103  304]]\n",
      "AUC-ROC-метрика = 0.8453615402767944\n"
     ]
    }
   ],
   "source": [
    "rfc_downs_f1, rfc_downs_auc = get_model_metrics('rfc', features_downsampled, target_downsampled, False)"
   ]
  },
  {
   "cell_type": "code",
   "execution_count": 59,
   "metadata": {},
   "outputs": [
    {
     "name": "stdout",
     "output_type": "stream",
     "text": [
      "Модель: lr\n",
      "F1-метрика = 0.4817021276595745\n",
      "Матрица ошибок:\n",
      "[[1108  485]\n",
      " [ 124  283]]\n",
      "AUC-ROC-метрика = 0.7513569038992769\n"
     ]
    }
   ],
   "source": [
    "lr_downs_f1, lr_downs_auc = get_model_metrics('lr', features_downsampled, target_downsampled, False)"
   ]
  },
  {
   "cell_type": "markdown",
   "metadata": {},
   "source": [
    "___"
   ]
  },
  {
   "cell_type": "code",
   "execution_count": 60,
   "metadata": {},
   "outputs": [],
   "source": [
    "dtc_downs_ser = pd.Series([dtc_downs_f1, dtc_downs_auc])\n",
    "rft_downs_ser = pd.Series([rfc_downs_f1, rfc_downs_auc])\n",
    "lr_downs_ser = pd.Series([lr_downs_f1, lr_downs_auc])\n",
    "\n",
    "dtc_downs_df = dtc_downs_ser.to_frame(name='DTC_downs')\n",
    "rft_downs_df = rft_downs_ser.to_frame(name='RFT_downs')\n",
    "lr_downs_df = lr_downs_ser.to_frame(name='LR_downs')\n",
    "\n",
    "metrics_downsample = pd.concat([metrics_df, dtc_downs_df, rft_downs_df, lr_downs_df], axis= 1)"
   ]
  },
  {
   "cell_type": "code",
   "execution_count": 61,
   "metadata": {},
   "outputs": [
    {
     "data": {
      "text/html": [
       "<div>\n",
       "<style scoped>\n",
       "    .dataframe tbody tr th:only-of-type {\n",
       "        vertical-align: middle;\n",
       "    }\n",
       "\n",
       "    .dataframe tbody tr th {\n",
       "        vertical-align: top;\n",
       "    }\n",
       "\n",
       "    .dataframe thead th {\n",
       "        text-align: right;\n",
       "    }\n",
       "</style>\n",
       "<table border=\"1\" class=\"dataframe\">\n",
       "  <thead>\n",
       "    <tr style=\"text-align: right;\">\n",
       "      <th></th>\n",
       "      <th>metrics</th>\n",
       "      <th>DTC_downs</th>\n",
       "      <th>RFT_downs</th>\n",
       "      <th>LR_downs</th>\n",
       "    </tr>\n",
       "  </thead>\n",
       "  <tbody>\n",
       "    <tr>\n",
       "      <th>0</th>\n",
       "      <td>F1</td>\n",
       "      <td>0.522342</td>\n",
       "      <td>0.565581</td>\n",
       "      <td>0.481702</td>\n",
       "    </tr>\n",
       "    <tr>\n",
       "      <th>1</th>\n",
       "      <td>AUC-ROC</td>\n",
       "      <td>0.829295</td>\n",
       "      <td>0.845362</td>\n",
       "      <td>0.751357</td>\n",
       "    </tr>\n",
       "  </tbody>\n",
       "</table>\n",
       "</div>"
      ],
      "text/plain": [
       "   metrics  DTC_downs  RFT_downs  LR_downs\n",
       "0       F1   0.522342   0.565581  0.481702\n",
       "1  AUC-ROC   0.829295   0.845362  0.751357"
      ]
     },
     "execution_count": 61,
     "metadata": {},
     "output_type": "execute_result"
    }
   ],
   "source": [
    "metrics_downsample"
   ]
  },
  {
   "cell_type": "code",
   "execution_count": 62,
   "metadata": {},
   "outputs": [
    {
     "data": {
      "text/html": [
       "<div>\n",
       "<style scoped>\n",
       "    .dataframe tbody tr th:only-of-type {\n",
       "        vertical-align: middle;\n",
       "    }\n",
       "\n",
       "    .dataframe tbody tr th {\n",
       "        vertical-align: top;\n",
       "    }\n",
       "\n",
       "    .dataframe thead th {\n",
       "        text-align: right;\n",
       "    }\n",
       "</style>\n",
       "<table border=\"1\" class=\"dataframe\">\n",
       "  <thead>\n",
       "    <tr style=\"text-align: right;\">\n",
       "      <th></th>\n",
       "      <th>metrics</th>\n",
       "      <th>DTC</th>\n",
       "      <th>RFT</th>\n",
       "      <th>LR</th>\n",
       "    </tr>\n",
       "  </thead>\n",
       "  <tbody>\n",
       "    <tr>\n",
       "      <th>0</th>\n",
       "      <td>F1</td>\n",
       "      <td>0.55287</td>\n",
       "      <td>0.555382</td>\n",
       "      <td>0.290019</td>\n",
       "    </tr>\n",
       "    <tr>\n",
       "      <th>1</th>\n",
       "      <td>AUC-ROC</td>\n",
       "      <td>0.80929</td>\n",
       "      <td>0.853096</td>\n",
       "      <td>0.749608</td>\n",
       "    </tr>\n",
       "  </tbody>\n",
       "</table>\n",
       "</div>"
      ],
      "text/plain": [
       "   metrics      DTC       RFT        LR\n",
       "0       F1  0.55287  0.555382  0.290019\n",
       "1  AUC-ROC  0.80929  0.853096  0.749608"
      ]
     },
     "execution_count": 62,
     "metadata": {},
     "output_type": "execute_result"
    }
   ],
   "source": [
    "# для сравнения\n",
    "metrics_imbalance"
   ]
  },
  {
   "cell_type": "markdown",
   "metadata": {},
   "source": [
    "**Вывод:** значение метрики F1 моделей логистической регрессии и случайного леса выросло, а модели дерева решений - уменьшилось. При этом, самое большое значение по-прежнему получается у случайного леса. Что касается метрик AUC-ROC, они почти не изменились."
   ]
  },
  {
   "cell_type": "markdown",
   "metadata": {},
   "source": [
    "### Автоматическая балансировка "
   ]
  },
  {
   "cell_type": "markdown",
   "metadata": {},
   "source": [
    "Следует отметить, что автоматическую балансировку (использование метода class_weight) применяют не со сбалансированными данными. Использование сразу двух методов балансирования привело бы к новому дисбалансу, поэтому использовать такие методы нужно взаимоисключающе."
   ]
  },
  {
   "cell_type": "code",
   "execution_count": 63,
   "metadata": {},
   "outputs": [
    {
     "name": "stdout",
     "output_type": "stream",
     "text": [
      "Модель: dtc\n",
      "F1-метрика = 0.5264822134387352\n",
      "Матрица ошибок:\n",
      "[[1068  525]\n",
      " [  74  333]]\n",
      "AUC-ROC-метрика = 0.8278309125766753\n"
     ]
    }
   ],
   "source": [
    "dtc_balanced_f1, dtc_balanced_auc = get_model_metrics('dtc', features_train, target_train, True)"
   ]
  },
  {
   "cell_type": "code",
   "execution_count": 64,
   "metadata": {},
   "outputs": [
    {
     "name": "stdout",
     "output_type": "stream",
     "text": [
      "Модель: rfc\n",
      "F1-метрика = 0.5806451612903226\n",
      "Матрица ошибок:\n",
      "[[1406  187]\n",
      " [ 164  243]]\n",
      "AUC-ROC-метрика = 0.8474036440138136\n"
     ]
    }
   ],
   "source": [
    "rfc_balanced_f1, rfc_balanced_auc = get_model_metrics('rfc', features_train, target_train, True)"
   ]
  },
  {
   "cell_type": "code",
   "execution_count": 65,
   "metadata": {},
   "outputs": [
    {
     "name": "stdout",
     "output_type": "stream",
     "text": [
      "Модель: lr\n",
      "F1-метрика = 0.4756944444444445\n",
      "Матрица ошибок:\n",
      "[[1122  471]\n",
      " [ 133  274]]\n",
      "AUC-ROC-метрика = 0.7537645503747199\n"
     ]
    }
   ],
   "source": [
    "lr_balanced_f1, lr_balanced_auc = get_model_metrics('lr', features_train, target_train, True)"
   ]
  },
  {
   "cell_type": "markdown",
   "metadata": {},
   "source": [
    "___"
   ]
  },
  {
   "cell_type": "code",
   "execution_count": 66,
   "metadata": {},
   "outputs": [],
   "source": [
    "dtc_balanced_ser = pd.Series([dtc_balanced_f1, dtc_balanced_auc])\n",
    "rft_balanced_ser = pd.Series([rfc_balanced_f1, rfc_balanced_auc])\n",
    "lr_balanced_ser = pd.Series([lr_balanced_f1, lr_balanced_auc])\n",
    "\n",
    "dtc_balanced_df = dtc_balanced_ser.to_frame(name='DTC_balanced')\n",
    "rft_balanced_df = rft_balanced_ser.to_frame(name='RFT_balanced')\n",
    "lr_balanced_df = lr_balanced_ser.to_frame(name='LR_balanced')\n",
    "\n",
    "metrics_balanced = pd.concat([metrics_df, dtc_balanced_df, rft_balanced_df, lr_balanced_df], axis= 1)"
   ]
  },
  {
   "cell_type": "code",
   "execution_count": 67,
   "metadata": {},
   "outputs": [
    {
     "data": {
      "text/html": [
       "<div>\n",
       "<style scoped>\n",
       "    .dataframe tbody tr th:only-of-type {\n",
       "        vertical-align: middle;\n",
       "    }\n",
       "\n",
       "    .dataframe tbody tr th {\n",
       "        vertical-align: top;\n",
       "    }\n",
       "\n",
       "    .dataframe thead th {\n",
       "        text-align: right;\n",
       "    }\n",
       "</style>\n",
       "<table border=\"1\" class=\"dataframe\">\n",
       "  <thead>\n",
       "    <tr style=\"text-align: right;\">\n",
       "      <th></th>\n",
       "      <th>metrics</th>\n",
       "      <th>DTC_balanced</th>\n",
       "      <th>RFT_balanced</th>\n",
       "      <th>LR_balanced</th>\n",
       "    </tr>\n",
       "  </thead>\n",
       "  <tbody>\n",
       "    <tr>\n",
       "      <th>0</th>\n",
       "      <td>F1</td>\n",
       "      <td>0.526482</td>\n",
       "      <td>0.580645</td>\n",
       "      <td>0.475694</td>\n",
       "    </tr>\n",
       "    <tr>\n",
       "      <th>1</th>\n",
       "      <td>AUC-ROC</td>\n",
       "      <td>0.827831</td>\n",
       "      <td>0.847404</td>\n",
       "      <td>0.753765</td>\n",
       "    </tr>\n",
       "  </tbody>\n",
       "</table>\n",
       "</div>"
      ],
      "text/plain": [
       "   metrics  DTC_balanced  RFT_balanced  LR_balanced\n",
       "0       F1      0.526482      0.580645     0.475694\n",
       "1  AUC-ROC      0.827831      0.847404     0.753765"
      ]
     },
     "execution_count": 67,
     "metadata": {},
     "output_type": "execute_result"
    }
   ],
   "source": [
    "metrics_balanced"
   ]
  },
  {
   "cell_type": "code",
   "execution_count": 68,
   "metadata": {},
   "outputs": [
    {
     "data": {
      "text/html": [
       "<div>\n",
       "<style scoped>\n",
       "    .dataframe tbody tr th:only-of-type {\n",
       "        vertical-align: middle;\n",
       "    }\n",
       "\n",
       "    .dataframe tbody tr th {\n",
       "        vertical-align: top;\n",
       "    }\n",
       "\n",
       "    .dataframe thead th {\n",
       "        text-align: right;\n",
       "    }\n",
       "</style>\n",
       "<table border=\"1\" class=\"dataframe\">\n",
       "  <thead>\n",
       "    <tr style=\"text-align: right;\">\n",
       "      <th></th>\n",
       "      <th>metrics</th>\n",
       "      <th>DTC</th>\n",
       "      <th>RFT</th>\n",
       "      <th>LR</th>\n",
       "    </tr>\n",
       "  </thead>\n",
       "  <tbody>\n",
       "    <tr>\n",
       "      <th>0</th>\n",
       "      <td>F1</td>\n",
       "      <td>0.55287</td>\n",
       "      <td>0.555382</td>\n",
       "      <td>0.290019</td>\n",
       "    </tr>\n",
       "    <tr>\n",
       "      <th>1</th>\n",
       "      <td>AUC-ROC</td>\n",
       "      <td>0.80929</td>\n",
       "      <td>0.853096</td>\n",
       "      <td>0.749608</td>\n",
       "    </tr>\n",
       "  </tbody>\n",
       "</table>\n",
       "</div>"
      ],
      "text/plain": [
       "   metrics      DTC       RFT        LR\n",
       "0       F1  0.55287  0.555382  0.290019\n",
       "1  AUC-ROC  0.80929  0.853096  0.749608"
      ]
     },
     "execution_count": 68,
     "metadata": {},
     "output_type": "execute_result"
    }
   ],
   "source": [
    "# для сравнения\n",
    "metrics_imbalance"
   ]
  },
  {
   "cell_type": "markdown",
   "metadata": {},
   "source": [
    "**Вывод:** значение метрики F1 моделей логистической регрессии и случайного леса выросло, а модели дерева решений - уменьшилось. Самое большое значение по-прежнему получается у случайного леса. Что касается метрик AUC-ROC, они почти не изменились."
   ]
  },
  {
   "cell_type": "markdown",
   "metadata": {},
   "source": [
    "___"
   ]
  },
  {
   "cell_type": "code",
   "execution_count": 69,
   "metadata": {},
   "outputs": [
    {
     "data": {
      "text/html": [
       "<div>\n",
       "<style scoped>\n",
       "    .dataframe tbody tr th:only-of-type {\n",
       "        vertical-align: middle;\n",
       "    }\n",
       "\n",
       "    .dataframe tbody tr th {\n",
       "        vertical-align: top;\n",
       "    }\n",
       "\n",
       "    .dataframe thead th {\n",
       "        text-align: right;\n",
       "    }\n",
       "</style>\n",
       "<table border=\"1\" class=\"dataframe\">\n",
       "  <thead>\n",
       "    <tr style=\"text-align: right;\">\n",
       "      <th></th>\n",
       "      <th>metrics</th>\n",
       "      <th>DTC_ups</th>\n",
       "      <th>RFT_ups</th>\n",
       "      <th>LR_ups</th>\n",
       "    </tr>\n",
       "  </thead>\n",
       "  <tbody>\n",
       "    <tr>\n",
       "      <th>0</th>\n",
       "      <td>F1</td>\n",
       "      <td>0.526482</td>\n",
       "      <td>0.587054</td>\n",
       "      <td>0.480409</td>\n",
       "    </tr>\n",
       "    <tr>\n",
       "      <th>1</th>\n",
       "      <td>AUC-ROC</td>\n",
       "      <td>0.827831</td>\n",
       "      <td>0.842232</td>\n",
       "      <td>0.753873</td>\n",
       "    </tr>\n",
       "  </tbody>\n",
       "</table>\n",
       "</div>"
      ],
      "text/plain": [
       "   metrics   DTC_ups   RFT_ups    LR_ups\n",
       "0       F1  0.526482  0.587054  0.480409\n",
       "1  AUC-ROC  0.827831  0.842232  0.753873"
      ]
     },
     "execution_count": 69,
     "metadata": {},
     "output_type": "execute_result"
    }
   ],
   "source": [
    "metrics_upsample"
   ]
  },
  {
   "cell_type": "code",
   "execution_count": 70,
   "metadata": {},
   "outputs": [
    {
     "data": {
      "text/html": [
       "<div>\n",
       "<style scoped>\n",
       "    .dataframe tbody tr th:only-of-type {\n",
       "        vertical-align: middle;\n",
       "    }\n",
       "\n",
       "    .dataframe tbody tr th {\n",
       "        vertical-align: top;\n",
       "    }\n",
       "\n",
       "    .dataframe thead th {\n",
       "        text-align: right;\n",
       "    }\n",
       "</style>\n",
       "<table border=\"1\" class=\"dataframe\">\n",
       "  <thead>\n",
       "    <tr style=\"text-align: right;\">\n",
       "      <th></th>\n",
       "      <th>metrics</th>\n",
       "      <th>DTC_downs</th>\n",
       "      <th>RFT_downs</th>\n",
       "      <th>LR_downs</th>\n",
       "    </tr>\n",
       "  </thead>\n",
       "  <tbody>\n",
       "    <tr>\n",
       "      <th>0</th>\n",
       "      <td>F1</td>\n",
       "      <td>0.522342</td>\n",
       "      <td>0.565581</td>\n",
       "      <td>0.481702</td>\n",
       "    </tr>\n",
       "    <tr>\n",
       "      <th>1</th>\n",
       "      <td>AUC-ROC</td>\n",
       "      <td>0.829295</td>\n",
       "      <td>0.845362</td>\n",
       "      <td>0.751357</td>\n",
       "    </tr>\n",
       "  </tbody>\n",
       "</table>\n",
       "</div>"
      ],
      "text/plain": [
       "   metrics  DTC_downs  RFT_downs  LR_downs\n",
       "0       F1   0.522342   0.565581  0.481702\n",
       "1  AUC-ROC   0.829295   0.845362  0.751357"
      ]
     },
     "execution_count": 70,
     "metadata": {},
     "output_type": "execute_result"
    }
   ],
   "source": [
    "metrics_downsample"
   ]
  },
  {
   "cell_type": "code",
   "execution_count": 71,
   "metadata": {},
   "outputs": [
    {
     "data": {
      "text/html": [
       "<div>\n",
       "<style scoped>\n",
       "    .dataframe tbody tr th:only-of-type {\n",
       "        vertical-align: middle;\n",
       "    }\n",
       "\n",
       "    .dataframe tbody tr th {\n",
       "        vertical-align: top;\n",
       "    }\n",
       "\n",
       "    .dataframe thead th {\n",
       "        text-align: right;\n",
       "    }\n",
       "</style>\n",
       "<table border=\"1\" class=\"dataframe\">\n",
       "  <thead>\n",
       "    <tr style=\"text-align: right;\">\n",
       "      <th></th>\n",
       "      <th>metrics</th>\n",
       "      <th>DTC_balanced</th>\n",
       "      <th>RFT_balanced</th>\n",
       "      <th>LR_balanced</th>\n",
       "    </tr>\n",
       "  </thead>\n",
       "  <tbody>\n",
       "    <tr>\n",
       "      <th>0</th>\n",
       "      <td>F1</td>\n",
       "      <td>0.526482</td>\n",
       "      <td>0.580645</td>\n",
       "      <td>0.475694</td>\n",
       "    </tr>\n",
       "    <tr>\n",
       "      <th>1</th>\n",
       "      <td>AUC-ROC</td>\n",
       "      <td>0.827831</td>\n",
       "      <td>0.847404</td>\n",
       "      <td>0.753765</td>\n",
       "    </tr>\n",
       "  </tbody>\n",
       "</table>\n",
       "</div>"
      ],
      "text/plain": [
       "   metrics  DTC_balanced  RFT_balanced  LR_balanced\n",
       "0       F1      0.526482      0.580645     0.475694\n",
       "1  AUC-ROC      0.827831      0.847404     0.753765"
      ]
     },
     "execution_count": 71,
     "metadata": {},
     "output_type": "execute_result"
    }
   ],
   "source": [
    "metrics_balanced"
   ]
  },
  {
   "cell_type": "markdown",
   "metadata": {},
   "source": [
    "**Общий вывод:** самое большое значение F1-меры получилось у модели случайного леса при увеличении выборки. Эту модель будем использовать для финального тестирования. Метрики AUC-ROC во время экспериментов практически не изменялись, скорее всего она малочувствительна к дисбалансу в выборках."
   ]
  },
  {
   "cell_type": "markdown",
   "metadata": {},
   "source": [
    "## Тестирование модели"
   ]
  },
  {
   "cell_type": "code",
   "execution_count": 72,
   "metadata": {},
   "outputs": [
    {
     "name": "stdout",
     "output_type": "stream",
     "text": [
      "Значения наилучшей модели:\n",
      "Количество деревьев = 90\n",
      "Глубина дерева = 8\n",
      "F1-метрика = 0.6104166666666666\n"
     ]
    }
   ],
   "source": [
    "# Подготовка модели для финального тестирования\n",
    "best_model_test = None\n",
    "best_est_test = 0\n",
    "best_depth_test = 0\n",
    "best_result_f1_test = 0\n",
    "\n",
    "for est in range(10, 101, 10):\n",
    "    for depth in range (1, 21):\n",
    "        model = RandomForestClassifier(random_state=RANDOM_STATE, n_estimators=est, max_depth=depth)\n",
    "        model.fit(features_upsampled, target_upsampled) \n",
    "        predictions_valid = model.predict(features_valid) \n",
    "        result_f1 = f1_score(target_valid, predictions_valid)\n",
    "    \n",
    "        if result_f1 > best_result_f1_test:\n",
    "            best_model_test = model \n",
    "            best_est_test = est\n",
    "            best_depth_test = depth\n",
    "            best_result_f1_test = result_f1   \n",
    "\n",
    "print('Значения наилучшей модели:')\n",
    "print('Количество деревьев =', best_est_test)\n",
    "print('Глубина дерева =', best_depth_test)\n",
    "print('F1-метрика =', best_result_f1_test)"
   ]
  },
  {
   "cell_type": "code",
   "execution_count": 73,
   "metadata": {},
   "outputs": [
    {
     "name": "stdout",
     "output_type": "stream",
     "text": [
      "F1-метрика на тестовой выборке = 0.640495867768595\n"
     ]
    }
   ],
   "source": [
    "predictions_test = best_model_test.predict(features_test)\n",
    "result_f1_test = f1_score(target_test, predictions_test)\n",
    "\n",
    "print('F1-метрика на тестовой выборке =', result_f1_test)"
   ]
  },
  {
   "cell_type": "markdown",
   "metadata": {},
   "source": [
    "## Общий вывод"
   ]
  },
  {
   "cell_type": "markdown",
   "metadata": {},
   "source": [
    "**1. Обзор и подготовка данных.**\n",
    "\n",
    "В каждой строке таблицы данных - информация о клиенте «Бета-Банка». Часть из них содержит общие данные о человеке: уникальный идентификатор клиента, фамилию, страну проживания, пол, возраст, кредитный рейтинг, сколько лет человек является клиентом банка и предполагаемую зарплату. Другие - это показатели, которые характеризуют его финансовую составляющую в этом банке: баланс на счёте, количество продуктов банка, используемых клиентом, наличие кредитной карты, активность клиента и факт ухода клиента из банка.\n",
    "\n",
    "В данных присутствовали категориальные признаки: пол и страна. Их было необходимо преобразовать в количественные, для этого использовались техники прямого кодирования, или отображения (One-Hot Encoding) - для пола и порядкового кодирования (Ordinal Encoding) - для страны.\n",
    "\n",
    "Так же в столбцах со значением баланса на счету, кредитного рейтинга и предполагаемой зарплатой имелся большой разброс данных, их было необходимо масштабировать. Для этого использован метод стандартизации данных.\n",
    "\n",
    "Столбцы с фамилией, уникальным идентификатором клиента и порядковым номером - являются данными, которые мало влияют на факт ухода клиента из банка, они были удалены из списка признаков.\n",
    "\n",
    "В конце все данные были разделены на 3 выборки: обучающую, валидационную и тестовую в соотношении 60:20:20 соответственно. Было выявлено, что в данных есть дисбаланс классов: клиентов, которые не ушли из банка примерно в 4 раза больше."
   ]
  },
  {
   "cell_type": "markdown",
   "metadata": {},
   "source": [
    "**2. Исследование качества разных моделей.**\n",
    "\n",
    "Прогноз, уйдёт клиент из банка в ближайшее время или нет - задача классификации. В проекте рассмотрено 3 вида моделей:\n",
    "- дерево решений;\n",
    "- случайный лес;\n",
    "- логистическая регрессия.\n",
    "\n",
    "Для сравнения качества модели использовалась F1-метрика. Так же параллельно вычислялись значения AUC-ROC метрики. \n",
    "\n",
    "Первое исследование моделей прошло без учета дисбаланса в данных, самое высокое значение F1-метрики получила модель случайного леса с количеством деревьев 20 и глубиной 10.\n",
    "\n",
    "Для борьбы с дисбалансом опробованы 3 метода:\n",
    "- увеличения выборки;\n",
    "- уменьшения выборки;\n",
    "- атоматической балансировки.\n",
    "\n",
    "Во всех 3 случаях самые высокие значения F1-меры получила модель случайного леса, самые низкие - модель логистической регрессии. Метрика AUC-ROC во время экспериментов практически не изменялась, скорее всего она малочувствительна к дисбалансу в выборках."
   ]
  },
  {
   "cell_type": "markdown",
   "metadata": {},
   "source": [
    "**3. Финальное тестирование.**\n",
    "\n",
    "Для финального тестирования была выбрана модель, которая получила самое высокое значение F1 - модель случайного леса при увеличении выборки (F1 = 0.59).\n",
    "\n",
    "Проверкой на тестовой выборке было достигнуто значения F1-меры 0.65. Удалось достичь нужного качества модели (более 0.59)."
   ]
  }
 ],
 "metadata": {
  "ExecuteTimeLog": [
   {
    "duration": 393,
    "start_time": "2023-07-30T17:21:20.616Z"
   },
   {
    "duration": 82,
    "start_time": "2023-07-30T17:22:25.842Z"
   },
   {
    "duration": 20,
    "start_time": "2023-07-30T17:22:32.551Z"
   },
   {
    "duration": 12,
    "start_time": "2023-07-30T17:22:48.563Z"
   },
   {
    "duration": 7,
    "start_time": "2023-07-30T17:31:36.788Z"
   },
   {
    "duration": 20,
    "start_time": "2023-07-30T17:32:28.058Z"
   },
   {
    "duration": 45,
    "start_time": "2023-08-07T20:39:36.922Z"
   },
   {
    "duration": 412,
    "start_time": "2023-08-07T20:39:42.010Z"
   },
   {
    "duration": 82,
    "start_time": "2023-08-07T20:39:42.424Z"
   },
   {
    "duration": 18,
    "start_time": "2023-08-07T20:39:42.508Z"
   },
   {
    "duration": 27,
    "start_time": "2023-08-07T20:39:42.528Z"
   },
   {
    "duration": 41,
    "start_time": "2023-08-07T20:39:42.558Z"
   },
   {
    "duration": 7,
    "start_time": "2023-08-07T20:39:42.601Z"
   },
   {
    "duration": 29,
    "start_time": "2023-08-07T20:39:42.610Z"
   },
   {
    "duration": 5,
    "start_time": "2023-08-07T20:41:31.656Z"
   },
   {
    "duration": 12,
    "start_time": "2023-08-07T21:16:04.560Z"
   },
   {
    "duration": 8,
    "start_time": "2023-08-07T21:22:59.950Z"
   },
   {
    "duration": 13,
    "start_time": "2023-08-07T21:23:06.507Z"
   },
   {
    "duration": 7,
    "start_time": "2023-08-07T21:26:18.302Z"
   },
   {
    "duration": 67,
    "start_time": "2023-08-07T21:27:08.523Z"
   },
   {
    "duration": 17,
    "start_time": "2023-08-07T21:27:13.687Z"
   },
   {
    "duration": 8,
    "start_time": "2023-08-07T21:28:00.607Z"
   },
   {
    "duration": 687,
    "start_time": "2023-08-07T21:28:34.167Z"
   },
   {
    "duration": 3,
    "start_time": "2023-08-07T21:29:14.268Z"
   },
   {
    "duration": 85,
    "start_time": "2023-08-07T21:31:30.288Z"
   },
   {
    "duration": 30,
    "start_time": "2023-08-07T21:31:38.657Z"
   },
   {
    "duration": 15,
    "start_time": "2023-08-07T21:31:48.294Z"
   },
   {
    "duration": 17,
    "start_time": "2023-08-07T21:32:26.298Z"
   },
   {
    "duration": 15,
    "start_time": "2023-08-07T21:32:32.107Z"
   },
   {
    "duration": 2,
    "start_time": "2023-08-07T21:36:10.702Z"
   },
   {
    "duration": 2,
    "start_time": "2023-08-07T21:36:12.313Z"
   },
   {
    "duration": 6,
    "start_time": "2023-08-07T21:36:16.288Z"
   },
   {
    "duration": 8,
    "start_time": "2023-08-07T21:39:00.542Z"
   },
   {
    "duration": 26,
    "start_time": "2023-08-07T21:39:04.327Z"
   },
   {
    "duration": 18,
    "start_time": "2023-08-07T21:39:16.791Z"
   },
   {
    "duration": 1057,
    "start_time": "2023-08-07T21:39:36.700Z"
   },
   {
    "duration": 46,
    "start_time": "2023-08-07T21:39:37.759Z"
   },
   {
    "duration": 19,
    "start_time": "2023-08-07T21:39:37.807Z"
   },
   {
    "duration": 14,
    "start_time": "2023-08-07T21:39:37.828Z"
   },
   {
    "duration": 52,
    "start_time": "2023-08-07T21:39:37.844Z"
   },
   {
    "duration": 6,
    "start_time": "2023-08-07T21:39:37.898Z"
   },
   {
    "duration": 24,
    "start_time": "2023-08-07T21:39:37.906Z"
   },
   {
    "duration": 12,
    "start_time": "2023-08-07T21:39:37.933Z"
   },
   {
    "duration": 7,
    "start_time": "2023-08-07T21:39:37.947Z"
   },
   {
    "duration": 50,
    "start_time": "2023-08-07T21:39:37.956Z"
   },
   {
    "duration": 13,
    "start_time": "2023-08-07T21:39:38.008Z"
   },
   {
    "duration": 3,
    "start_time": "2023-08-07T21:39:38.023Z"
   },
   {
    "duration": 5,
    "start_time": "2023-08-07T21:39:38.028Z"
   },
   {
    "duration": 7,
    "start_time": "2023-08-07T21:39:38.035Z"
   },
   {
    "duration": 15,
    "start_time": "2023-08-07T21:39:55.111Z"
   },
   {
    "duration": 99,
    "start_time": "2023-08-07T21:41:12.407Z"
   },
   {
    "duration": 3,
    "start_time": "2023-08-07T21:41:17.219Z"
   },
   {
    "duration": 22,
    "start_time": "2023-08-07T21:41:18.647Z"
   },
   {
    "duration": 14,
    "start_time": "2023-08-07T21:41:20.320Z"
   },
   {
    "duration": 11,
    "start_time": "2023-08-07T21:42:54.945Z"
   },
   {
    "duration": 20,
    "start_time": "2023-08-07T21:42:59.427Z"
   },
   {
    "duration": 12,
    "start_time": "2023-08-07T21:43:01.088Z"
   },
   {
    "duration": 22,
    "start_time": "2023-08-07T21:43:30.758Z"
   },
   {
    "duration": 4,
    "start_time": "2023-08-07T21:44:31.215Z"
   },
   {
    "duration": 18,
    "start_time": "2023-08-07T21:50:51.814Z"
   },
   {
    "duration": 5,
    "start_time": "2023-08-07T21:51:36.507Z"
   },
   {
    "duration": 7,
    "start_time": "2023-08-07T21:52:06.614Z"
   },
   {
    "duration": 5,
    "start_time": "2023-08-07T21:53:25.607Z"
   },
   {
    "duration": 3,
    "start_time": "2023-08-07T21:55:16.811Z"
   },
   {
    "duration": 3,
    "start_time": "2023-08-07T21:55:19.199Z"
   },
   {
    "duration": 11,
    "start_time": "2023-08-07T21:55:20.658Z"
   },
   {
    "duration": 11,
    "start_time": "2023-08-07T21:55:23.987Z"
   },
   {
    "duration": 12,
    "start_time": "2023-08-07T21:55:56.156Z"
   },
   {
    "duration": 10,
    "start_time": "2023-08-07T21:57:09.666Z"
   },
   {
    "duration": 20,
    "start_time": "2023-08-07T21:57:25.535Z"
   },
   {
    "duration": 1093,
    "start_time": "2023-08-07T21:57:43.694Z"
   },
   {
    "duration": 43,
    "start_time": "2023-08-07T21:57:44.789Z"
   },
   {
    "duration": 24,
    "start_time": "2023-08-07T21:57:44.834Z"
   },
   {
    "duration": 39,
    "start_time": "2023-08-07T21:57:44.859Z"
   },
   {
    "duration": 76,
    "start_time": "2023-08-07T21:57:44.900Z"
   },
   {
    "duration": 7,
    "start_time": "2023-08-07T21:57:44.978Z"
   },
   {
    "duration": 96,
    "start_time": "2023-08-07T21:57:44.987Z"
   },
   {
    "duration": 63,
    "start_time": "2023-08-07T21:57:45.085Z"
   },
   {
    "duration": 45,
    "start_time": "2023-08-07T21:57:45.150Z"
   },
   {
    "duration": 53,
    "start_time": "2023-08-07T21:57:45.196Z"
   },
   {
    "duration": 39,
    "start_time": "2023-08-07T21:57:45.251Z"
   },
   {
    "duration": 68,
    "start_time": "2023-08-07T21:57:45.292Z"
   },
   {
    "duration": 56,
    "start_time": "2023-08-07T21:57:45.362Z"
   },
   {
    "duration": 62,
    "start_time": "2023-08-07T21:57:45.421Z"
   },
   {
    "duration": 58,
    "start_time": "2023-08-07T21:57:45.485Z"
   },
   {
    "duration": 56,
    "start_time": "2023-08-07T21:57:45.545Z"
   },
   {
    "duration": 40,
    "start_time": "2023-08-07T21:57:45.603Z"
   },
   {
    "duration": 57,
    "start_time": "2023-08-07T21:57:45.644Z"
   },
   {
    "duration": 50,
    "start_time": "2023-08-07T21:57:45.703Z"
   },
   {
    "duration": 71,
    "start_time": "2023-08-07T21:57:45.755Z"
   },
   {
    "duration": 38,
    "start_time": "2023-08-07T21:57:45.828Z"
   },
   {
    "duration": 65,
    "start_time": "2023-08-07T21:57:45.868Z"
   },
   {
    "duration": 65,
    "start_time": "2023-08-07T21:57:45.934Z"
   },
   {
    "duration": 1029,
    "start_time": "2023-08-07T22:02:19.857Z"
   },
   {
    "duration": 44,
    "start_time": "2023-08-07T22:02:20.889Z"
   },
   {
    "duration": 23,
    "start_time": "2023-08-07T22:02:20.934Z"
   },
   {
    "duration": 21,
    "start_time": "2023-08-07T22:02:20.959Z"
   },
   {
    "duration": 40,
    "start_time": "2023-08-07T22:02:20.983Z"
   },
   {
    "duration": 7,
    "start_time": "2023-08-07T22:02:21.025Z"
   },
   {
    "duration": 23,
    "start_time": "2023-08-07T22:02:21.034Z"
   },
   {
    "duration": 10,
    "start_time": "2023-08-07T22:02:21.060Z"
   },
   {
    "duration": 25,
    "start_time": "2023-08-07T22:02:21.071Z"
   },
   {
    "duration": 11,
    "start_time": "2023-08-07T22:02:21.098Z"
   },
   {
    "duration": 9,
    "start_time": "2023-08-07T22:02:21.111Z"
   },
   {
    "duration": 13,
    "start_time": "2023-08-07T22:02:21.121Z"
   },
   {
    "duration": 7,
    "start_time": "2023-08-07T22:02:21.135Z"
   },
   {
    "duration": 21,
    "start_time": "2023-08-07T22:02:21.144Z"
   },
   {
    "duration": 45,
    "start_time": "2023-08-07T22:02:21.167Z"
   },
   {
    "duration": 12,
    "start_time": "2023-08-07T22:02:21.214Z"
   },
   {
    "duration": 10,
    "start_time": "2023-08-07T22:02:21.228Z"
   },
   {
    "duration": 13,
    "start_time": "2023-08-07T22:02:21.240Z"
   },
   {
    "duration": 6,
    "start_time": "2023-08-07T22:02:21.255Z"
   },
   {
    "duration": 6,
    "start_time": "2023-08-07T22:02:21.262Z"
   },
   {
    "duration": 14,
    "start_time": "2023-08-07T22:02:21.269Z"
   },
   {
    "duration": 21,
    "start_time": "2023-08-07T22:02:21.285Z"
   },
   {
    "duration": 17,
    "start_time": "2023-08-07T22:02:21.307Z"
   },
   {
    "duration": 102,
    "start_time": "2023-08-07T22:03:47.109Z"
   },
   {
    "duration": 1113,
    "start_time": "2023-08-07T22:03:53.419Z"
   },
   {
    "duration": 43,
    "start_time": "2023-08-07T22:03:54.535Z"
   },
   {
    "duration": 20,
    "start_time": "2023-08-07T22:03:54.580Z"
   },
   {
    "duration": 13,
    "start_time": "2023-08-07T22:03:54.602Z"
   },
   {
    "duration": 52,
    "start_time": "2023-08-07T22:03:54.617Z"
   },
   {
    "duration": 6,
    "start_time": "2023-08-07T22:03:54.670Z"
   },
   {
    "duration": 21,
    "start_time": "2023-08-07T22:03:54.678Z"
   },
   {
    "duration": 25,
    "start_time": "2023-08-07T22:03:54.701Z"
   },
   {
    "duration": 10,
    "start_time": "2023-08-07T22:03:54.728Z"
   },
   {
    "duration": 4,
    "start_time": "2023-08-07T22:03:54.740Z"
   },
   {
    "duration": 16,
    "start_time": "2023-08-07T22:03:54.746Z"
   },
   {
    "duration": 36,
    "start_time": "2023-08-07T22:03:54.764Z"
   },
   {
    "duration": 12,
    "start_time": "2023-08-07T22:03:54.802Z"
   },
   {
    "duration": 7,
    "start_time": "2023-08-07T22:03:54.818Z"
   },
   {
    "duration": 22,
    "start_time": "2023-08-07T22:03:54.827Z"
   },
   {
    "duration": 22,
    "start_time": "2023-08-07T22:03:54.851Z"
   },
   {
    "duration": 4,
    "start_time": "2023-08-07T22:03:54.895Z"
   },
   {
    "duration": 11,
    "start_time": "2023-08-07T22:03:54.901Z"
   },
   {
    "duration": 10,
    "start_time": "2023-08-07T22:03:54.914Z"
   },
   {
    "duration": 5,
    "start_time": "2023-08-07T22:03:54.926Z"
   },
   {
    "duration": 9,
    "start_time": "2023-08-07T22:03:54.932Z"
   },
   {
    "duration": 11,
    "start_time": "2023-08-07T22:03:54.943Z"
   },
   {
    "duration": 13,
    "start_time": "2023-08-07T22:03:54.956Z"
   },
   {
    "duration": 47,
    "start_time": "2023-08-07T22:03:54.970Z"
   },
   {
    "duration": 85,
    "start_time": "2023-08-07T22:07:33.662Z"
   },
   {
    "duration": 21,
    "start_time": "2023-08-07T22:07:59.735Z"
   },
   {
    "duration": 5,
    "start_time": "2023-08-07T22:08:24.838Z"
   },
   {
    "duration": 6,
    "start_time": "2023-08-07T22:08:35.087Z"
   },
   {
    "duration": 56,
    "start_time": "2023-08-07T22:13:35.791Z"
   },
   {
    "duration": 3,
    "start_time": "2023-08-07T22:21:16.141Z"
   },
   {
    "duration": 1100,
    "start_time": "2023-08-07T22:54:11.087Z"
   },
   {
    "duration": 41,
    "start_time": "2023-08-07T22:54:12.190Z"
   },
   {
    "duration": 18,
    "start_time": "2023-08-07T22:54:12.233Z"
   },
   {
    "duration": 13,
    "start_time": "2023-08-07T22:54:12.253Z"
   },
   {
    "duration": 73,
    "start_time": "2023-08-07T22:54:12.268Z"
   },
   {
    "duration": 6,
    "start_time": "2023-08-07T22:54:12.343Z"
   },
   {
    "duration": 17,
    "start_time": "2023-08-07T22:54:12.351Z"
   },
   {
    "duration": 37,
    "start_time": "2023-08-07T22:54:12.370Z"
   },
   {
    "duration": 18,
    "start_time": "2023-08-07T22:54:12.409Z"
   },
   {
    "duration": 10,
    "start_time": "2023-08-07T22:54:12.428Z"
   },
   {
    "duration": 21,
    "start_time": "2023-08-07T22:54:12.439Z"
   },
   {
    "duration": 15,
    "start_time": "2023-08-07T22:54:12.462Z"
   },
   {
    "duration": 18,
    "start_time": "2023-08-07T22:54:12.479Z"
   },
   {
    "duration": 10,
    "start_time": "2023-08-07T22:54:12.502Z"
   },
   {
    "duration": 33,
    "start_time": "2023-08-07T22:54:12.514Z"
   },
   {
    "duration": 22,
    "start_time": "2023-08-07T22:54:12.549Z"
   },
   {
    "duration": 17,
    "start_time": "2023-08-07T22:54:12.573Z"
   },
   {
    "duration": 8,
    "start_time": "2023-08-07T22:54:12.592Z"
   },
   {
    "duration": 6,
    "start_time": "2023-08-07T22:54:12.602Z"
   },
   {
    "duration": 4,
    "start_time": "2023-08-07T22:54:12.609Z"
   },
   {
    "duration": 18,
    "start_time": "2023-08-07T22:54:12.615Z"
   },
   {
    "duration": 19,
    "start_time": "2023-08-07T22:54:12.634Z"
   },
   {
    "duration": 10,
    "start_time": "2023-08-07T22:54:12.654Z"
   },
   {
    "duration": 21,
    "start_time": "2023-08-07T22:54:12.665Z"
   },
   {
    "duration": 16,
    "start_time": "2023-08-07T22:54:12.694Z"
   },
   {
    "duration": 3,
    "start_time": "2023-08-07T22:54:12.711Z"
   },
   {
    "duration": 9,
    "start_time": "2023-08-07T22:54:12.716Z"
   },
   {
    "duration": 3,
    "start_time": "2023-08-07T22:57:46.411Z"
   },
   {
    "duration": 541,
    "start_time": "2023-08-07T23:00:43.812Z"
   },
   {
    "duration": 866,
    "start_time": "2023-08-07T23:01:01.455Z"
   },
   {
    "duration": 331,
    "start_time": "2023-08-07T23:01:10.842Z"
   },
   {
    "duration": 197,
    "start_time": "2023-08-07T23:01:15.316Z"
   },
   {
    "duration": 52,
    "start_time": "2023-08-07T23:01:21.810Z"
   },
   {
    "duration": 201,
    "start_time": "2023-08-07T23:01:27.691Z"
   },
   {
    "duration": 5,
    "start_time": "2023-08-07T23:02:32.177Z"
   },
   {
    "duration": 4,
    "start_time": "2023-08-07T23:02:47.146Z"
   },
   {
    "duration": 110,
    "start_time": "2023-08-07T23:14:42.438Z"
   },
   {
    "duration": 22,
    "start_time": "2023-08-07T23:15:46.888Z"
   },
   {
    "duration": 4,
    "start_time": "2023-08-07T23:16:16.013Z"
   },
   {
    "duration": 210,
    "start_time": "2023-08-07T23:16:21.756Z"
   },
   {
    "duration": 250,
    "start_time": "2023-08-07T23:20:23.196Z"
   },
   {
    "duration": 217,
    "start_time": "2023-08-07T23:22:13.101Z"
   },
   {
    "duration": 219,
    "start_time": "2023-08-07T23:23:47.439Z"
   },
   {
    "duration": 235,
    "start_time": "2023-08-07T23:25:24.584Z"
   },
   {
    "duration": 12319,
    "start_time": "2023-08-07T23:25:51.780Z"
   },
   {
    "duration": 22408,
    "start_time": "2023-08-07T23:26:25.229Z"
   },
   {
    "duration": 2117,
    "start_time": "2023-08-07T23:30:41.578Z"
   },
   {
    "duration": 3679,
    "start_time": "2023-08-07T23:31:04.316Z"
   },
   {
    "duration": 283,
    "start_time": "2023-08-07T23:38:07.899Z"
   },
   {
    "duration": 248,
    "start_time": "2023-08-07T23:38:33.521Z"
   },
   {
    "duration": 251,
    "start_time": "2023-08-07T23:38:47.825Z"
   },
   {
    "duration": 228,
    "start_time": "2023-08-07T23:39:08.856Z"
   },
   {
    "duration": 219,
    "start_time": "2023-08-07T23:41:51.824Z"
   },
   {
    "duration": 193,
    "start_time": "2023-08-08T00:08:09.222Z"
   },
   {
    "duration": 19767,
    "start_time": "2023-08-08T00:08:37.926Z"
   },
   {
    "duration": 51447,
    "start_time": "2023-08-08T00:09:31.001Z"
   },
   {
    "duration": 8869,
    "start_time": "2023-08-08T00:11:00.640Z"
   },
   {
    "duration": 205,
    "start_time": "2023-08-08T00:14:44.449Z"
   },
   {
    "duration": 216,
    "start_time": "2023-08-08T00:15:31.183Z"
   },
   {
    "duration": 34,
    "start_time": "2023-08-08T00:17:07.723Z"
   },
   {
    "duration": 29,
    "start_time": "2023-08-08T00:17:46.321Z"
   },
   {
    "duration": 222,
    "start_time": "2023-08-08T00:18:45.174Z"
   },
   {
    "duration": 34,
    "start_time": "2023-08-08T00:19:28.416Z"
   },
   {
    "duration": 32,
    "start_time": "2023-08-08T00:19:59.782Z"
   },
   {
    "duration": 4,
    "start_time": "2023-08-08T00:20:25.992Z"
   },
   {
    "duration": 233,
    "start_time": "2023-08-08T00:21:25.126Z"
   },
   {
    "duration": 4,
    "start_time": "2023-08-08T00:25:14.841Z"
   },
   {
    "duration": 278,
    "start_time": "2023-08-08T00:25:19.580Z"
   },
   {
    "duration": 225,
    "start_time": "2023-08-08T00:26:34.147Z"
   },
   {
    "duration": 30,
    "start_time": "2023-08-08T00:26:52.083Z"
   },
   {
    "duration": 202,
    "start_time": "2023-08-08T00:27:51.893Z"
   },
   {
    "duration": 29,
    "start_time": "2023-08-08T00:28:03.232Z"
   },
   {
    "duration": 568,
    "start_time": "2023-08-08T00:28:17.855Z"
   },
   {
    "duration": 209,
    "start_time": "2023-08-08T00:28:22.588Z"
   },
   {
    "duration": 34,
    "start_time": "2023-08-08T00:29:24.160Z"
   },
   {
    "duration": 35,
    "start_time": "2023-08-08T00:30:30.051Z"
   },
   {
    "duration": 134,
    "start_time": "2023-08-08T00:30:57.817Z"
   },
   {
    "duration": 3496,
    "start_time": "2023-08-08T00:32:55.300Z"
   },
   {
    "duration": 139412,
    "start_time": "2023-08-08T00:39:14.271Z"
   },
   {
    "duration": 52507,
    "start_time": "2023-08-08T00:42:05.947Z"
   },
   {
    "duration": 6,
    "start_time": "2023-08-08T00:45:57.067Z"
   },
   {
    "duration": 3467,
    "start_time": "2023-08-08T00:54:07.047Z"
   },
   {
    "duration": 2613,
    "start_time": "2023-08-08T00:54:37.601Z"
   },
   {
    "duration": 4,
    "start_time": "2023-08-08T01:04:10.179Z"
   },
   {
    "duration": 7,
    "start_time": "2023-08-08T01:05:46.551Z"
   },
   {
    "duration": 8,
    "start_time": "2023-08-08T01:05:51.030Z"
   },
   {
    "duration": 71,
    "start_time": "2023-08-08T01:12:24.929Z"
   },
   {
    "duration": 3722,
    "start_time": "2023-08-08T01:12:34.374Z"
   },
   {
    "duration": 40,
    "start_time": "2023-08-08T01:29:16.771Z"
   },
   {
    "duration": 155,
    "start_time": "2023-08-08T01:31:14.157Z"
   },
   {
    "duration": 3325,
    "start_time": "2023-08-08T01:32:35.190Z"
   },
   {
    "duration": 34,
    "start_time": "2023-08-08T01:43:44.994Z"
   },
   {
    "duration": 158,
    "start_time": "2023-08-08T01:44:07.439Z"
   },
   {
    "duration": 180,
    "start_time": "2023-08-08T01:44:21.223Z"
   },
   {
    "duration": 128,
    "start_time": "2023-08-08T01:44:47.369Z"
   },
   {
    "duration": 3,
    "start_time": "2023-08-08T01:45:07.128Z"
   },
   {
    "duration": 1208,
    "start_time": "2023-08-08T12:14:14.173Z"
   },
   {
    "duration": 85,
    "start_time": "2023-08-08T12:14:15.383Z"
   },
   {
    "duration": 23,
    "start_time": "2023-08-08T12:14:15.470Z"
   },
   {
    "duration": 13,
    "start_time": "2023-08-08T12:14:15.494Z"
   },
   {
    "duration": 60,
    "start_time": "2023-08-08T12:14:15.510Z"
   },
   {
    "duration": 41,
    "start_time": "2023-08-08T12:14:15.571Z"
   },
   {
    "duration": 19,
    "start_time": "2023-08-08T12:14:15.614Z"
   },
   {
    "duration": 28,
    "start_time": "2023-08-08T12:14:15.635Z"
   },
   {
    "duration": 12,
    "start_time": "2023-08-08T12:14:15.666Z"
   },
   {
    "duration": 17,
    "start_time": "2023-08-08T12:14:15.680Z"
   },
   {
    "duration": 46,
    "start_time": "2023-08-08T12:14:15.699Z"
   },
   {
    "duration": 17,
    "start_time": "2023-08-08T12:14:15.747Z"
   },
   {
    "duration": 58,
    "start_time": "2023-08-08T12:14:15.766Z"
   },
   {
    "duration": 36,
    "start_time": "2023-08-08T12:14:15.828Z"
   },
   {
    "duration": 25,
    "start_time": "2023-08-08T12:14:15.866Z"
   },
   {
    "duration": 35,
    "start_time": "2023-08-08T12:14:15.893Z"
   },
   {
    "duration": 69,
    "start_time": "2023-08-08T12:14:15.931Z"
   },
   {
    "duration": 48,
    "start_time": "2023-08-08T12:14:16.004Z"
   },
   {
    "duration": 13,
    "start_time": "2023-08-08T12:14:16.054Z"
   },
   {
    "duration": 109,
    "start_time": "2023-08-08T12:14:16.068Z"
   },
   {
    "duration": 72,
    "start_time": "2023-08-08T12:14:16.179Z"
   },
   {
    "duration": 41,
    "start_time": "2023-08-08T12:14:16.253Z"
   },
   {
    "duration": 122,
    "start_time": "2023-08-08T12:14:16.296Z"
   },
   {
    "duration": 32,
    "start_time": "2023-08-08T12:14:16.420Z"
   },
   {
    "duration": 26,
    "start_time": "2023-08-08T12:14:16.454Z"
   },
   {
    "duration": 62,
    "start_time": "2023-08-08T12:14:16.482Z"
   },
   {
    "duration": 18,
    "start_time": "2023-08-08T12:14:16.546Z"
   },
   {
    "duration": 141,
    "start_time": "2023-08-08T12:14:16.566Z"
   },
   {
    "duration": 63,
    "start_time": "2023-08-08T12:14:16.709Z"
   },
   {
    "duration": 61,
    "start_time": "2023-08-08T12:14:16.774Z"
   },
   {
    "duration": 153,
    "start_time": "2023-08-08T12:14:16.837Z"
   },
   {
    "duration": 0,
    "start_time": "2023-08-08T12:14:16.992Z"
   },
   {
    "duration": 0,
    "start_time": "2023-08-08T12:14:16.993Z"
   },
   {
    "duration": 0,
    "start_time": "2023-08-08T12:14:16.994Z"
   },
   {
    "duration": 0,
    "start_time": "2023-08-08T12:14:16.996Z"
   },
   {
    "duration": 0,
    "start_time": "2023-08-08T12:14:16.997Z"
   },
   {
    "duration": 0,
    "start_time": "2023-08-08T12:14:16.998Z"
   },
   {
    "duration": 0,
    "start_time": "2023-08-08T12:14:17.008Z"
   },
   {
    "duration": 158,
    "start_time": "2023-08-08T12:17:28.764Z"
   },
   {
    "duration": 16,
    "start_time": "2023-08-08T12:20:00.772Z"
   },
   {
    "duration": 182,
    "start_time": "2023-08-08T12:20:58.009Z"
   },
   {
    "duration": 168,
    "start_time": "2023-08-08T12:22:39.804Z"
   },
   {
    "duration": 168,
    "start_time": "2023-08-08T12:23:07.798Z"
   },
   {
    "duration": 165,
    "start_time": "2023-08-08T12:24:14.358Z"
   },
   {
    "duration": 166,
    "start_time": "2023-08-08T12:26:56.662Z"
   },
   {
    "duration": 168,
    "start_time": "2023-08-08T12:31:32.203Z"
   },
   {
    "duration": 41482,
    "start_time": "2023-08-08T12:32:16.655Z"
   },
   {
    "duration": 169,
    "start_time": "2023-08-08T12:33:29.142Z"
   },
   {
    "duration": 1381,
    "start_time": "2023-08-08T12:37:25.731Z"
   },
   {
    "duration": 5,
    "start_time": "2023-08-08T12:38:55.166Z"
   },
   {
    "duration": 6,
    "start_time": "2023-08-08T12:49:51.304Z"
   },
   {
    "duration": 11,
    "start_time": "2023-08-08T12:57:01.524Z"
   },
   {
    "duration": 1145,
    "start_time": "2023-08-08T12:57:24.415Z"
   },
   {
    "duration": 43,
    "start_time": "2023-08-08T12:57:25.562Z"
   },
   {
    "duration": 20,
    "start_time": "2023-08-08T12:57:25.606Z"
   },
   {
    "duration": 23,
    "start_time": "2023-08-08T12:57:25.628Z"
   },
   {
    "duration": 52,
    "start_time": "2023-08-08T12:57:25.653Z"
   },
   {
    "duration": 6,
    "start_time": "2023-08-08T12:57:25.706Z"
   },
   {
    "duration": 44,
    "start_time": "2023-08-08T12:57:25.713Z"
   },
   {
    "duration": 40,
    "start_time": "2023-08-08T12:57:25.759Z"
   },
   {
    "duration": 10,
    "start_time": "2023-08-08T12:57:25.800Z"
   },
   {
    "duration": 13,
    "start_time": "2023-08-08T12:57:25.811Z"
   },
   {
    "duration": 19,
    "start_time": "2023-08-08T12:57:25.825Z"
   },
   {
    "duration": 8,
    "start_time": "2023-08-08T12:57:25.846Z"
   },
   {
    "duration": 13,
    "start_time": "2023-08-08T12:57:25.855Z"
   },
   {
    "duration": 20,
    "start_time": "2023-08-08T12:57:25.871Z"
   },
   {
    "duration": 6,
    "start_time": "2023-08-08T12:57:25.893Z"
   },
   {
    "duration": 28,
    "start_time": "2023-08-08T12:57:25.900Z"
   },
   {
    "duration": 50,
    "start_time": "2023-08-08T12:57:25.930Z"
   },
   {
    "duration": 44,
    "start_time": "2023-08-08T12:57:25.982Z"
   },
   {
    "duration": 53,
    "start_time": "2023-08-08T12:57:26.028Z"
   },
   {
    "duration": 33,
    "start_time": "2023-08-08T12:57:26.083Z"
   },
   {
    "duration": 37,
    "start_time": "2023-08-08T12:57:26.118Z"
   },
   {
    "duration": 49,
    "start_time": "2023-08-08T12:57:26.157Z"
   },
   {
    "duration": 38,
    "start_time": "2023-08-08T12:57:26.209Z"
   },
   {
    "duration": 32,
    "start_time": "2023-08-08T12:57:26.249Z"
   },
   {
    "duration": 21,
    "start_time": "2023-08-08T12:57:26.283Z"
   },
   {
    "duration": 16,
    "start_time": "2023-08-08T12:57:26.306Z"
   },
   {
    "duration": 19,
    "start_time": "2023-08-08T12:57:26.324Z"
   },
   {
    "duration": 13,
    "start_time": "2023-08-08T12:57:26.344Z"
   },
   {
    "duration": 9,
    "start_time": "2023-08-08T12:57:26.359Z"
   },
   {
    "duration": 189,
    "start_time": "2023-08-08T12:57:26.369Z"
   },
   {
    "duration": 41282,
    "start_time": "2023-08-08T12:57:26.560Z"
   },
   {
    "duration": 1365,
    "start_time": "2023-08-08T12:58:07.844Z"
   },
   {
    "duration": 2,
    "start_time": "2023-08-08T12:58:09.211Z"
   },
   {
    "duration": 96,
    "start_time": "2023-08-08T12:58:09.214Z"
   },
   {
    "duration": 25,
    "start_time": "2023-08-08T12:58:09.312Z"
   },
   {
    "duration": 6,
    "start_time": "2023-08-08T13:01:09.340Z"
   },
   {
    "duration": 39,
    "start_time": "2023-08-08T13:09:51.472Z"
   },
   {
    "duration": 107,
    "start_time": "2023-08-08T13:31:21.552Z"
   },
   {
    "duration": 6,
    "start_time": "2023-08-08T13:31:25.531Z"
   },
   {
    "duration": 9,
    "start_time": "2023-08-08T13:32:39.172Z"
   },
   {
    "duration": 20,
    "start_time": "2023-08-08T13:32:44.261Z"
   },
   {
    "duration": 4,
    "start_time": "2023-08-08T13:33:06.324Z"
   },
   {
    "duration": 5,
    "start_time": "2023-08-08T13:33:21.458Z"
   },
   {
    "duration": 210,
    "start_time": "2023-08-08T13:36:34.365Z"
   },
   {
    "duration": 41603,
    "start_time": "2023-08-08T13:39:38.445Z"
   },
   {
    "duration": 40697,
    "start_time": "2023-08-08T13:41:49.954Z"
   },
   {
    "duration": 55509,
    "start_time": "2023-08-08T13:42:52.146Z"
   },
   {
    "duration": 71252,
    "start_time": "2023-08-08T13:44:29.747Z"
   },
   {
    "duration": 196135,
    "start_time": "2023-08-08T13:46:14.236Z"
   },
   {
    "duration": 199055,
    "start_time": "2023-08-08T13:50:30.600Z"
   },
   {
    "duration": 41266,
    "start_time": "2023-08-08T13:54:26.564Z"
   },
   {
    "duration": 214494,
    "start_time": "2023-08-08T13:58:44.376Z"
   },
   {
    "duration": 6159,
    "start_time": "2023-08-08T14:05:26.055Z"
   },
   {
    "duration": 4,
    "start_time": "2023-08-08T14:42:57.356Z"
   },
   {
    "duration": 203,
    "start_time": "2023-08-08T14:44:59.544Z"
   },
   {
    "duration": 214834,
    "start_time": "2023-08-08T14:46:30.557Z"
   },
   {
    "duration": 2496,
    "start_time": "2023-08-08T14:50:59.117Z"
   },
   {
    "duration": 62809,
    "start_time": "2023-08-08T14:55:03.596Z"
   },
   {
    "duration": 29081,
    "start_time": "2023-08-08T14:57:12.792Z"
   },
   {
    "duration": 4,
    "start_time": "2023-08-08T15:00:49.400Z"
   },
   {
    "duration": 3,
    "start_time": "2023-08-08T15:00:57.856Z"
   },
   {
    "duration": 3,
    "start_time": "2023-08-08T15:01:08.025Z"
   },
   {
    "duration": 29,
    "start_time": "2023-08-08T15:06:10.579Z"
   },
   {
    "duration": 33,
    "start_time": "2023-08-08T15:07:24.818Z"
   },
   {
    "duration": 422,
    "start_time": "2023-08-08T15:11:56.871Z"
   },
   {
    "duration": 2033,
    "start_time": "2023-08-08T15:14:07.976Z"
   },
   {
    "duration": 5,
    "start_time": "2023-08-08T15:28:11.003Z"
   },
   {
    "duration": 12,
    "start_time": "2023-08-08T15:28:15.863Z"
   },
   {
    "duration": 4,
    "start_time": "2023-08-08T15:28:49.746Z"
   },
   {
    "duration": 6,
    "start_time": "2023-08-08T15:29:04.940Z"
   },
   {
    "duration": 5,
    "start_time": "2023-08-08T15:32:15.201Z"
   },
   {
    "duration": 29,
    "start_time": "2023-08-08T15:32:36.703Z"
   },
   {
    "duration": 5,
    "start_time": "2023-08-08T15:33:54.611Z"
   },
   {
    "duration": 372,
    "start_time": "2023-08-08T15:34:13.067Z"
   },
   {
    "duration": 5,
    "start_time": "2023-08-08T15:38:18.854Z"
   },
   {
    "duration": 29,
    "start_time": "2023-08-08T15:38:41.249Z"
   },
   {
    "duration": 4,
    "start_time": "2023-08-08T15:40:14.243Z"
   },
   {
    "duration": 387,
    "start_time": "2023-08-08T15:40:23.772Z"
   },
   {
    "duration": 4,
    "start_time": "2023-08-08T15:42:27.033Z"
   },
   {
    "duration": 21,
    "start_time": "2023-08-08T15:42:51.840Z"
   },
   {
    "duration": 6,
    "start_time": "2023-08-08T15:43:24.184Z"
   },
   {
    "duration": 1771,
    "start_time": "2023-08-08T15:43:28.438Z"
   },
   {
    "duration": 7,
    "start_time": "2023-08-08T15:50:26.537Z"
   },
   {
    "duration": 10,
    "start_time": "2023-08-08T15:50:52.924Z"
   },
   {
    "duration": 27,
    "start_time": "2023-08-08T15:51:04.661Z"
   },
   {
    "duration": 4,
    "start_time": "2023-08-08T15:51:22.528Z"
   },
   {
    "duration": 5,
    "start_time": "2023-08-08T15:52:05.733Z"
   },
   {
    "duration": 3,
    "start_time": "2023-08-08T15:52:08.134Z"
   },
   {
    "duration": 444,
    "start_time": "2023-08-08T15:52:25.635Z"
   },
   {
    "duration": 28,
    "start_time": "2023-08-08T15:53:41.910Z"
   },
   {
    "duration": 358,
    "start_time": "2023-08-08T15:54:07.182Z"
   },
   {
    "duration": 1974,
    "start_time": "2023-08-08T15:54:21.043Z"
   },
   {
    "duration": 5,
    "start_time": "2023-08-08T15:54:53.442Z"
   },
   {
    "duration": 5,
    "start_time": "2023-08-08T15:55:01.236Z"
   },
   {
    "duration": 6,
    "start_time": "2023-08-08T15:57:10.094Z"
   },
   {
    "duration": 6,
    "start_time": "2023-08-08T15:57:27.351Z"
   },
   {
    "duration": 7,
    "start_time": "2023-08-08T15:57:35.639Z"
   },
   {
    "duration": 7,
    "start_time": "2023-08-08T15:59:40.661Z"
   },
   {
    "duration": 20,
    "start_time": "2023-08-08T16:00:43.207Z"
   },
   {
    "duration": 170,
    "start_time": "2023-08-08T16:01:04.043Z"
   },
   {
    "duration": 1002,
    "start_time": "2023-08-08T16:01:21.707Z"
   },
   {
    "duration": 10,
    "start_time": "2023-08-08T16:07:24.031Z"
   },
   {
    "duration": 10,
    "start_time": "2023-08-08T16:07:37.247Z"
   },
   {
    "duration": 10,
    "start_time": "2023-08-08T16:07:45.705Z"
   },
   {
    "duration": 11,
    "start_time": "2023-08-08T16:08:17.638Z"
   },
   {
    "duration": 9,
    "start_time": "2023-08-08T16:09:21.244Z"
   },
   {
    "duration": 5,
    "start_time": "2023-08-08T16:15:21.026Z"
   },
   {
    "duration": 5,
    "start_time": "2023-08-08T16:16:34.278Z"
   },
   {
    "duration": 7,
    "start_time": "2023-08-08T16:19:00.972Z"
   },
   {
    "duration": 107,
    "start_time": "2023-08-08T16:23:13.606Z"
   },
   {
    "duration": 6,
    "start_time": "2023-08-08T17:05:21.163Z"
   },
   {
    "duration": 30,
    "start_time": "2023-08-08T17:05:27.640Z"
   },
   {
    "duration": 27,
    "start_time": "2023-08-08T17:06:05.489Z"
   },
   {
    "duration": 352,
    "start_time": "2023-08-08T17:06:38.665Z"
   },
   {
    "duration": 2111,
    "start_time": "2023-08-08T17:06:55.599Z"
   },
   {
    "duration": 164,
    "start_time": "2023-08-08T17:07:57.960Z"
   },
   {
    "duration": 1397,
    "start_time": "2023-08-08T17:08:13.118Z"
   },
   {
    "duration": 15,
    "start_time": "2023-08-08T17:18:32.763Z"
   },
   {
    "duration": 1194,
    "start_time": "2023-08-08T18:12:17.156Z"
   },
   {
    "duration": 43,
    "start_time": "2023-08-08T18:12:18.353Z"
   },
   {
    "duration": 20,
    "start_time": "2023-08-08T18:12:18.398Z"
   },
   {
    "duration": 96,
    "start_time": "2023-08-08T18:12:18.420Z"
   },
   {
    "duration": 63,
    "start_time": "2023-08-08T18:12:18.519Z"
   },
   {
    "duration": 6,
    "start_time": "2023-08-08T18:12:18.584Z"
   },
   {
    "duration": 36,
    "start_time": "2023-08-08T18:12:18.592Z"
   },
   {
    "duration": 11,
    "start_time": "2023-08-08T18:12:18.629Z"
   },
   {
    "duration": 4,
    "start_time": "2023-08-08T18:12:18.642Z"
   },
   {
    "duration": 21,
    "start_time": "2023-08-08T18:12:18.648Z"
   },
   {
    "duration": 8,
    "start_time": "2023-08-08T18:12:18.671Z"
   },
   {
    "duration": 36,
    "start_time": "2023-08-08T18:12:18.681Z"
   },
   {
    "duration": 14,
    "start_time": "2023-08-08T18:12:18.719Z"
   },
   {
    "duration": 3,
    "start_time": "2023-08-08T18:12:18.736Z"
   },
   {
    "duration": 25,
    "start_time": "2023-08-08T18:12:18.740Z"
   },
   {
    "duration": 44,
    "start_time": "2023-08-08T18:12:18.767Z"
   },
   {
    "duration": 15,
    "start_time": "2023-08-08T18:12:18.813Z"
   },
   {
    "duration": 4,
    "start_time": "2023-08-08T18:12:18.829Z"
   },
   {
    "duration": 8,
    "start_time": "2023-08-08T18:12:18.835Z"
   },
   {
    "duration": 6,
    "start_time": "2023-08-08T18:12:18.845Z"
   },
   {
    "duration": 10,
    "start_time": "2023-08-08T18:12:18.853Z"
   },
   {
    "duration": 23,
    "start_time": "2023-08-08T18:12:18.865Z"
   },
   {
    "duration": 25,
    "start_time": "2023-08-08T18:12:18.890Z"
   },
   {
    "duration": 13,
    "start_time": "2023-08-08T18:12:18.917Z"
   },
   {
    "duration": 20,
    "start_time": "2023-08-08T18:12:18.932Z"
   },
   {
    "duration": 10,
    "start_time": "2023-08-08T18:12:18.953Z"
   },
   {
    "duration": 201,
    "start_time": "2023-08-08T18:12:18.965Z"
   },
   {
    "duration": 29243,
    "start_time": "2023-08-08T18:12:19.168Z"
   },
   {
    "duration": 1397,
    "start_time": "2023-08-08T18:12:48.413Z"
   },
   {
    "duration": 97,
    "start_time": "2023-08-08T18:12:49.812Z"
   },
   {
    "duration": 35,
    "start_time": "2023-08-08T18:12:49.911Z"
   },
   {
    "duration": 59,
    "start_time": "2023-08-08T18:12:49.948Z"
   },
   {
    "duration": 25,
    "start_time": "2023-08-08T18:12:50.010Z"
   },
   {
    "duration": 88,
    "start_time": "2023-08-08T18:12:50.037Z"
   },
   {
    "duration": 414,
    "start_time": "2023-08-08T18:12:50.127Z"
   },
   {
    "duration": 1972,
    "start_time": "2023-08-08T18:12:50.542Z"
   },
   {
    "duration": 6,
    "start_time": "2023-08-08T18:12:52.516Z"
   },
   {
    "duration": 22,
    "start_time": "2023-08-08T18:12:52.609Z"
   },
   {
    "duration": 16,
    "start_time": "2023-08-08T18:12:52.633Z"
   },
   {
    "duration": 72,
    "start_time": "2023-08-08T18:12:52.651Z"
   },
   {
    "duration": 13,
    "start_time": "2023-08-08T18:12:52.729Z"
   },
   {
    "duration": 199,
    "start_time": "2023-08-08T18:12:52.744Z"
   },
   {
    "duration": 966,
    "start_time": "2023-08-08T18:12:52.945Z"
   },
   {
    "duration": 195,
    "start_time": "2023-08-08T18:12:53.915Z"
   },
   {
    "duration": 200,
    "start_time": "2023-08-08T18:12:54.111Z"
   },
   {
    "duration": 0,
    "start_time": "2023-08-08T18:12:54.313Z"
   },
   {
    "duration": 12,
    "start_time": "2023-08-08T18:19:34.850Z"
   },
   {
    "duration": 6,
    "start_time": "2023-08-08T18:19:49.970Z"
   },
   {
    "duration": 7,
    "start_time": "2023-08-08T18:20:12.515Z"
   },
   {
    "duration": 9,
    "start_time": "2023-08-08T18:20:17.008Z"
   },
   {
    "duration": 7,
    "start_time": "2023-08-08T18:22:08.137Z"
   },
   {
    "duration": 8,
    "start_time": "2023-08-08T18:22:09.897Z"
   },
   {
    "duration": 11,
    "start_time": "2023-08-08T18:22:36.610Z"
   },
   {
    "duration": 10,
    "start_time": "2023-08-08T18:22:38.807Z"
   },
   {
    "duration": 1247,
    "start_time": "2023-08-08T18:22:56.566Z"
   },
   {
    "duration": 43,
    "start_time": "2023-08-08T18:22:57.815Z"
   },
   {
    "duration": 20,
    "start_time": "2023-08-08T18:22:57.860Z"
   },
   {
    "duration": 13,
    "start_time": "2023-08-08T18:22:57.882Z"
   },
   {
    "duration": 47,
    "start_time": "2023-08-08T18:22:57.897Z"
   },
   {
    "duration": 6,
    "start_time": "2023-08-08T18:22:57.945Z"
   },
   {
    "duration": 34,
    "start_time": "2023-08-08T18:22:57.952Z"
   },
   {
    "duration": 24,
    "start_time": "2023-08-08T18:22:57.988Z"
   },
   {
    "duration": 5,
    "start_time": "2023-08-08T18:22:58.014Z"
   },
   {
    "duration": 20,
    "start_time": "2023-08-08T18:22:58.021Z"
   },
   {
    "duration": 9,
    "start_time": "2023-08-08T18:22:58.042Z"
   },
   {
    "duration": 11,
    "start_time": "2023-08-08T18:22:58.053Z"
   },
   {
    "duration": 13,
    "start_time": "2023-08-08T18:22:58.066Z"
   },
   {
    "duration": 3,
    "start_time": "2023-08-08T18:22:58.108Z"
   },
   {
    "duration": 22,
    "start_time": "2023-08-08T18:22:58.113Z"
   },
   {
    "duration": 22,
    "start_time": "2023-08-08T18:22:58.137Z"
   },
   {
    "duration": 11,
    "start_time": "2023-08-08T18:22:58.160Z"
   },
   {
    "duration": 4,
    "start_time": "2023-08-08T18:22:58.172Z"
   },
   {
    "duration": 34,
    "start_time": "2023-08-08T18:22:58.178Z"
   },
   {
    "duration": 6,
    "start_time": "2023-08-08T18:22:58.214Z"
   },
   {
    "duration": 12,
    "start_time": "2023-08-08T18:22:58.221Z"
   },
   {
    "duration": 10,
    "start_time": "2023-08-08T18:22:58.234Z"
   },
   {
    "duration": 21,
    "start_time": "2023-08-08T18:22:58.245Z"
   },
   {
    "duration": 13,
    "start_time": "2023-08-08T18:22:58.268Z"
   },
   {
    "duration": 25,
    "start_time": "2023-08-08T18:22:58.283Z"
   },
   {
    "duration": 11,
    "start_time": "2023-08-08T18:22:58.311Z"
   },
   {
    "duration": 194,
    "start_time": "2023-08-08T18:22:58.323Z"
   },
   {
    "duration": 28805,
    "start_time": "2023-08-08T18:22:58.518Z"
   },
   {
    "duration": 1492,
    "start_time": "2023-08-08T18:23:27.325Z"
   },
   {
    "duration": 93,
    "start_time": "2023-08-08T18:23:28.819Z"
   },
   {
    "duration": 99,
    "start_time": "2023-08-08T18:23:28.914Z"
   },
   {
    "duration": 17,
    "start_time": "2023-08-08T18:23:29.014Z"
   },
   {
    "duration": 9,
    "start_time": "2023-08-08T18:23:29.032Z"
   },
   {
    "duration": 35,
    "start_time": "2023-08-08T18:23:29.042Z"
   },
   {
    "duration": 20,
    "start_time": "2023-08-08T18:23:29.079Z"
   },
   {
    "duration": 28,
    "start_time": "2023-08-08T18:23:29.101Z"
   },
   {
    "duration": 424,
    "start_time": "2023-08-08T18:23:29.131Z"
   },
   {
    "duration": 1954,
    "start_time": "2023-08-08T18:23:29.556Z"
   },
   {
    "duration": 5,
    "start_time": "2023-08-08T18:23:31.512Z"
   },
   {
    "duration": 9,
    "start_time": "2023-08-08T18:23:31.609Z"
   },
   {
    "duration": 65,
    "start_time": "2023-08-08T18:23:31.621Z"
   },
   {
    "duration": 38,
    "start_time": "2023-08-08T18:23:31.688Z"
   },
   {
    "duration": 167,
    "start_time": "2023-08-08T18:23:31.727Z"
   },
   {
    "duration": 3414,
    "start_time": "2023-08-08T18:23:31.896Z"
   },
   {
    "duration": 196,
    "start_time": "2023-08-08T18:23:35.313Z"
   },
   {
    "duration": 101,
    "start_time": "2023-08-08T18:23:35.511Z"
   },
   {
    "duration": 6,
    "start_time": "2023-08-08T18:30:51.015Z"
   },
   {
    "duration": 12,
    "start_time": "2023-08-08T18:30:55.800Z"
   },
   {
    "duration": 7,
    "start_time": "2023-08-08T18:33:41.572Z"
   },
   {
    "duration": 9,
    "start_time": "2023-08-08T18:33:47.126Z"
   },
   {
    "duration": 6,
    "start_time": "2023-08-08T18:34:14.125Z"
   },
   {
    "duration": 13,
    "start_time": "2023-08-08T18:34:17.791Z"
   },
   {
    "duration": 9,
    "start_time": "2023-08-08T18:36:00.903Z"
   },
   {
    "duration": 7,
    "start_time": "2023-08-08T18:36:04.529Z"
   },
   {
    "duration": 9,
    "start_time": "2023-08-08T18:36:07.571Z"
   },
   {
    "duration": 9,
    "start_time": "2023-08-08T18:36:10.849Z"
   },
   {
    "duration": 7,
    "start_time": "2023-08-08T18:36:45.847Z"
   },
   {
    "duration": 12,
    "start_time": "2023-08-08T18:36:51.603Z"
   },
   {
    "duration": 4,
    "start_time": "2023-08-08T18:37:12.355Z"
   },
   {
    "duration": 12,
    "start_time": "2023-08-08T18:37:14.148Z"
   },
   {
    "duration": 114,
    "start_time": "2023-08-08T18:43:28.054Z"
   },
   {
    "duration": 15,
    "start_time": "2023-08-08T18:44:01.714Z"
   },
   {
    "duration": 14,
    "start_time": "2023-08-08T18:44:45.238Z"
   },
   {
    "duration": 14,
    "start_time": "2023-08-08T18:44:49.363Z"
   },
   {
    "duration": 16,
    "start_time": "2023-08-08T18:45:14.943Z"
   },
   {
    "duration": 14,
    "start_time": "2023-08-08T18:45:21.549Z"
   },
   {
    "duration": 14,
    "start_time": "2023-08-08T18:48:57.495Z"
   },
   {
    "duration": 10,
    "start_time": "2023-08-08T18:50:49.918Z"
   },
   {
    "duration": 23,
    "start_time": "2023-08-08T18:50:55.505Z"
   },
   {
    "duration": 9,
    "start_time": "2023-08-08T18:54:47.262Z"
   },
   {
    "duration": 23,
    "start_time": "2023-08-08T18:55:19.256Z"
   },
   {
    "duration": 21,
    "start_time": "2023-08-08T18:55:39.409Z"
   },
   {
    "duration": 12,
    "start_time": "2023-08-08T18:55:43.375Z"
   },
   {
    "duration": 3,
    "start_time": "2023-08-08T19:01:40.864Z"
   },
   {
    "duration": 3,
    "start_time": "2023-08-08T19:01:43.468Z"
   },
   {
    "duration": 3,
    "start_time": "2023-08-08T19:01:51.956Z"
   },
   {
    "duration": 10,
    "start_time": "2023-08-08T19:13:14.923Z"
   },
   {
    "duration": 9,
    "start_time": "2023-08-08T19:15:16.736Z"
   },
   {
    "duration": 229702,
    "start_time": "2023-08-08T19:50:51.850Z"
   },
   {
    "duration": 453421,
    "start_time": "2023-08-08T19:55:49.311Z"
   },
   {
    "duration": 1046,
    "start_time": "2023-08-09T11:36:07.295Z"
   },
   {
    "duration": 77,
    "start_time": "2023-08-09T11:36:08.343Z"
   },
   {
    "duration": 17,
    "start_time": "2023-08-09T11:36:08.421Z"
   },
   {
    "duration": 28,
    "start_time": "2023-08-09T11:36:08.440Z"
   },
   {
    "duration": 39,
    "start_time": "2023-08-09T11:36:08.469Z"
   },
   {
    "duration": 6,
    "start_time": "2023-08-09T11:36:08.509Z"
   },
   {
    "duration": 55,
    "start_time": "2023-08-09T11:36:08.516Z"
   },
   {
    "duration": 23,
    "start_time": "2023-08-09T11:36:08.572Z"
   },
   {
    "duration": 33,
    "start_time": "2023-08-09T11:36:08.596Z"
   },
   {
    "duration": 24,
    "start_time": "2023-08-09T11:36:08.632Z"
   },
   {
    "duration": 12,
    "start_time": "2023-08-09T11:36:08.657Z"
   },
   {
    "duration": 11,
    "start_time": "2023-08-09T11:36:08.670Z"
   },
   {
    "duration": 39,
    "start_time": "2023-08-09T11:36:08.682Z"
   },
   {
    "duration": 11,
    "start_time": "2023-08-09T11:36:08.722Z"
   },
   {
    "duration": 23,
    "start_time": "2023-08-09T11:36:08.735Z"
   },
   {
    "duration": 18,
    "start_time": "2023-08-09T11:36:08.760Z"
   },
   {
    "duration": 12,
    "start_time": "2023-08-09T11:36:08.779Z"
   },
   {
    "duration": 14,
    "start_time": "2023-08-09T11:36:08.792Z"
   },
   {
    "duration": 22,
    "start_time": "2023-08-09T11:36:08.808Z"
   },
   {
    "duration": 6,
    "start_time": "2023-08-09T11:36:08.831Z"
   },
   {
    "duration": 11,
    "start_time": "2023-08-09T11:36:08.839Z"
   },
   {
    "duration": 6,
    "start_time": "2023-08-09T11:36:08.852Z"
   },
   {
    "duration": 23,
    "start_time": "2023-08-09T11:36:08.859Z"
   },
   {
    "duration": 11,
    "start_time": "2023-08-09T11:36:08.883Z"
   },
   {
    "duration": 40,
    "start_time": "2023-08-09T11:36:08.895Z"
   },
   {
    "duration": 12,
    "start_time": "2023-08-09T11:36:08.937Z"
   },
   {
    "duration": 175,
    "start_time": "2023-08-09T11:36:08.950Z"
   },
   {
    "duration": 28163,
    "start_time": "2023-08-09T11:36:09.129Z"
   },
   {
    "duration": 1346,
    "start_time": "2023-08-09T11:36:37.293Z"
   },
   {
    "duration": 6,
    "start_time": "2023-08-09T11:36:38.641Z"
   },
   {
    "duration": 132,
    "start_time": "2023-08-09T11:36:38.649Z"
   },
   {
    "duration": 19,
    "start_time": "2023-08-09T11:36:38.783Z"
   },
   {
    "duration": 11,
    "start_time": "2023-08-09T11:36:38.803Z"
   },
   {
    "duration": 31,
    "start_time": "2023-08-09T11:36:38.815Z"
   },
   {
    "duration": 15,
    "start_time": "2023-08-09T11:36:38.848Z"
   },
   {
    "duration": 41,
    "start_time": "2023-08-09T11:36:38.864Z"
   },
   {
    "duration": 381,
    "start_time": "2023-08-09T11:36:38.906Z"
   },
   {
    "duration": 1450,
    "start_time": "2023-08-09T11:36:39.289Z"
   },
   {
    "duration": 97,
    "start_time": "2023-08-09T11:36:40.742Z"
   },
   {
    "duration": 21,
    "start_time": "2023-08-09T11:36:40.841Z"
   },
   {
    "duration": 17,
    "start_time": "2023-08-09T11:36:40.863Z"
   },
   {
    "duration": 14,
    "start_time": "2023-08-09T11:36:40.881Z"
   },
   {
    "duration": 16,
    "start_time": "2023-08-09T11:36:40.896Z"
   },
   {
    "duration": 13,
    "start_time": "2023-08-09T11:36:40.914Z"
   },
   {
    "duration": 32,
    "start_time": "2023-08-09T11:36:40.928Z"
   },
   {
    "duration": 163,
    "start_time": "2023-08-09T11:36:40.962Z"
   },
   {
    "duration": 512,
    "start_time": "2023-08-09T11:36:41.127Z"
   },
   {
    "duration": 8,
    "start_time": "2023-08-09T11:36:41.641Z"
   },
   {
    "duration": 36,
    "start_time": "2023-08-09T11:36:41.738Z"
   },
   {
    "duration": 24,
    "start_time": "2023-08-09T11:36:41.775Z"
   },
   {
    "duration": 46,
    "start_time": "2023-08-09T11:36:41.800Z"
   },
   {
    "duration": 438724,
    "start_time": "2023-08-09T11:36:41.848Z"
   },
   {
    "duration": 39,
    "start_time": "2023-08-09T11:46:28.146Z"
   },
   {
    "duration": 4,
    "start_time": "2023-08-09T11:46:38.728Z"
   },
   {
    "duration": 37,
    "start_time": "2023-08-09T11:48:22.099Z"
   },
   {
    "duration": 802,
    "start_time": "2023-08-09T11:50:10.258Z"
   },
   {
    "duration": 55959,
    "start_time": "2023-08-09T11:51:37.904Z"
   },
   {
    "duration": 33,
    "start_time": "2023-08-09T11:52:42.973Z"
   },
   {
    "duration": 1034,
    "start_time": "2023-08-09T12:00:05.698Z"
   },
   {
    "duration": 40,
    "start_time": "2023-08-09T12:00:06.733Z"
   },
   {
    "duration": 16,
    "start_time": "2023-08-09T12:00:06.774Z"
   },
   {
    "duration": 31,
    "start_time": "2023-08-09T12:00:06.792Z"
   },
   {
    "duration": 64,
    "start_time": "2023-08-09T12:00:06.824Z"
   },
   {
    "duration": 14,
    "start_time": "2023-08-09T12:00:06.889Z"
   },
   {
    "duration": 64,
    "start_time": "2023-08-09T12:00:06.905Z"
   },
   {
    "duration": 38,
    "start_time": "2023-08-09T12:00:06.970Z"
   },
   {
    "duration": 32,
    "start_time": "2023-08-09T12:00:07.010Z"
   },
   {
    "duration": 57,
    "start_time": "2023-08-09T12:00:07.044Z"
   },
   {
    "duration": 7,
    "start_time": "2023-08-09T12:00:07.102Z"
   },
   {
    "duration": 29,
    "start_time": "2023-08-09T12:00:07.110Z"
   },
   {
    "duration": 25,
    "start_time": "2023-08-09T12:00:07.141Z"
   },
   {
    "duration": 22,
    "start_time": "2023-08-09T12:00:07.168Z"
   },
   {
    "duration": 81,
    "start_time": "2023-08-09T12:00:07.191Z"
   },
   {
    "duration": 43,
    "start_time": "2023-08-09T12:00:07.273Z"
   },
   {
    "duration": 32,
    "start_time": "2023-08-09T12:00:07.317Z"
   },
   {
    "duration": 37,
    "start_time": "2023-08-09T12:00:07.351Z"
   },
   {
    "duration": 53,
    "start_time": "2023-08-09T12:00:07.389Z"
   },
   {
    "duration": 30,
    "start_time": "2023-08-09T12:00:07.443Z"
   },
   {
    "duration": 23,
    "start_time": "2023-08-09T12:00:07.475Z"
   },
   {
    "duration": 39,
    "start_time": "2023-08-09T12:00:07.500Z"
   },
   {
    "duration": 18,
    "start_time": "2023-08-09T12:00:07.541Z"
   },
   {
    "duration": 30,
    "start_time": "2023-08-09T12:00:07.560Z"
   },
   {
    "duration": 42,
    "start_time": "2023-08-09T12:00:07.591Z"
   },
   {
    "duration": 15,
    "start_time": "2023-08-09T12:00:07.635Z"
   },
   {
    "duration": 186,
    "start_time": "2023-08-09T12:00:07.652Z"
   },
   {
    "duration": 28670,
    "start_time": "2023-08-09T12:00:07.841Z"
   },
   {
    "duration": 1426,
    "start_time": "2023-08-09T12:00:36.512Z"
   },
   {
    "duration": 8,
    "start_time": "2023-08-09T12:00:37.940Z"
   },
   {
    "duration": 93,
    "start_time": "2023-08-09T12:00:37.949Z"
   },
   {
    "duration": 16,
    "start_time": "2023-08-09T12:00:38.043Z"
   },
   {
    "duration": 38,
    "start_time": "2023-08-09T12:00:38.060Z"
   },
   {
    "duration": 27,
    "start_time": "2023-08-09T12:00:38.099Z"
   },
   {
    "duration": 6,
    "start_time": "2023-08-09T12:00:38.127Z"
   },
   {
    "duration": 55,
    "start_time": "2023-08-09T12:00:38.135Z"
   },
   {
    "duration": 401,
    "start_time": "2023-08-09T12:00:38.192Z"
   },
   {
    "duration": 1348,
    "start_time": "2023-08-09T12:00:38.594Z"
   },
   {
    "duration": 96,
    "start_time": "2023-08-09T12:00:39.944Z"
   },
   {
    "duration": 21,
    "start_time": "2023-08-09T12:00:40.042Z"
   },
   {
    "duration": 28,
    "start_time": "2023-08-09T12:00:40.064Z"
   },
   {
    "duration": 72,
    "start_time": "2023-08-09T12:00:40.094Z"
   },
   {
    "duration": 23,
    "start_time": "2023-08-09T12:00:40.167Z"
   },
   {
    "duration": 28,
    "start_time": "2023-08-09T12:00:40.192Z"
   },
   {
    "duration": 40,
    "start_time": "2023-08-09T12:00:40.221Z"
   },
   {
    "duration": 168,
    "start_time": "2023-08-09T12:00:40.263Z"
   },
   {
    "duration": 2411,
    "start_time": "2023-08-09T12:00:40.433Z"
   },
   {
    "duration": 95,
    "start_time": "2023-08-09T12:00:42.853Z"
   },
   {
    "duration": 12,
    "start_time": "2023-08-09T12:00:42.950Z"
   },
   {
    "duration": 38,
    "start_time": "2023-08-09T12:00:42.963Z"
   },
   {
    "duration": 51,
    "start_time": "2023-08-09T12:00:43.002Z"
   },
   {
    "duration": 113822,
    "start_time": "2023-08-09T12:00:43.057Z"
   },
   {
    "duration": 46,
    "start_time": "2023-08-09T12:02:36.881Z"
   },
   {
    "duration": 113540,
    "start_time": "2023-08-09T12:03:22.358Z"
   },
   {
    "duration": 112675,
    "start_time": "2023-08-09T12:05:33.960Z"
   },
   {
    "duration": 571,
    "start_time": "2023-08-09T12:18:21.250Z"
   },
   {
    "duration": 68,
    "start_time": "2023-08-09T12:18:35.116Z"
   },
   {
    "duration": 110,
    "start_time": "2023-08-09T12:18:54.317Z"
   },
   {
    "duration": 121,
    "start_time": "2023-08-09T12:19:08.129Z"
   },
   {
    "duration": 1125,
    "start_time": "2023-08-09T12:29:23.656Z"
   },
   {
    "duration": 40,
    "start_time": "2023-08-09T12:29:24.783Z"
   },
   {
    "duration": 18,
    "start_time": "2023-08-09T12:29:24.824Z"
   },
   {
    "duration": 30,
    "start_time": "2023-08-09T12:29:24.843Z"
   },
   {
    "duration": 42,
    "start_time": "2023-08-09T12:29:24.875Z"
   },
   {
    "duration": 5,
    "start_time": "2023-08-09T12:29:24.919Z"
   },
   {
    "duration": 47,
    "start_time": "2023-08-09T12:29:24.925Z"
   },
   {
    "duration": 11,
    "start_time": "2023-08-09T12:29:24.973Z"
   },
   {
    "duration": 6,
    "start_time": "2023-08-09T12:29:24.985Z"
   },
   {
    "duration": 18,
    "start_time": "2023-08-09T12:29:24.992Z"
   },
   {
    "duration": 7,
    "start_time": "2023-08-09T12:29:25.011Z"
   },
   {
    "duration": 45,
    "start_time": "2023-08-09T12:29:25.019Z"
   },
   {
    "duration": 52,
    "start_time": "2023-08-09T12:29:25.065Z"
   },
   {
    "duration": 6,
    "start_time": "2023-08-09T12:29:25.120Z"
   },
   {
    "duration": 29,
    "start_time": "2023-08-09T12:29:25.128Z"
   },
   {
    "duration": 27,
    "start_time": "2023-08-09T12:29:25.159Z"
   },
   {
    "duration": 35,
    "start_time": "2023-08-09T12:29:25.187Z"
   },
   {
    "duration": 4,
    "start_time": "2023-08-09T12:29:25.223Z"
   },
   {
    "duration": 39,
    "start_time": "2023-08-09T12:29:25.228Z"
   },
   {
    "duration": 13,
    "start_time": "2023-08-09T12:29:25.269Z"
   },
   {
    "duration": 9,
    "start_time": "2023-08-09T12:29:25.284Z"
   },
   {
    "duration": 20,
    "start_time": "2023-08-09T12:29:25.294Z"
   },
   {
    "duration": 17,
    "start_time": "2023-08-09T12:29:25.316Z"
   },
   {
    "duration": 16,
    "start_time": "2023-08-09T12:29:25.335Z"
   },
   {
    "duration": 19,
    "start_time": "2023-08-09T12:29:25.353Z"
   },
   {
    "duration": 22,
    "start_time": "2023-08-09T12:29:25.373Z"
   },
   {
    "duration": 94787,
    "start_time": "2023-08-09T12:29:25.396Z"
   },
   {
    "duration": 182,
    "start_time": "2023-08-09T12:31:00.184Z"
   },
   {
    "duration": 30087,
    "start_time": "2023-08-09T12:31:00.367Z"
   },
   {
    "duration": 1982,
    "start_time": "2023-08-09T12:31:30.456Z"
   },
   {
    "duration": 14,
    "start_time": "2023-08-09T12:31:32.445Z"
   },
   {
    "duration": 92,
    "start_time": "2023-08-09T12:31:32.461Z"
   },
   {
    "duration": 28,
    "start_time": "2023-08-09T12:31:32.555Z"
   },
   {
    "duration": 17,
    "start_time": "2023-08-09T12:31:32.585Z"
   },
   {
    "duration": 49,
    "start_time": "2023-08-09T12:31:32.603Z"
   },
   {
    "duration": 37,
    "start_time": "2023-08-09T12:31:32.654Z"
   },
   {
    "duration": 65,
    "start_time": "2023-08-09T12:31:32.692Z"
   },
   {
    "duration": 400,
    "start_time": "2023-08-09T12:31:32.759Z"
   },
   {
    "duration": 1891,
    "start_time": "2023-08-09T12:31:33.161Z"
   },
   {
    "duration": 8,
    "start_time": "2023-08-09T12:31:35.057Z"
   },
   {
    "duration": 53,
    "start_time": "2023-08-09T12:31:35.142Z"
   },
   {
    "duration": 87,
    "start_time": "2023-08-09T12:31:35.196Z"
   },
   {
    "duration": 17,
    "start_time": "2023-08-09T12:31:35.284Z"
   },
   {
    "duration": 200,
    "start_time": "2023-08-09T12:31:35.302Z"
   },
   {
    "duration": 68,
    "start_time": "2023-08-09T12:31:35.503Z"
   },
   {
    "duration": 79,
    "start_time": "2023-08-09T12:31:35.573Z"
   },
   {
    "duration": 172,
    "start_time": "2023-08-09T12:31:35.653Z"
   },
   {
    "duration": 1717,
    "start_time": "2023-08-09T12:31:35.827Z"
   },
   {
    "duration": 9,
    "start_time": "2023-08-09T12:31:37.549Z"
   },
   {
    "duration": 149,
    "start_time": "2023-08-09T12:31:37.559Z"
   },
   {
    "duration": 46,
    "start_time": "2023-08-09T12:31:37.709Z"
   },
   {
    "duration": 87,
    "start_time": "2023-08-09T12:31:37.758Z"
   },
   {
    "duration": 116112,
    "start_time": "2023-08-09T12:31:37.847Z"
   },
   {
    "duration": 47,
    "start_time": "2023-08-09T12:33:33.960Z"
   },
   {
    "duration": 11023,
    "start_time": "2023-08-09T12:56:09.439Z"
   },
   {
    "duration": 41,
    "start_time": "2023-08-09T12:56:56.598Z"
   },
   {
    "duration": 7,
    "start_time": "2023-08-09T12:57:27.162Z"
   },
   {
    "duration": 7,
    "start_time": "2023-08-09T12:57:29.767Z"
   },
   {
    "duration": 7,
    "start_time": "2023-08-09T12:58:00.485Z"
   },
   {
    "duration": 5,
    "start_time": "2023-08-09T12:59:59.468Z"
   },
   {
    "duration": 108,
    "start_time": "2023-08-09T13:00:26.931Z"
   },
   {
    "duration": 9,
    "start_time": "2023-08-09T13:01:53.438Z"
   },
   {
    "duration": 36,
    "start_time": "2023-08-09T13:02:20.313Z"
   },
   {
    "duration": 406,
    "start_time": "2023-08-09T13:03:01.189Z"
   },
   {
    "duration": 384,
    "start_time": "2023-08-09T13:03:25.450Z"
   },
   {
    "duration": 110,
    "start_time": "2023-08-09T13:03:35.136Z"
   },
   {
    "duration": 5,
    "start_time": "2023-08-09T13:03:55.650Z"
   },
   {
    "duration": 7,
    "start_time": "2023-08-09T13:03:59.755Z"
   },
   {
    "duration": 19,
    "start_time": "2023-08-09T13:04:21.830Z"
   },
   {
    "duration": 135,
    "start_time": "2023-08-09T13:04:31.569Z"
   },
   {
    "duration": 12,
    "start_time": "2023-08-09T13:04:40.737Z"
   },
   {
    "duration": 7,
    "start_time": "2023-08-09T13:04:42.508Z"
   },
   {
    "duration": 7,
    "start_time": "2023-08-09T13:04:44.227Z"
   },
   {
    "duration": 15,
    "start_time": "2023-08-09T13:05:33.534Z"
   },
   {
    "duration": 18,
    "start_time": "2023-08-09T13:05:55.450Z"
   },
   {
    "duration": 66,
    "start_time": "2023-08-09T13:06:03.428Z"
   },
   {
    "duration": 85,
    "start_time": "2023-08-09T13:06:19.655Z"
   },
   {
    "duration": 17,
    "start_time": "2023-08-09T13:06:23.787Z"
   },
   {
    "duration": 6,
    "start_time": "2023-08-09T13:06:40.661Z"
   },
   {
    "duration": 18,
    "start_time": "2023-08-09T13:06:42.434Z"
   },
   {
    "duration": 11,
    "start_time": "2023-08-09T13:06:45.155Z"
   },
   {
    "duration": 91,
    "start_time": "2023-08-09T13:07:00.055Z"
   },
   {
    "duration": 20,
    "start_time": "2023-08-09T13:07:43.855Z"
   },
   {
    "duration": 51,
    "start_time": "2023-08-09T13:08:09.993Z"
   },
   {
    "duration": 101,
    "start_time": "2023-08-09T13:09:13.771Z"
   },
   {
    "duration": 26,
    "start_time": "2023-08-09T13:10:11.758Z"
   },
   {
    "duration": 8,
    "start_time": "2023-08-09T13:13:06.662Z"
   },
   {
    "duration": 7,
    "start_time": "2023-08-09T13:13:14.417Z"
   },
   {
    "duration": 7,
    "start_time": "2023-08-09T13:16:47.957Z"
   },
   {
    "duration": 7,
    "start_time": "2023-08-09T13:16:49.930Z"
   },
   {
    "duration": 9,
    "start_time": "2023-08-09T13:16:51.827Z"
   },
   {
    "duration": 8,
    "start_time": "2023-08-09T13:16:54.053Z"
   },
   {
    "duration": 7,
    "start_time": "2023-08-09T13:20:37.296Z"
   },
   {
    "duration": 110248,
    "start_time": "2023-08-09T13:23:06.844Z"
   },
   {
    "duration": 15498,
    "start_time": "2023-08-09T13:25:14.119Z"
   },
   {
    "duration": 50,
    "start_time": "2023-08-09T13:25:41.555Z"
   },
   {
    "duration": 1003,
    "start_time": "2023-08-09T13:45:33.213Z"
   },
   {
    "duration": 48,
    "start_time": "2023-08-09T13:45:34.218Z"
   },
   {
    "duration": 19,
    "start_time": "2023-08-09T13:45:34.267Z"
   },
   {
    "duration": 10,
    "start_time": "2023-08-09T13:45:34.288Z"
   },
   {
    "duration": 32,
    "start_time": "2023-08-09T13:45:34.299Z"
   },
   {
    "duration": 6,
    "start_time": "2023-08-09T13:45:34.348Z"
   },
   {
    "duration": 22,
    "start_time": "2023-08-09T13:45:34.355Z"
   },
   {
    "duration": 8,
    "start_time": "2023-08-09T13:45:34.378Z"
   },
   {
    "duration": 9,
    "start_time": "2023-08-09T13:45:34.387Z"
   },
   {
    "duration": 13,
    "start_time": "2023-08-09T13:45:34.398Z"
   },
   {
    "duration": 6,
    "start_time": "2023-08-09T13:45:34.412Z"
   },
   {
    "duration": 36,
    "start_time": "2023-08-09T13:45:34.420Z"
   },
   {
    "duration": 37,
    "start_time": "2023-08-09T13:45:34.458Z"
   },
   {
    "duration": 16,
    "start_time": "2023-08-09T13:45:34.497Z"
   },
   {
    "duration": 35,
    "start_time": "2023-08-09T13:45:34.516Z"
   },
   {
    "duration": 21,
    "start_time": "2023-08-09T13:45:34.553Z"
   },
   {
    "duration": 28,
    "start_time": "2023-08-09T13:45:34.576Z"
   },
   {
    "duration": 11,
    "start_time": "2023-08-09T13:45:34.606Z"
   },
   {
    "duration": 15,
    "start_time": "2023-08-09T13:45:34.618Z"
   },
   {
    "duration": 47,
    "start_time": "2023-08-09T13:45:34.634Z"
   },
   {
    "duration": 6,
    "start_time": "2023-08-09T13:45:34.683Z"
   },
   {
    "duration": 3,
    "start_time": "2023-08-09T13:45:34.691Z"
   },
   {
    "duration": 11,
    "start_time": "2023-08-09T13:45:34.695Z"
   },
   {
    "duration": 16,
    "start_time": "2023-08-09T13:45:34.708Z"
   },
   {
    "duration": 32,
    "start_time": "2023-08-09T13:45:34.726Z"
   },
   {
    "duration": 12,
    "start_time": "2023-08-09T13:45:34.759Z"
   },
   {
    "duration": 177,
    "start_time": "2023-08-09T13:45:34.772Z"
   },
   {
    "duration": 11315,
    "start_time": "2023-08-09T13:45:34.952Z"
   },
   {
    "duration": 81,
    "start_time": "2023-08-09T13:45:46.268Z"
   },
   {
    "duration": 104,
    "start_time": "2023-08-09T13:45:46.350Z"
   },
   {
    "duration": 16,
    "start_time": "2023-08-09T13:45:46.456Z"
   },
   {
    "duration": 10,
    "start_time": "2023-08-09T13:45:46.473Z"
   },
   {
    "duration": 11,
    "start_time": "2023-08-09T13:45:46.485Z"
   },
   {
    "duration": 16,
    "start_time": "2023-08-09T13:45:46.497Z"
   },
   {
    "duration": 5,
    "start_time": "2023-08-09T13:45:46.515Z"
   },
   {
    "duration": 30,
    "start_time": "2023-08-09T13:45:46.521Z"
   },
   {
    "duration": 132,
    "start_time": "2023-08-09T13:45:46.553Z"
   },
   {
    "duration": 63,
    "start_time": "2023-08-09T13:45:46.686Z"
   },
   {
    "duration": 88,
    "start_time": "2023-08-09T13:45:46.750Z"
   },
   {
    "duration": 14,
    "start_time": "2023-08-09T13:45:46.848Z"
   },
   {
    "duration": 14,
    "start_time": "2023-08-09T13:45:46.864Z"
   },
   {
    "duration": 10,
    "start_time": "2023-08-09T13:45:46.880Z"
   },
   {
    "duration": 53,
    "start_time": "2023-08-09T13:45:46.892Z"
   },
   {
    "duration": 16,
    "start_time": "2023-08-09T13:45:46.946Z"
   },
   {
    "duration": 23,
    "start_time": "2023-08-09T13:45:46.963Z"
   },
   {
    "duration": 69,
    "start_time": "2023-08-09T13:45:46.988Z"
   },
   {
    "duration": 86,
    "start_time": "2023-08-09T13:45:47.058Z"
   },
   {
    "duration": 104,
    "start_time": "2023-08-09T13:45:47.145Z"
   },
   {
    "duration": 17,
    "start_time": "2023-08-09T13:45:47.251Z"
   },
   {
    "duration": 17,
    "start_time": "2023-08-09T13:45:47.270Z"
   },
   {
    "duration": 29,
    "start_time": "2023-08-09T13:45:47.288Z"
   },
   {
    "duration": 103,
    "start_time": "2023-08-09T13:45:47.318Z"
   },
   {
    "duration": 39,
    "start_time": "2023-08-09T13:45:47.423Z"
   },
   {
    "duration": 91,
    "start_time": "2023-08-09T13:45:47.464Z"
   },
   {
    "duration": 111,
    "start_time": "2023-08-09T13:45:47.557Z"
   },
   {
    "duration": 15,
    "start_time": "2023-08-09T13:45:47.669Z"
   },
   {
    "duration": 20,
    "start_time": "2023-08-09T13:45:47.685Z"
   },
   {
    "duration": 29,
    "start_time": "2023-08-09T13:45:47.706Z"
   },
   {
    "duration": 44,
    "start_time": "2023-08-09T13:45:47.737Z"
   },
   {
    "duration": 15141,
    "start_time": "2023-08-09T13:45:47.782Z"
   },
   {
    "duration": 110,
    "start_time": "2023-08-09T13:46:02.925Z"
   },
   {
    "duration": 21018,
    "start_time": "2023-08-09T13:46:14.399Z"
   },
   {
    "duration": 26,
    "start_time": "2023-08-09T13:46:44.349Z"
   },
   {
    "duration": 21229,
    "start_time": "2023-08-09T13:53:12.719Z"
   },
   {
    "duration": 28925,
    "start_time": "2023-08-09T13:53:42.762Z"
   },
   {
    "duration": 15811,
    "start_time": "2023-08-09T13:56:05.551Z"
   },
   {
    "duration": 24,
    "start_time": "2023-08-09T13:57:11.222Z"
   },
   {
    "duration": 21,
    "start_time": "2023-08-09T13:58:05.178Z"
   },
   {
    "duration": 49829,
    "start_time": "2023-08-09T14:11:55.040Z"
   },
   {
    "duration": 27592,
    "start_time": "2023-08-09T14:13:17.261Z"
   },
   {
    "duration": 23,
    "start_time": "2023-08-09T14:14:12.605Z"
   },
   {
    "duration": 20,
    "start_time": "2023-08-09T14:14:14.943Z"
   },
   {
    "duration": 1057,
    "start_time": "2023-08-09T14:16:54.075Z"
   },
   {
    "duration": 40,
    "start_time": "2023-08-09T14:16:55.133Z"
   },
   {
    "duration": 18,
    "start_time": "2023-08-09T14:16:55.174Z"
   },
   {
    "duration": 25,
    "start_time": "2023-08-09T14:16:55.193Z"
   },
   {
    "duration": 38,
    "start_time": "2023-08-09T14:16:55.220Z"
   },
   {
    "duration": 5,
    "start_time": "2023-08-09T14:16:55.260Z"
   },
   {
    "duration": 26,
    "start_time": "2023-08-09T14:16:55.267Z"
   },
   {
    "duration": 8,
    "start_time": "2023-08-09T14:16:55.294Z"
   },
   {
    "duration": 4,
    "start_time": "2023-08-09T14:16:55.304Z"
   },
   {
    "duration": 19,
    "start_time": "2023-08-09T14:16:55.309Z"
   },
   {
    "duration": 11,
    "start_time": "2023-08-09T14:16:55.329Z"
   },
   {
    "duration": 13,
    "start_time": "2023-08-09T14:16:55.341Z"
   },
   {
    "duration": 20,
    "start_time": "2023-08-09T14:16:55.355Z"
   },
   {
    "duration": 5,
    "start_time": "2023-08-09T14:16:55.379Z"
   },
   {
    "duration": 26,
    "start_time": "2023-08-09T14:16:55.385Z"
   },
   {
    "duration": 27,
    "start_time": "2023-08-09T14:16:55.412Z"
   },
   {
    "duration": 16,
    "start_time": "2023-08-09T14:16:55.440Z"
   },
   {
    "duration": 6,
    "start_time": "2023-08-09T14:16:55.457Z"
   },
   {
    "duration": 12,
    "start_time": "2023-08-09T14:16:55.464Z"
   },
   {
    "duration": 18,
    "start_time": "2023-08-09T14:16:55.477Z"
   },
   {
    "duration": 13,
    "start_time": "2023-08-09T14:16:55.496Z"
   },
   {
    "duration": 18,
    "start_time": "2023-08-09T14:16:55.510Z"
   },
   {
    "duration": 16,
    "start_time": "2023-08-09T14:16:55.529Z"
   },
   {
    "duration": 13,
    "start_time": "2023-08-09T14:16:55.546Z"
   },
   {
    "duration": 15,
    "start_time": "2023-08-09T14:16:55.560Z"
   },
   {
    "duration": 8,
    "start_time": "2023-08-09T14:16:55.577Z"
   },
   {
    "duration": 183,
    "start_time": "2023-08-09T14:16:55.586Z"
   },
   {
    "duration": 10901,
    "start_time": "2023-08-09T14:16:55.771Z"
   },
   {
    "duration": 68,
    "start_time": "2023-08-09T14:17:06.674Z"
   },
   {
    "duration": 99,
    "start_time": "2023-08-09T14:17:06.744Z"
   },
   {
    "duration": 42,
    "start_time": "2023-08-09T14:17:06.845Z"
   },
   {
    "duration": 35,
    "start_time": "2023-08-09T14:17:06.888Z"
   },
   {
    "duration": 21,
    "start_time": "2023-08-09T14:17:06.924Z"
   },
   {
    "duration": 29,
    "start_time": "2023-08-09T14:17:06.946Z"
   },
   {
    "duration": 16,
    "start_time": "2023-08-09T14:17:06.976Z"
   },
   {
    "duration": 40,
    "start_time": "2023-08-09T14:17:06.993Z"
   },
   {
    "duration": 137,
    "start_time": "2023-08-09T14:17:07.034Z"
   },
   {
    "duration": 169,
    "start_time": "2023-08-09T14:17:07.172Z"
   },
   {
    "duration": 95,
    "start_time": "2023-08-09T14:17:07.343Z"
   },
   {
    "duration": 22,
    "start_time": "2023-08-09T14:17:07.440Z"
   },
   {
    "duration": 9,
    "start_time": "2023-08-09T14:17:07.465Z"
   },
   {
    "duration": 23,
    "start_time": "2023-08-09T14:17:07.476Z"
   },
   {
    "duration": 33,
    "start_time": "2023-08-09T14:17:07.500Z"
   },
   {
    "duration": 28,
    "start_time": "2023-08-09T14:17:07.535Z"
   },
   {
    "duration": 27,
    "start_time": "2023-08-09T14:17:07.565Z"
   },
   {
    "duration": 68,
    "start_time": "2023-08-09T14:17:07.594Z"
   },
   {
    "duration": 82,
    "start_time": "2023-08-09T14:17:07.663Z"
   },
   {
    "duration": 95,
    "start_time": "2023-08-09T14:17:07.747Z"
   },
   {
    "duration": 27,
    "start_time": "2023-08-09T14:17:07.843Z"
   },
   {
    "duration": 23,
    "start_time": "2023-08-09T14:17:07.871Z"
   },
   {
    "duration": 41,
    "start_time": "2023-08-09T14:17:07.895Z"
   },
   {
    "duration": 109,
    "start_time": "2023-08-09T14:17:07.938Z"
   },
   {
    "duration": 97,
    "start_time": "2023-08-09T14:17:08.048Z"
   },
   {
    "duration": 98,
    "start_time": "2023-08-09T14:17:08.147Z"
   },
   {
    "duration": 14,
    "start_time": "2023-08-09T14:17:08.246Z"
   },
   {
    "duration": 15,
    "start_time": "2023-08-09T14:17:08.261Z"
   },
   {
    "duration": 16,
    "start_time": "2023-08-09T14:17:08.277Z"
   },
   {
    "duration": 13,
    "start_time": "2023-08-09T14:17:08.294Z"
   },
   {
    "duration": 9,
    "start_time": "2023-08-09T14:17:08.308Z"
   },
   {
    "duration": 50735,
    "start_time": "2023-08-09T14:17:08.318Z"
   },
   {
    "duration": 27774,
    "start_time": "2023-08-09T14:17:59.055Z"
   },
   {
    "duration": 27,
    "start_time": "2023-08-09T14:18:26.830Z"
   },
   {
    "duration": 22,
    "start_time": "2023-08-09T14:18:26.859Z"
   },
   {
    "duration": 165,
    "start_time": "2023-08-09T14:49:15.685Z"
   },
   {
    "duration": 10944,
    "start_time": "2023-08-09T14:49:19.753Z"
   },
   {
    "duration": 189,
    "start_time": "2023-08-09T14:49:41.950Z"
   },
   {
    "duration": 9,
    "start_time": "2023-08-09T14:49:47.377Z"
   },
   {
    "duration": 7,
    "start_time": "2023-08-09T14:49:49.403Z"
   },
   {
    "duration": 1071,
    "start_time": "2023-08-09T15:29:35.524Z"
   },
   {
    "duration": 38,
    "start_time": "2023-08-09T15:29:36.597Z"
   },
   {
    "duration": 17,
    "start_time": "2023-08-09T15:29:36.636Z"
   },
   {
    "duration": 46,
    "start_time": "2023-08-09T15:29:36.654Z"
   },
   {
    "duration": 32,
    "start_time": "2023-08-09T15:29:36.702Z"
   },
   {
    "duration": 5,
    "start_time": "2023-08-09T15:29:36.735Z"
   },
   {
    "duration": 17,
    "start_time": "2023-08-09T15:29:36.741Z"
   },
   {
    "duration": 7,
    "start_time": "2023-08-09T15:29:36.760Z"
   },
   {
    "duration": 8,
    "start_time": "2023-08-09T15:29:36.768Z"
   },
   {
    "duration": 13,
    "start_time": "2023-08-09T15:29:36.777Z"
   },
   {
    "duration": 6,
    "start_time": "2023-08-09T15:29:36.791Z"
   },
   {
    "duration": 10,
    "start_time": "2023-08-09T15:29:36.798Z"
   },
   {
    "duration": 29,
    "start_time": "2023-08-09T15:29:36.809Z"
   },
   {
    "duration": 2,
    "start_time": "2023-08-09T15:29:36.840Z"
   },
   {
    "duration": 21,
    "start_time": "2023-08-09T15:29:36.844Z"
   },
   {
    "duration": 17,
    "start_time": "2023-08-09T15:29:36.866Z"
   },
   {
    "duration": 60,
    "start_time": "2023-08-09T15:29:36.885Z"
   },
   {
    "duration": 6,
    "start_time": "2023-08-09T15:29:36.946Z"
   },
   {
    "duration": 19,
    "start_time": "2023-08-09T15:29:36.953Z"
   },
   {
    "duration": 45,
    "start_time": "2023-08-09T15:29:36.974Z"
   },
   {
    "duration": 27,
    "start_time": "2023-08-09T15:29:37.020Z"
   },
   {
    "duration": 43,
    "start_time": "2023-08-09T15:29:37.049Z"
   },
   {
    "duration": 21,
    "start_time": "2023-08-09T15:29:37.093Z"
   },
   {
    "duration": 19,
    "start_time": "2023-08-09T15:29:37.115Z"
   },
   {
    "duration": 12,
    "start_time": "2023-08-09T15:29:37.136Z"
   },
   {
    "duration": 25,
    "start_time": "2023-08-09T15:29:37.149Z"
   },
   {
    "duration": 256,
    "start_time": "2023-08-09T15:29:37.175Z"
   },
   {
    "duration": 11236,
    "start_time": "2023-08-09T15:29:37.433Z"
   },
   {
    "duration": 69,
    "start_time": "2023-08-09T15:29:48.670Z"
   },
   {
    "duration": 98,
    "start_time": "2023-08-09T15:29:48.740Z"
   },
   {
    "duration": 39,
    "start_time": "2023-08-09T15:29:48.840Z"
   },
   {
    "duration": 37,
    "start_time": "2023-08-09T15:29:48.880Z"
   },
   {
    "duration": 32,
    "start_time": "2023-08-09T15:29:48.919Z"
   },
   {
    "duration": 90,
    "start_time": "2023-08-09T15:29:48.952Z"
   },
   {
    "duration": 27,
    "start_time": "2023-08-09T15:29:49.044Z"
   },
   {
    "duration": 39,
    "start_time": "2023-08-09T15:29:49.073Z"
   },
   {
    "duration": 190,
    "start_time": "2023-08-09T15:29:49.114Z"
   },
   {
    "duration": 132,
    "start_time": "2023-08-09T15:29:49.305Z"
   },
   {
    "duration": 7,
    "start_time": "2023-08-09T15:29:49.440Z"
   },
   {
    "duration": 8,
    "start_time": "2023-08-09T15:29:49.538Z"
   },
   {
    "duration": 9,
    "start_time": "2023-08-09T15:29:49.549Z"
   },
   {
    "duration": 6,
    "start_time": "2023-08-09T15:29:49.560Z"
   },
   {
    "duration": 13,
    "start_time": "2023-08-09T15:29:49.567Z"
   },
   {
    "duration": 5,
    "start_time": "2023-08-09T15:29:49.582Z"
   },
   {
    "duration": 21,
    "start_time": "2023-08-09T15:29:49.588Z"
   },
   {
    "duration": 114,
    "start_time": "2023-08-09T15:29:49.610Z"
   },
   {
    "duration": 116,
    "start_time": "2023-08-09T15:29:49.725Z"
   },
   {
    "duration": 100,
    "start_time": "2023-08-09T15:29:49.843Z"
   },
   {
    "duration": 9,
    "start_time": "2023-08-09T15:29:49.945Z"
   },
   {
    "duration": 13,
    "start_time": "2023-08-09T15:29:49.956Z"
   },
   {
    "duration": 35,
    "start_time": "2023-08-09T15:29:49.970Z"
   },
   {
    "duration": 140,
    "start_time": "2023-08-09T15:29:50.006Z"
   },
   {
    "duration": 90,
    "start_time": "2023-08-09T15:29:50.148Z"
   },
   {
    "duration": 97,
    "start_time": "2023-08-09T15:29:50.240Z"
   },
   {
    "duration": 8,
    "start_time": "2023-08-09T15:29:50.339Z"
   },
   {
    "duration": 16,
    "start_time": "2023-08-09T15:29:50.348Z"
   },
   {
    "duration": 19,
    "start_time": "2023-08-09T15:29:50.365Z"
   },
   {
    "duration": 15,
    "start_time": "2023-08-09T15:29:50.385Z"
   },
   {
    "duration": 9,
    "start_time": "2023-08-09T15:29:50.402Z"
   },
   {
    "duration": 50039,
    "start_time": "2023-08-09T15:29:50.413Z"
   },
   {
    "duration": 27537,
    "start_time": "2023-08-09T15:30:40.453Z"
   },
   {
    "duration": 23,
    "start_time": "2023-08-09T15:31:07.992Z"
   },
   {
    "duration": 33,
    "start_time": "2023-08-09T15:31:08.017Z"
   },
   {
    "duration": 6,
    "start_time": "2023-08-09T15:33:29.061Z"
   },
   {
    "duration": 28,
    "start_time": "2023-08-09T15:33:49.399Z"
   },
   {
    "duration": 176,
    "start_time": "2023-08-09T15:34:00.297Z"
   },
   {
    "duration": 101,
    "start_time": "2023-08-09T15:34:06.541Z"
   },
   {
    "duration": 5,
    "start_time": "2023-08-09T15:34:12.239Z"
   },
   {
    "duration": 6,
    "start_time": "2023-08-09T15:34:14.504Z"
   },
   {
    "duration": 7,
    "start_time": "2023-08-09T15:34:17.377Z"
   },
   {
    "duration": 17,
    "start_time": "2023-08-09T15:41:27.639Z"
   },
   {
    "duration": 80,
    "start_time": "2023-08-09T15:41:34.853Z"
   },
   {
    "duration": 73,
    "start_time": "2023-08-09T15:41:42.664Z"
   },
   {
    "duration": 6,
    "start_time": "2023-08-09T15:41:58.810Z"
   },
   {
    "duration": 26,
    "start_time": "2023-08-09T15:46:20.756Z"
   },
   {
    "duration": 132,
    "start_time": "2023-08-09T15:46:23.047Z"
   },
   {
    "duration": 24,
    "start_time": "2023-08-09T15:46:24.849Z"
   },
   {
    "duration": 5,
    "start_time": "2023-08-09T15:46:35.203Z"
   },
   {
    "duration": 7,
    "start_time": "2023-08-09T15:46:37.015Z"
   },
   {
    "duration": 7,
    "start_time": "2023-08-09T15:46:47.605Z"
   },
   {
    "duration": 28215,
    "start_time": "2023-08-09T15:54:55.429Z"
   },
   {
    "duration": 26,
    "start_time": "2023-08-09T15:55:36.247Z"
   },
   {
    "duration": 37011,
    "start_time": "2023-08-09T15:55:42.894Z"
   },
   {
    "duration": 25,
    "start_time": "2023-08-09T15:56:27.639Z"
   },
   {
    "duration": 37200,
    "start_time": "2023-08-09T15:58:16.419Z"
   },
   {
    "duration": 19,
    "start_time": "2023-08-09T15:58:58.493Z"
   },
   {
    "duration": 48496,
    "start_time": "2023-08-09T15:59:24.236Z"
   },
   {
    "duration": 26,
    "start_time": "2023-08-09T16:00:16.964Z"
   },
   {
    "duration": 48386,
    "start_time": "2023-08-09T16:01:20.969Z"
   },
   {
    "duration": 25,
    "start_time": "2023-08-09T16:02:13.567Z"
   },
   {
    "duration": 47504,
    "start_time": "2023-08-09T16:02:22.730Z"
   },
   {
    "duration": 28,
    "start_time": "2023-08-09T16:03:16.648Z"
   },
   {
    "duration": 48675,
    "start_time": "2023-08-09T16:03:24.450Z"
   },
   {
    "duration": 16,
    "start_time": "2023-08-09T16:04:17.562Z"
   },
   {
    "duration": 49008,
    "start_time": "2023-08-09T16:04:32.786Z"
   },
   {
    "duration": 32,
    "start_time": "2023-08-09T16:05:25.397Z"
   },
   {
    "duration": 48775,
    "start_time": "2023-08-09T16:05:38.623Z"
   },
   {
    "duration": 17,
    "start_time": "2023-08-09T16:06:30.515Z"
   },
   {
    "duration": 48847,
    "start_time": "2023-08-09T16:07:02.255Z"
   },
   {
    "duration": 15,
    "start_time": "2023-08-09T16:07:56.701Z"
   },
   {
    "duration": 47926,
    "start_time": "2023-08-09T16:08:05.298Z"
   },
   {
    "duration": 20,
    "start_time": "2023-08-09T16:08:57.093Z"
   },
   {
    "duration": 47996,
    "start_time": "2023-08-09T16:09:06.974Z"
   },
   {
    "duration": 29,
    "start_time": "2023-08-09T16:10:01.074Z"
   },
   {
    "duration": 1060,
    "start_time": "2023-08-09T16:16:48.945Z"
   },
   {
    "duration": 39,
    "start_time": "2023-08-09T16:16:50.007Z"
   },
   {
    "duration": 17,
    "start_time": "2023-08-09T16:16:50.048Z"
   },
   {
    "duration": 11,
    "start_time": "2023-08-09T16:16:50.067Z"
   },
   {
    "duration": 41,
    "start_time": "2023-08-09T16:16:50.079Z"
   },
   {
    "duration": 17,
    "start_time": "2023-08-09T16:16:50.122Z"
   },
   {
    "duration": 18,
    "start_time": "2023-08-09T16:16:50.140Z"
   },
   {
    "duration": 8,
    "start_time": "2023-08-09T16:16:50.159Z"
   },
   {
    "duration": 29,
    "start_time": "2023-08-09T16:16:50.168Z"
   },
   {
    "duration": 37,
    "start_time": "2023-08-09T16:16:50.200Z"
   },
   {
    "duration": 13,
    "start_time": "2023-08-09T16:16:50.238Z"
   },
   {
    "duration": 27,
    "start_time": "2023-08-09T16:16:50.252Z"
   },
   {
    "duration": 25,
    "start_time": "2023-08-09T16:16:50.281Z"
   },
   {
    "duration": 5,
    "start_time": "2023-08-09T16:16:50.307Z"
   },
   {
    "duration": 28,
    "start_time": "2023-08-09T16:16:50.313Z"
   },
   {
    "duration": 19,
    "start_time": "2023-08-09T16:16:50.343Z"
   },
   {
    "duration": 33,
    "start_time": "2023-08-09T16:16:50.363Z"
   },
   {
    "duration": 3,
    "start_time": "2023-08-09T16:16:50.397Z"
   },
   {
    "duration": 11,
    "start_time": "2023-08-09T16:16:50.402Z"
   },
   {
    "duration": 9,
    "start_time": "2023-08-09T16:16:50.415Z"
   },
   {
    "duration": 7,
    "start_time": "2023-08-09T16:16:50.425Z"
   },
   {
    "duration": 5,
    "start_time": "2023-08-09T16:16:50.433Z"
   },
   {
    "duration": 10,
    "start_time": "2023-08-09T16:16:50.439Z"
   },
   {
    "duration": 13,
    "start_time": "2023-08-09T16:16:50.451Z"
   },
   {
    "duration": 11,
    "start_time": "2023-08-09T16:16:50.465Z"
   },
   {
    "duration": 7,
    "start_time": "2023-08-09T16:16:50.477Z"
   },
   {
    "duration": 174,
    "start_time": "2023-08-09T16:16:50.485Z"
   },
   {
    "duration": 10574,
    "start_time": "2023-08-09T16:16:50.662Z"
   },
   {
    "duration": 101,
    "start_time": "2023-08-09T16:17:01.238Z"
   },
   {
    "duration": 101,
    "start_time": "2023-08-09T16:17:01.341Z"
   },
   {
    "duration": 78,
    "start_time": "2023-08-09T16:17:01.444Z"
   },
   {
    "duration": 63,
    "start_time": "2023-08-09T16:17:01.523Z"
   },
   {
    "duration": 79,
    "start_time": "2023-08-09T16:17:01.587Z"
   },
   {
    "duration": 84,
    "start_time": "2023-08-09T16:17:01.668Z"
   },
   {
    "duration": 39,
    "start_time": "2023-08-09T16:17:01.753Z"
   },
   {
    "duration": 115,
    "start_time": "2023-08-09T16:17:01.793Z"
   },
   {
    "duration": 241,
    "start_time": "2023-08-09T16:17:01.911Z"
   },
   {
    "duration": 85,
    "start_time": "2023-08-09T16:17:02.154Z"
   },
   {
    "duration": 112,
    "start_time": "2023-08-09T16:17:02.240Z"
   },
   {
    "duration": 50,
    "start_time": "2023-08-09T16:17:02.353Z"
   },
   {
    "duration": 40,
    "start_time": "2023-08-09T16:17:02.405Z"
   },
   {
    "duration": 27,
    "start_time": "2023-08-09T16:17:02.446Z"
   },
   {
    "duration": 45,
    "start_time": "2023-08-09T16:17:02.474Z"
   },
   {
    "duration": 26,
    "start_time": "2023-08-09T16:17:02.521Z"
   },
   {
    "duration": 47,
    "start_time": "2023-08-09T16:17:02.548Z"
   },
   {
    "duration": 94,
    "start_time": "2023-08-09T16:17:02.597Z"
   },
   {
    "duration": 55,
    "start_time": "2023-08-09T16:17:02.692Z"
   },
   {
    "duration": 8,
    "start_time": "2023-08-09T16:17:02.839Z"
   },
   {
    "duration": 21,
    "start_time": "2023-08-09T16:17:02.938Z"
   },
   {
    "duration": 13,
    "start_time": "2023-08-09T16:17:02.961Z"
   },
   {
    "duration": 37,
    "start_time": "2023-08-09T16:17:02.976Z"
   },
   {
    "duration": 134,
    "start_time": "2023-08-09T16:17:03.014Z"
   },
   {
    "duration": 96,
    "start_time": "2023-08-09T16:17:03.150Z"
   },
   {
    "duration": 96,
    "start_time": "2023-08-09T16:17:03.247Z"
   },
   {
    "duration": 101,
    "start_time": "2023-08-09T16:17:03.345Z"
   },
   {
    "duration": 23,
    "start_time": "2023-08-09T16:17:03.448Z"
   },
   {
    "duration": 12,
    "start_time": "2023-08-09T16:17:03.473Z"
   },
   {
    "duration": 10,
    "start_time": "2023-08-09T16:17:03.487Z"
   },
   {
    "duration": 10,
    "start_time": "2023-08-09T16:17:03.498Z"
   },
   {
    "duration": 47502,
    "start_time": "2023-08-09T16:17:03.509Z"
   },
   {
    "duration": 34,
    "start_time": "2023-08-09T16:17:51.012Z"
   },
   {
    "duration": 1065,
    "start_time": "2023-08-09T16:18:23.404Z"
   },
   {
    "duration": 41,
    "start_time": "2023-08-09T16:18:24.471Z"
   },
   {
    "duration": 21,
    "start_time": "2023-08-09T16:18:24.514Z"
   },
   {
    "duration": 21,
    "start_time": "2023-08-09T16:18:24.539Z"
   },
   {
    "duration": 52,
    "start_time": "2023-08-09T16:18:24.562Z"
   },
   {
    "duration": 7,
    "start_time": "2023-08-09T16:18:24.615Z"
   },
   {
    "duration": 26,
    "start_time": "2023-08-09T16:18:24.623Z"
   },
   {
    "duration": 7,
    "start_time": "2023-08-09T16:18:24.651Z"
   },
   {
    "duration": 5,
    "start_time": "2023-08-09T16:18:24.660Z"
   },
   {
    "duration": 26,
    "start_time": "2023-08-09T16:18:24.666Z"
   },
   {
    "duration": 8,
    "start_time": "2023-08-09T16:18:24.694Z"
   },
   {
    "duration": 13,
    "start_time": "2023-08-09T16:18:24.703Z"
   },
   {
    "duration": 17,
    "start_time": "2023-08-09T16:18:24.717Z"
   },
   {
    "duration": 9,
    "start_time": "2023-08-09T16:18:24.736Z"
   },
   {
    "duration": 33,
    "start_time": "2023-08-09T16:18:24.746Z"
   },
   {
    "duration": 43,
    "start_time": "2023-08-09T16:18:24.781Z"
   },
   {
    "duration": 35,
    "start_time": "2023-08-09T16:18:24.826Z"
   },
   {
    "duration": 34,
    "start_time": "2023-08-09T16:18:24.862Z"
   },
   {
    "duration": 25,
    "start_time": "2023-08-09T16:18:24.897Z"
   },
   {
    "duration": 19,
    "start_time": "2023-08-09T16:18:24.923Z"
   },
   {
    "duration": 14,
    "start_time": "2023-08-09T16:18:24.944Z"
   },
   {
    "duration": 11,
    "start_time": "2023-08-09T16:18:24.959Z"
   },
   {
    "duration": 23,
    "start_time": "2023-08-09T16:18:24.971Z"
   },
   {
    "duration": 19,
    "start_time": "2023-08-09T16:18:24.995Z"
   },
   {
    "duration": 55,
    "start_time": "2023-08-09T16:18:25.015Z"
   },
   {
    "duration": 21,
    "start_time": "2023-08-09T16:18:25.071Z"
   },
   {
    "duration": 175,
    "start_time": "2023-08-09T16:18:25.094Z"
   },
   {
    "duration": 10602,
    "start_time": "2023-08-09T16:18:25.270Z"
   },
   {
    "duration": 69,
    "start_time": "2023-08-09T16:18:35.874Z"
   },
   {
    "duration": 96,
    "start_time": "2023-08-09T16:18:35.945Z"
   },
   {
    "duration": 29,
    "start_time": "2023-08-09T16:18:36.043Z"
   },
   {
    "duration": 13,
    "start_time": "2023-08-09T16:18:36.074Z"
   },
   {
    "duration": 19,
    "start_time": "2023-08-09T16:18:36.088Z"
   },
   {
    "duration": 27,
    "start_time": "2023-08-09T16:18:36.108Z"
   },
   {
    "duration": 5,
    "start_time": "2023-08-09T16:18:36.137Z"
   },
   {
    "duration": 31,
    "start_time": "2023-08-09T16:18:36.143Z"
   },
   {
    "duration": 180,
    "start_time": "2023-08-09T16:18:36.176Z"
   },
   {
    "duration": 85,
    "start_time": "2023-08-09T16:18:36.357Z"
   },
   {
    "duration": 96,
    "start_time": "2023-08-09T16:18:36.444Z"
   },
   {
    "duration": 10,
    "start_time": "2023-08-09T16:18:36.541Z"
   },
   {
    "duration": 16,
    "start_time": "2023-08-09T16:18:36.555Z"
   },
   {
    "duration": 12,
    "start_time": "2023-08-09T16:18:36.573Z"
   },
   {
    "duration": 29,
    "start_time": "2023-08-09T16:18:36.586Z"
   },
   {
    "duration": 8,
    "start_time": "2023-08-09T16:18:36.616Z"
   },
   {
    "duration": 23,
    "start_time": "2023-08-09T16:18:36.625Z"
   },
   {
    "duration": 79,
    "start_time": "2023-08-09T16:18:36.649Z"
   },
   {
    "duration": 23,
    "start_time": "2023-08-09T16:18:36.730Z"
   },
   {
    "duration": 88,
    "start_time": "2023-08-09T16:18:36.754Z"
   },
   {
    "duration": 99,
    "start_time": "2023-08-09T16:18:36.844Z"
   },
   {
    "duration": 11,
    "start_time": "2023-08-09T16:18:36.944Z"
   },
   {
    "duration": 25,
    "start_time": "2023-08-09T16:18:36.956Z"
   },
   {
    "duration": 140,
    "start_time": "2023-08-09T16:18:36.982Z"
   },
   {
    "duration": 123,
    "start_time": "2023-08-09T16:18:37.123Z"
   },
   {
    "duration": 23,
    "start_time": "2023-08-09T16:18:37.338Z"
   },
   {
    "duration": 113,
    "start_time": "2023-08-09T16:18:37.362Z"
   },
   {
    "duration": 30,
    "start_time": "2023-08-09T16:18:37.477Z"
   },
   {
    "duration": 21,
    "start_time": "2023-08-09T16:18:37.509Z"
   },
   {
    "duration": 37,
    "start_time": "2023-08-09T16:18:37.531Z"
   },
   {
    "duration": 25,
    "start_time": "2023-08-09T16:18:37.569Z"
   },
   {
    "duration": 47101,
    "start_time": "2023-08-09T16:18:37.595Z"
   },
   {
    "duration": 21,
    "start_time": "2023-08-09T16:19:24.697Z"
   },
   {
    "duration": 1044,
    "start_time": "2023-08-09T16:19:50.664Z"
   },
   {
    "duration": 39,
    "start_time": "2023-08-09T16:19:51.710Z"
   },
   {
    "duration": 17,
    "start_time": "2023-08-09T16:19:51.751Z"
   },
   {
    "duration": 24,
    "start_time": "2023-08-09T16:19:51.769Z"
   },
   {
    "duration": 42,
    "start_time": "2023-08-09T16:19:51.795Z"
   },
   {
    "duration": 4,
    "start_time": "2023-08-09T16:19:51.839Z"
   },
   {
    "duration": 22,
    "start_time": "2023-08-09T16:19:51.845Z"
   },
   {
    "duration": 33,
    "start_time": "2023-08-09T16:19:51.868Z"
   },
   {
    "duration": 43,
    "start_time": "2023-08-09T16:19:51.902Z"
   },
   {
    "duration": 14,
    "start_time": "2023-08-09T16:19:51.946Z"
   },
   {
    "duration": 14,
    "start_time": "2023-08-09T16:19:51.962Z"
   },
   {
    "duration": 30,
    "start_time": "2023-08-09T16:19:51.977Z"
   },
   {
    "duration": 37,
    "start_time": "2023-08-09T16:19:52.009Z"
   },
   {
    "duration": 22,
    "start_time": "2023-08-09T16:19:52.049Z"
   },
   {
    "duration": 31,
    "start_time": "2023-08-09T16:19:52.072Z"
   },
   {
    "duration": 24,
    "start_time": "2023-08-09T16:19:52.104Z"
   },
   {
    "duration": 25,
    "start_time": "2023-08-09T16:19:52.130Z"
   },
   {
    "duration": 22,
    "start_time": "2023-08-09T16:19:52.156Z"
   },
   {
    "duration": 14,
    "start_time": "2023-08-09T16:19:52.179Z"
   },
   {
    "duration": 14,
    "start_time": "2023-08-09T16:19:52.194Z"
   },
   {
    "duration": 31,
    "start_time": "2023-08-09T16:19:52.210Z"
   },
   {
    "duration": 19,
    "start_time": "2023-08-09T16:19:52.243Z"
   },
   {
    "duration": 13,
    "start_time": "2023-08-09T16:19:52.263Z"
   },
   {
    "duration": 21,
    "start_time": "2023-08-09T16:19:52.277Z"
   },
   {
    "duration": 46,
    "start_time": "2023-08-09T16:19:52.299Z"
   },
   {
    "duration": 7,
    "start_time": "2023-08-09T16:19:52.346Z"
   },
   {
    "duration": 170,
    "start_time": "2023-08-09T16:19:52.354Z"
   },
   {
    "duration": 10686,
    "start_time": "2023-08-09T16:19:52.525Z"
   },
   {
    "duration": 37,
    "start_time": "2023-08-09T16:20:03.213Z"
   },
   {
    "duration": 9,
    "start_time": "2023-08-09T16:20:03.338Z"
   },
   {
    "duration": 14,
    "start_time": "2023-08-09T16:20:03.437Z"
   },
   {
    "duration": 7,
    "start_time": "2023-08-09T16:20:03.453Z"
   },
   {
    "duration": 10,
    "start_time": "2023-08-09T16:20:03.461Z"
   },
   {
    "duration": 17,
    "start_time": "2023-08-09T16:20:03.472Z"
   },
   {
    "duration": 5,
    "start_time": "2023-08-09T16:20:03.491Z"
   },
   {
    "duration": 30,
    "start_time": "2023-08-09T16:20:03.497Z"
   },
   {
    "duration": 175,
    "start_time": "2023-08-09T16:20:03.538Z"
   },
   {
    "duration": 122,
    "start_time": "2023-08-09T16:20:03.715Z"
   },
   {
    "duration": 98,
    "start_time": "2023-08-09T16:20:03.840Z"
   },
   {
    "duration": 10,
    "start_time": "2023-08-09T16:20:03.940Z"
   },
   {
    "duration": 7,
    "start_time": "2023-08-09T16:20:03.953Z"
   },
   {
    "duration": 6,
    "start_time": "2023-08-09T16:20:03.961Z"
   },
   {
    "duration": 20,
    "start_time": "2023-08-09T16:20:03.968Z"
   },
   {
    "duration": 6,
    "start_time": "2023-08-09T16:20:03.989Z"
   },
   {
    "duration": 18,
    "start_time": "2023-08-09T16:20:03.996Z"
   },
   {
    "duration": 92,
    "start_time": "2023-08-09T16:20:04.015Z"
   },
   {
    "duration": 37,
    "start_time": "2023-08-09T16:20:04.109Z"
   },
   {
    "duration": 7,
    "start_time": "2023-08-09T16:20:04.237Z"
   },
   {
    "duration": 135,
    "start_time": "2023-08-09T16:20:04.245Z"
   },
   {
    "duration": 9,
    "start_time": "2023-08-09T16:20:04.381Z"
   },
   {
    "duration": 63,
    "start_time": "2023-08-09T16:20:04.391Z"
   },
   {
    "duration": 148,
    "start_time": "2023-08-09T16:20:04.455Z"
   },
   {
    "duration": 42,
    "start_time": "2023-08-09T16:20:04.605Z"
   },
   {
    "duration": 102,
    "start_time": "2023-08-09T16:20:04.738Z"
   },
   {
    "duration": 14,
    "start_time": "2023-08-09T16:20:04.841Z"
   },
   {
    "duration": 12,
    "start_time": "2023-08-09T16:20:04.857Z"
   },
   {
    "duration": 25,
    "start_time": "2023-08-09T16:20:04.870Z"
   },
   {
    "duration": 14,
    "start_time": "2023-08-09T16:20:04.897Z"
   },
   {
    "duration": 18,
    "start_time": "2023-08-09T16:20:04.912Z"
   },
   {
    "duration": 47287,
    "start_time": "2023-08-09T16:20:04.931Z"
   },
   {
    "duration": 31,
    "start_time": "2023-08-09T16:20:52.220Z"
   },
   {
    "duration": 1135,
    "start_time": "2023-08-09T16:21:23.838Z"
   },
   {
    "duration": 39,
    "start_time": "2023-08-09T16:21:24.975Z"
   },
   {
    "duration": 18,
    "start_time": "2023-08-09T16:21:25.018Z"
   },
   {
    "duration": 29,
    "start_time": "2023-08-09T16:21:25.037Z"
   },
   {
    "duration": 53,
    "start_time": "2023-08-09T16:21:25.068Z"
   },
   {
    "duration": 5,
    "start_time": "2023-08-09T16:21:25.122Z"
   },
   {
    "duration": 42,
    "start_time": "2023-08-09T16:21:25.129Z"
   },
   {
    "duration": 8,
    "start_time": "2023-08-09T16:21:25.173Z"
   },
   {
    "duration": 8,
    "start_time": "2023-08-09T16:21:25.183Z"
   },
   {
    "duration": 19,
    "start_time": "2023-08-09T16:21:25.192Z"
   },
   {
    "duration": 34,
    "start_time": "2023-08-09T16:21:25.212Z"
   },
   {
    "duration": 13,
    "start_time": "2023-08-09T16:21:25.248Z"
   },
   {
    "duration": 45,
    "start_time": "2023-08-09T16:21:25.262Z"
   },
   {
    "duration": 19,
    "start_time": "2023-08-09T16:21:25.308Z"
   },
   {
    "duration": 28,
    "start_time": "2023-08-09T16:21:25.329Z"
   },
   {
    "duration": 16,
    "start_time": "2023-08-09T16:21:25.359Z"
   },
   {
    "duration": 28,
    "start_time": "2023-08-09T16:21:25.376Z"
   },
   {
    "duration": 2,
    "start_time": "2023-08-09T16:21:25.406Z"
   },
   {
    "duration": 30,
    "start_time": "2023-08-09T16:21:25.409Z"
   },
   {
    "duration": 7,
    "start_time": "2023-08-09T16:21:25.440Z"
   },
   {
    "duration": 6,
    "start_time": "2023-08-09T16:21:25.448Z"
   },
   {
    "duration": 3,
    "start_time": "2023-08-09T16:21:25.455Z"
   },
   {
    "duration": 13,
    "start_time": "2023-08-09T16:21:25.459Z"
   },
   {
    "duration": 9,
    "start_time": "2023-08-09T16:21:25.474Z"
   },
   {
    "duration": 10,
    "start_time": "2023-08-09T16:21:25.485Z"
   },
   {
    "duration": 7,
    "start_time": "2023-08-09T16:21:25.496Z"
   },
   {
    "duration": 194,
    "start_time": "2023-08-09T16:21:25.507Z"
   },
   {
    "duration": 10965,
    "start_time": "2023-08-09T16:21:25.702Z"
   },
   {
    "duration": 70,
    "start_time": "2023-08-09T16:21:36.668Z"
   },
   {
    "duration": 97,
    "start_time": "2023-08-09T16:21:36.741Z"
   },
   {
    "duration": 49,
    "start_time": "2023-08-09T16:21:36.840Z"
   },
   {
    "duration": 17,
    "start_time": "2023-08-09T16:21:36.891Z"
   },
   {
    "duration": 41,
    "start_time": "2023-08-09T16:21:36.909Z"
   },
   {
    "duration": 45,
    "start_time": "2023-08-09T16:21:36.952Z"
   },
   {
    "duration": 62,
    "start_time": "2023-08-09T16:21:36.998Z"
   },
   {
    "duration": 81,
    "start_time": "2023-08-09T16:21:37.062Z"
   },
   {
    "duration": 219,
    "start_time": "2023-08-09T16:21:37.146Z"
   },
   {
    "duration": 74,
    "start_time": "2023-08-09T16:21:37.367Z"
   },
   {
    "duration": 100,
    "start_time": "2023-08-09T16:21:37.443Z"
   },
   {
    "duration": 48,
    "start_time": "2023-08-09T16:21:37.545Z"
   },
   {
    "duration": 59,
    "start_time": "2023-08-09T16:21:37.594Z"
   },
   {
    "duration": 24,
    "start_time": "2023-08-09T16:21:37.654Z"
   },
   {
    "duration": 72,
    "start_time": "2023-08-09T16:21:37.680Z"
   },
   {
    "duration": 59,
    "start_time": "2023-08-09T16:21:37.754Z"
   },
   {
    "duration": 52,
    "start_time": "2023-08-09T16:21:37.814Z"
   },
   {
    "duration": 104,
    "start_time": "2023-08-09T16:21:37.868Z"
   },
   {
    "duration": 75,
    "start_time": "2023-08-09T16:21:37.974Z"
   },
   {
    "duration": 96,
    "start_time": "2023-08-09T16:21:38.050Z"
   },
   {
    "duration": 94,
    "start_time": "2023-08-09T16:21:38.148Z"
   },
   {
    "duration": 30,
    "start_time": "2023-08-09T16:21:38.244Z"
   },
   {
    "duration": 46,
    "start_time": "2023-08-09T16:21:38.275Z"
   },
   {
    "duration": 144,
    "start_time": "2023-08-09T16:21:38.323Z"
   },
   {
    "duration": 172,
    "start_time": "2023-08-09T16:21:38.468Z"
   },
   {
    "duration": 110,
    "start_time": "2023-08-09T16:21:38.642Z"
   },
   {
    "duration": 26,
    "start_time": "2023-08-09T16:21:38.754Z"
   },
   {
    "duration": 17,
    "start_time": "2023-08-09T16:21:38.781Z"
   },
   {
    "duration": 30,
    "start_time": "2023-08-09T16:21:38.799Z"
   },
   {
    "duration": 26,
    "start_time": "2023-08-09T16:21:38.830Z"
   },
   {
    "duration": 26,
    "start_time": "2023-08-09T16:21:38.857Z"
   },
   {
    "duration": 48580,
    "start_time": "2023-08-09T16:21:38.885Z"
   },
   {
    "duration": 14,
    "start_time": "2023-08-09T16:22:27.467Z"
   },
   {
    "duration": 1078,
    "start_time": "2023-08-09T16:22:54.611Z"
   },
   {
    "duration": 38,
    "start_time": "2023-08-09T16:22:55.691Z"
   },
   {
    "duration": 18,
    "start_time": "2023-08-09T16:22:55.730Z"
   },
   {
    "duration": 11,
    "start_time": "2023-08-09T16:22:55.749Z"
   },
   {
    "duration": 31,
    "start_time": "2023-08-09T16:22:55.762Z"
   },
   {
    "duration": 4,
    "start_time": "2023-08-09T16:22:55.795Z"
   },
   {
    "duration": 37,
    "start_time": "2023-08-09T16:22:55.801Z"
   },
   {
    "duration": 9,
    "start_time": "2023-08-09T16:22:55.839Z"
   },
   {
    "duration": 5,
    "start_time": "2023-08-09T16:22:55.849Z"
   },
   {
    "duration": 13,
    "start_time": "2023-08-09T16:22:55.855Z"
   },
   {
    "duration": 6,
    "start_time": "2023-08-09T16:22:55.869Z"
   },
   {
    "duration": 9,
    "start_time": "2023-08-09T16:22:55.876Z"
   },
   {
    "duration": 21,
    "start_time": "2023-08-09T16:22:55.887Z"
   },
   {
    "duration": 2,
    "start_time": "2023-08-09T16:22:55.911Z"
   },
   {
    "duration": 40,
    "start_time": "2023-08-09T16:22:55.914Z"
   },
   {
    "duration": 35,
    "start_time": "2023-08-09T16:22:55.955Z"
   },
   {
    "duration": 16,
    "start_time": "2023-08-09T16:22:55.991Z"
   },
   {
    "duration": 3,
    "start_time": "2023-08-09T16:22:56.009Z"
   },
   {
    "duration": 8,
    "start_time": "2023-08-09T16:22:56.014Z"
   },
   {
    "duration": 10,
    "start_time": "2023-08-09T16:22:56.024Z"
   },
   {
    "duration": 13,
    "start_time": "2023-08-09T16:22:56.036Z"
   },
   {
    "duration": 4,
    "start_time": "2023-08-09T16:22:56.051Z"
   },
   {
    "duration": 10,
    "start_time": "2023-08-09T16:22:56.057Z"
   },
   {
    "duration": 22,
    "start_time": "2023-08-09T16:22:56.068Z"
   },
   {
    "duration": 10,
    "start_time": "2023-08-09T16:22:56.092Z"
   },
   {
    "duration": 8,
    "start_time": "2023-08-09T16:22:56.104Z"
   },
   {
    "duration": 171,
    "start_time": "2023-08-09T16:22:56.113Z"
   },
   {
    "duration": 10846,
    "start_time": "2023-08-09T16:22:56.285Z"
   },
   {
    "duration": 31,
    "start_time": "2023-08-09T16:23:07.138Z"
   },
   {
    "duration": 98,
    "start_time": "2023-08-09T16:23:07.239Z"
   },
   {
    "duration": 19,
    "start_time": "2023-08-09T16:23:07.339Z"
   },
   {
    "duration": 7,
    "start_time": "2023-08-09T16:23:07.360Z"
   },
   {
    "duration": 9,
    "start_time": "2023-08-09T16:23:07.368Z"
   },
   {
    "duration": 17,
    "start_time": "2023-08-09T16:23:07.378Z"
   },
   {
    "duration": 6,
    "start_time": "2023-08-09T16:23:07.396Z"
   },
   {
    "duration": 35,
    "start_time": "2023-08-09T16:23:07.403Z"
   },
   {
    "duration": 179,
    "start_time": "2023-08-09T16:23:07.439Z"
   },
   {
    "duration": 118,
    "start_time": "2023-08-09T16:23:07.619Z"
   },
   {
    "duration": 6,
    "start_time": "2023-08-09T16:23:07.740Z"
   },
   {
    "duration": 12,
    "start_time": "2023-08-09T16:23:07.837Z"
   },
   {
    "duration": 18,
    "start_time": "2023-08-09T16:23:07.852Z"
   },
   {
    "duration": 7,
    "start_time": "2023-08-09T16:23:07.871Z"
   },
   {
    "duration": 11,
    "start_time": "2023-08-09T16:23:07.879Z"
   },
   {
    "duration": 4,
    "start_time": "2023-08-09T16:23:07.892Z"
   },
   {
    "duration": 24,
    "start_time": "2023-08-09T16:23:07.897Z"
   },
   {
    "duration": 89,
    "start_time": "2023-08-09T16:23:07.922Z"
   },
   {
    "duration": 132,
    "start_time": "2023-08-09T16:23:08.012Z"
   },
   {
    "duration": 98,
    "start_time": "2023-08-09T16:23:08.146Z"
   },
   {
    "duration": 18,
    "start_time": "2023-08-09T16:23:08.246Z"
   },
   {
    "duration": 11,
    "start_time": "2023-08-09T16:23:08.265Z"
   },
   {
    "duration": 60,
    "start_time": "2023-08-09T16:23:08.278Z"
   },
   {
    "duration": 134,
    "start_time": "2023-08-09T16:23:08.339Z"
   },
   {
    "duration": 65,
    "start_time": "2023-08-09T16:23:08.474Z"
   },
   {
    "duration": 97,
    "start_time": "2023-08-09T16:23:08.541Z"
   },
   {
    "duration": 12,
    "start_time": "2023-08-09T16:23:08.640Z"
   },
   {
    "duration": 9,
    "start_time": "2023-08-09T16:23:08.654Z"
   },
   {
    "duration": 10,
    "start_time": "2023-08-09T16:23:08.665Z"
   },
   {
    "duration": 9,
    "start_time": "2023-08-09T16:23:08.677Z"
   },
   {
    "duration": 14,
    "start_time": "2023-08-09T16:23:08.688Z"
   },
   {
    "duration": 48214,
    "start_time": "2023-08-09T16:23:08.704Z"
   },
   {
    "duration": 31,
    "start_time": "2023-08-09T16:23:56.919Z"
   },
   {
    "duration": 1060,
    "start_time": "2023-08-09T16:24:21.248Z"
   },
   {
    "duration": 38,
    "start_time": "2023-08-09T16:24:22.310Z"
   },
   {
    "duration": 16,
    "start_time": "2023-08-09T16:24:22.350Z"
   },
   {
    "duration": 10,
    "start_time": "2023-08-09T16:24:22.368Z"
   },
   {
    "duration": 30,
    "start_time": "2023-08-09T16:24:22.380Z"
   },
   {
    "duration": 4,
    "start_time": "2023-08-09T16:24:22.411Z"
   },
   {
    "duration": 31,
    "start_time": "2023-08-09T16:24:22.417Z"
   },
   {
    "duration": 9,
    "start_time": "2023-08-09T16:24:22.449Z"
   },
   {
    "duration": 9,
    "start_time": "2023-08-09T16:24:22.459Z"
   },
   {
    "duration": 10,
    "start_time": "2023-08-09T16:24:22.470Z"
   },
   {
    "duration": 11,
    "start_time": "2023-08-09T16:24:22.482Z"
   },
   {
    "duration": 9,
    "start_time": "2023-08-09T16:24:22.494Z"
   },
   {
    "duration": 10,
    "start_time": "2023-08-09T16:24:22.505Z"
   },
   {
    "duration": 2,
    "start_time": "2023-08-09T16:24:22.517Z"
   },
   {
    "duration": 18,
    "start_time": "2023-08-09T16:24:22.537Z"
   },
   {
    "duration": 16,
    "start_time": "2023-08-09T16:24:22.556Z"
   },
   {
    "duration": 13,
    "start_time": "2023-08-09T16:24:22.574Z"
   },
   {
    "duration": 3,
    "start_time": "2023-08-09T16:24:22.588Z"
   },
   {
    "duration": 23,
    "start_time": "2023-08-09T16:24:22.592Z"
   },
   {
    "duration": 8,
    "start_time": "2023-08-09T16:24:22.617Z"
   },
   {
    "duration": 11,
    "start_time": "2023-08-09T16:24:22.626Z"
   },
   {
    "duration": 9,
    "start_time": "2023-08-09T16:24:22.638Z"
   },
   {
    "duration": 24,
    "start_time": "2023-08-09T16:24:22.648Z"
   },
   {
    "duration": 11,
    "start_time": "2023-08-09T16:24:22.673Z"
   },
   {
    "duration": 9,
    "start_time": "2023-08-09T16:24:22.686Z"
   },
   {
    "duration": 9,
    "start_time": "2023-08-09T16:24:22.696Z"
   },
   {
    "duration": 167,
    "start_time": "2023-08-09T16:24:22.707Z"
   },
   {
    "duration": 10871,
    "start_time": "2023-08-09T16:24:22.877Z"
   },
   {
    "duration": 91,
    "start_time": "2023-08-09T16:24:33.749Z"
   },
   {
    "duration": 100,
    "start_time": "2023-08-09T16:24:33.841Z"
   },
   {
    "duration": 26,
    "start_time": "2023-08-09T16:24:33.942Z"
   },
   {
    "duration": 60,
    "start_time": "2023-08-09T16:24:33.969Z"
   },
   {
    "duration": 41,
    "start_time": "2023-08-09T16:24:34.030Z"
   },
   {
    "duration": 50,
    "start_time": "2023-08-09T16:24:34.072Z"
   },
   {
    "duration": 133,
    "start_time": "2023-08-09T16:24:34.123Z"
   },
   {
    "duration": 45,
    "start_time": "2023-08-09T16:24:34.257Z"
   },
   {
    "duration": 174,
    "start_time": "2023-08-09T16:24:34.303Z"
   },
   {
    "duration": 73,
    "start_time": "2023-08-09T16:24:34.478Z"
   },
   {
    "duration": 91,
    "start_time": "2023-08-09T16:24:34.553Z"
   },
   {
    "duration": 103,
    "start_time": "2023-08-09T16:24:34.645Z"
   },
   {
    "duration": 9,
    "start_time": "2023-08-09T16:24:34.750Z"
   },
   {
    "duration": 8,
    "start_time": "2023-08-09T16:24:34.760Z"
   },
   {
    "duration": 15,
    "start_time": "2023-08-09T16:24:34.769Z"
   },
   {
    "duration": 9,
    "start_time": "2023-08-09T16:24:34.785Z"
   },
   {
    "duration": 25,
    "start_time": "2023-08-09T16:24:34.796Z"
   },
   {
    "duration": 80,
    "start_time": "2023-08-09T16:24:34.822Z"
   },
   {
    "duration": 39,
    "start_time": "2023-08-09T16:24:34.904Z"
   },
   {
    "duration": 7,
    "start_time": "2023-08-09T16:24:34.945Z"
   },
   {
    "duration": 9,
    "start_time": "2023-08-09T16:24:35.041Z"
   },
   {
    "duration": 92,
    "start_time": "2023-08-09T16:24:35.051Z"
   },
   {
    "duration": 92,
    "start_time": "2023-08-09T16:24:35.144Z"
   },
   {
    "duration": 167,
    "start_time": "2023-08-09T16:24:35.237Z"
   },
   {
    "duration": 39,
    "start_time": "2023-08-09T16:24:35.405Z"
   },
   {
    "duration": 104,
    "start_time": "2023-08-09T16:24:35.445Z"
   },
   {
    "duration": 97,
    "start_time": "2023-08-09T16:24:35.551Z"
   },
   {
    "duration": 26,
    "start_time": "2023-08-09T16:24:35.649Z"
   },
   {
    "duration": 31,
    "start_time": "2023-08-09T16:24:35.677Z"
   },
   {
    "duration": 19,
    "start_time": "2023-08-09T16:24:35.709Z"
   },
   {
    "duration": 39,
    "start_time": "2023-08-09T16:24:35.729Z"
   },
   {
    "duration": 48174,
    "start_time": "2023-08-09T16:24:35.769Z"
   },
   {
    "duration": 24,
    "start_time": "2023-08-09T16:25:23.944Z"
   },
   {
    "duration": 48566,
    "start_time": "2023-08-09T16:25:38.872Z"
   },
   {
    "duration": 15,
    "start_time": "2023-08-09T16:26:31.309Z"
   },
   {
    "duration": 48820,
    "start_time": "2023-08-09T16:26:48.310Z"
   },
   {
    "duration": 27,
    "start_time": "2023-08-09T16:28:21.425Z"
   },
   {
    "duration": 1065,
    "start_time": "2023-08-09T17:46:58.164Z"
   },
   {
    "duration": 39,
    "start_time": "2023-08-09T17:46:59.231Z"
   },
   {
    "duration": 17,
    "start_time": "2023-08-09T17:46:59.271Z"
   },
   {
    "duration": 10,
    "start_time": "2023-08-09T17:46:59.290Z"
   },
   {
    "duration": 31,
    "start_time": "2023-08-09T17:46:59.302Z"
   },
   {
    "duration": 4,
    "start_time": "2023-08-09T17:46:59.335Z"
   },
   {
    "duration": 17,
    "start_time": "2023-08-09T17:46:59.341Z"
   },
   {
    "duration": 7,
    "start_time": "2023-08-09T17:46:59.360Z"
   },
   {
    "duration": 10,
    "start_time": "2023-08-09T17:46:59.369Z"
   },
   {
    "duration": 14,
    "start_time": "2023-08-09T17:46:59.380Z"
   },
   {
    "duration": 6,
    "start_time": "2023-08-09T17:46:59.395Z"
   },
   {
    "duration": 13,
    "start_time": "2023-08-09T17:46:59.402Z"
   },
   {
    "duration": 29,
    "start_time": "2023-08-09T17:46:59.416Z"
   },
   {
    "duration": 2,
    "start_time": "2023-08-09T17:46:59.448Z"
   },
   {
    "duration": 21,
    "start_time": "2023-08-09T17:46:59.451Z"
   },
   {
    "duration": 17,
    "start_time": "2023-08-09T17:46:59.473Z"
   },
   {
    "duration": 12,
    "start_time": "2023-08-09T17:46:59.491Z"
   },
   {
    "duration": 6,
    "start_time": "2023-08-09T17:46:59.504Z"
   },
   {
    "duration": 21,
    "start_time": "2023-08-09T17:46:59.511Z"
   },
   {
    "duration": 10,
    "start_time": "2023-08-09T17:46:59.534Z"
   },
   {
    "duration": 13,
    "start_time": "2023-08-09T17:46:59.545Z"
   },
   {
    "duration": 17,
    "start_time": "2023-08-09T17:46:59.559Z"
   },
   {
    "duration": 20,
    "start_time": "2023-08-09T17:46:59.578Z"
   },
   {
    "duration": 11,
    "start_time": "2023-08-09T17:46:59.599Z"
   },
   {
    "duration": 9,
    "start_time": "2023-08-09T17:46:59.611Z"
   },
   {
    "duration": 19,
    "start_time": "2023-08-09T17:46:59.621Z"
   },
   {
    "duration": 169,
    "start_time": "2023-08-09T17:46:59.642Z"
   },
   {
    "duration": 10812,
    "start_time": "2023-08-09T17:46:59.813Z"
   },
   {
    "duration": 110,
    "start_time": "2023-08-09T17:47:10.627Z"
   },
   {
    "duration": 9,
    "start_time": "2023-08-09T17:47:10.740Z"
   },
   {
    "duration": 8,
    "start_time": "2023-08-09T17:47:10.838Z"
   },
   {
    "duration": 22,
    "start_time": "2023-08-09T17:47:10.847Z"
   },
   {
    "duration": 10,
    "start_time": "2023-08-09T17:47:10.871Z"
   },
   {
    "duration": 30,
    "start_time": "2023-08-09T17:47:10.883Z"
   },
   {
    "duration": 25,
    "start_time": "2023-08-09T17:47:10.915Z"
   },
   {
    "duration": 31,
    "start_time": "2023-08-09T17:47:10.942Z"
   },
   {
    "duration": 188,
    "start_time": "2023-08-09T17:47:10.974Z"
   },
   {
    "duration": 76,
    "start_time": "2023-08-09T17:47:11.163Z"
   },
   {
    "duration": 7,
    "start_time": "2023-08-09T17:47:11.241Z"
   },
   {
    "duration": 24,
    "start_time": "2023-08-09T17:47:11.338Z"
   },
   {
    "duration": 17,
    "start_time": "2023-08-09T17:47:11.366Z"
   },
   {
    "duration": 27,
    "start_time": "2023-08-09T17:47:11.384Z"
   },
   {
    "duration": 22,
    "start_time": "2023-08-09T17:47:11.413Z"
   },
   {
    "duration": 6,
    "start_time": "2023-08-09T17:47:11.436Z"
   },
   {
    "duration": 18,
    "start_time": "2023-08-09T17:47:11.443Z"
   },
   {
    "duration": 96,
    "start_time": "2023-08-09T17:47:11.462Z"
   },
   {
    "duration": 81,
    "start_time": "2023-08-09T17:47:11.559Z"
   },
   {
    "duration": 100,
    "start_time": "2023-08-09T17:47:11.641Z"
   },
   {
    "duration": 10,
    "start_time": "2023-08-09T17:47:11.742Z"
   },
   {
    "duration": 12,
    "start_time": "2023-08-09T17:47:11.754Z"
   },
   {
    "duration": 31,
    "start_time": "2023-08-09T17:47:11.767Z"
   },
   {
    "duration": 159,
    "start_time": "2023-08-09T17:47:11.799Z"
   },
   {
    "duration": 78,
    "start_time": "2023-08-09T17:47:11.960Z"
   },
   {
    "duration": 97,
    "start_time": "2023-08-09T17:47:12.040Z"
   },
   {
    "duration": 11,
    "start_time": "2023-08-09T17:47:12.139Z"
   },
   {
    "duration": 10,
    "start_time": "2023-08-09T17:47:12.151Z"
   },
   {
    "duration": 10,
    "start_time": "2023-08-09T17:47:12.162Z"
   },
   {
    "duration": 12,
    "start_time": "2023-08-09T17:47:12.173Z"
   },
   {
    "duration": 10,
    "start_time": "2023-08-09T17:47:12.186Z"
   },
   {
    "duration": 47887,
    "start_time": "2023-08-09T17:47:12.198Z"
   },
   {
    "duration": 15,
    "start_time": "2023-08-09T17:48:00.086Z"
   },
   {
    "duration": 1089,
    "start_time": "2023-08-09T18:01:54.915Z"
   },
   {
    "duration": 40,
    "start_time": "2023-08-09T18:01:56.006Z"
   },
   {
    "duration": 18,
    "start_time": "2023-08-09T18:01:56.048Z"
   },
   {
    "duration": 14,
    "start_time": "2023-08-09T18:01:56.068Z"
   },
   {
    "duration": 45,
    "start_time": "2023-08-09T18:01:56.084Z"
   },
   {
    "duration": 12,
    "start_time": "2023-08-09T18:01:56.130Z"
   },
   {
    "duration": 27,
    "start_time": "2023-08-09T18:01:56.144Z"
   },
   {
    "duration": 9,
    "start_time": "2023-08-09T18:01:56.173Z"
   },
   {
    "duration": 8,
    "start_time": "2023-08-09T18:01:56.183Z"
   },
   {
    "duration": 20,
    "start_time": "2023-08-09T18:01:56.193Z"
   },
   {
    "duration": 7,
    "start_time": "2023-08-09T18:01:56.215Z"
   },
   {
    "duration": 18,
    "start_time": "2023-08-09T18:01:56.224Z"
   },
   {
    "duration": 15,
    "start_time": "2023-08-09T18:01:56.243Z"
   },
   {
    "duration": 2,
    "start_time": "2023-08-09T18:01:56.262Z"
   },
   {
    "duration": 22,
    "start_time": "2023-08-09T18:01:56.265Z"
   },
   {
    "duration": 17,
    "start_time": "2023-08-09T18:01:56.288Z"
   },
   {
    "duration": 18,
    "start_time": "2023-08-09T18:01:56.306Z"
   },
   {
    "duration": 14,
    "start_time": "2023-08-09T18:01:56.325Z"
   },
   {
    "duration": 7,
    "start_time": "2023-08-09T18:01:56.340Z"
   },
   {
    "duration": 12,
    "start_time": "2023-08-09T18:01:56.348Z"
   },
   {
    "duration": 15,
    "start_time": "2023-08-09T18:01:56.361Z"
   },
   {
    "duration": 8,
    "start_time": "2023-08-09T18:01:56.378Z"
   },
   {
    "duration": 14,
    "start_time": "2023-08-09T18:01:56.387Z"
   },
   {
    "duration": 9,
    "start_time": "2023-08-09T18:01:56.403Z"
   },
   {
    "duration": 18,
    "start_time": "2023-08-09T18:01:56.413Z"
   },
   {
    "duration": 9,
    "start_time": "2023-08-09T18:01:56.432Z"
   },
   {
    "duration": 162,
    "start_time": "2023-08-09T18:01:56.443Z"
   },
   {
    "duration": 10778,
    "start_time": "2023-08-09T18:01:56.607Z"
   },
   {
    "duration": 57,
    "start_time": "2023-08-09T18:02:07.386Z"
   },
   {
    "duration": 96,
    "start_time": "2023-08-09T18:02:07.445Z"
   },
   {
    "duration": 33,
    "start_time": "2023-08-09T18:02:07.542Z"
   },
   {
    "duration": 18,
    "start_time": "2023-08-09T18:02:07.576Z"
   },
   {
    "duration": 33,
    "start_time": "2023-08-09T18:02:07.596Z"
   },
   {
    "duration": 40,
    "start_time": "2023-08-09T18:02:07.630Z"
   },
   {
    "duration": 19,
    "start_time": "2023-08-09T18:02:07.671Z"
   },
   {
    "duration": 44,
    "start_time": "2023-08-09T18:02:07.691Z"
   },
   {
    "duration": 170,
    "start_time": "2023-08-09T18:02:07.736Z"
   },
   {
    "duration": 35,
    "start_time": "2023-08-09T18:02:07.908Z"
   },
   {
    "duration": 102,
    "start_time": "2023-08-09T18:02:07.945Z"
   },
   {
    "duration": 119,
    "start_time": "2023-08-09T18:02:08.049Z"
   },
   {
    "duration": 20,
    "start_time": "2023-08-09T18:02:08.171Z"
   },
   {
    "duration": 23,
    "start_time": "2023-08-09T18:02:08.192Z"
   },
   {
    "duration": 37,
    "start_time": "2023-08-09T18:02:08.217Z"
   },
   {
    "duration": 13,
    "start_time": "2023-08-09T18:02:08.256Z"
   },
   {
    "duration": 39,
    "start_time": "2023-08-09T18:02:08.270Z"
   },
   {
    "duration": 99,
    "start_time": "2023-08-09T18:02:08.311Z"
   },
   {
    "duration": 127,
    "start_time": "2023-08-09T18:02:08.412Z"
   },
   {
    "duration": 101,
    "start_time": "2023-08-09T18:02:08.540Z"
   },
   {
    "duration": 21,
    "start_time": "2023-08-09T18:02:08.643Z"
   },
   {
    "duration": 14,
    "start_time": "2023-08-09T18:02:08.665Z"
   },
   {
    "duration": 34,
    "start_time": "2023-08-09T18:02:08.680Z"
   },
   {
    "duration": 123,
    "start_time": "2023-08-09T18:02:08.715Z"
   },
   {
    "duration": 22,
    "start_time": "2023-08-09T18:02:08.840Z"
   },
   {
    "duration": 103,
    "start_time": "2023-08-09T18:02:08.938Z"
   },
   {
    "duration": 15,
    "start_time": "2023-08-09T18:02:09.043Z"
   },
   {
    "duration": 17,
    "start_time": "2023-08-09T18:02:09.060Z"
   },
   {
    "duration": 30,
    "start_time": "2023-08-09T18:02:09.078Z"
   },
   {
    "duration": 22,
    "start_time": "2023-08-09T18:02:09.110Z"
   },
   {
    "duration": 29,
    "start_time": "2023-08-09T18:02:09.134Z"
   },
   {
    "duration": 47424,
    "start_time": "2023-08-09T18:02:09.164Z"
   },
   {
    "duration": 28,
    "start_time": "2023-08-09T18:02:56.590Z"
   },
   {
    "duration": 48183,
    "start_time": "2023-08-09T18:03:08.202Z"
   },
   {
    "duration": 26,
    "start_time": "2023-08-09T18:04:00.416Z"
   },
   {
    "duration": 1103,
    "start_time": "2023-08-10T08:56:03.607Z"
   },
   {
    "duration": 101,
    "start_time": "2023-08-10T08:56:04.713Z"
   },
   {
    "duration": 23,
    "start_time": "2023-08-10T08:56:04.816Z"
   },
   {
    "duration": 46,
    "start_time": "2023-08-10T08:56:04.841Z"
   },
   {
    "duration": 166,
    "start_time": "2023-08-10T08:56:04.890Z"
   },
   {
    "duration": 12,
    "start_time": "2023-08-10T08:56:05.059Z"
   },
   {
    "duration": 103,
    "start_time": "2023-08-10T08:56:05.072Z"
   },
   {
    "duration": 57,
    "start_time": "2023-08-10T08:56:05.177Z"
   },
   {
    "duration": 159,
    "start_time": "2023-08-10T08:56:05.236Z"
   },
   {
    "duration": 77,
    "start_time": "2023-08-10T08:56:05.397Z"
   },
   {
    "duration": 42,
    "start_time": "2023-08-10T08:56:05.475Z"
   },
   {
    "duration": 53,
    "start_time": "2023-08-10T08:56:05.518Z"
   },
   {
    "duration": 55,
    "start_time": "2023-08-10T08:56:05.572Z"
   },
   {
    "duration": 55,
    "start_time": "2023-08-10T08:56:05.631Z"
   },
   {
    "duration": 87,
    "start_time": "2023-08-10T08:56:05.688Z"
   },
   {
    "duration": 63,
    "start_time": "2023-08-10T08:56:05.778Z"
   },
   {
    "duration": 47,
    "start_time": "2023-08-10T08:56:05.843Z"
   },
   {
    "duration": 27,
    "start_time": "2023-08-10T08:56:05.892Z"
   },
   {
    "duration": 56,
    "start_time": "2023-08-10T08:56:05.921Z"
   },
   {
    "duration": 39,
    "start_time": "2023-08-10T08:56:05.979Z"
   },
   {
    "duration": 66,
    "start_time": "2023-08-10T08:56:06.019Z"
   },
   {
    "duration": 38,
    "start_time": "2023-08-10T08:56:06.087Z"
   },
   {
    "duration": 43,
    "start_time": "2023-08-10T08:56:06.127Z"
   },
   {
    "duration": 54,
    "start_time": "2023-08-10T08:56:06.172Z"
   },
   {
    "duration": 48,
    "start_time": "2023-08-10T08:56:06.228Z"
   },
   {
    "duration": 42,
    "start_time": "2023-08-10T08:56:06.278Z"
   },
   {
    "duration": 215,
    "start_time": "2023-08-10T08:56:06.322Z"
   },
   {
    "duration": 11925,
    "start_time": "2023-08-10T08:56:06.539Z"
   },
   {
    "duration": 222,
    "start_time": "2023-08-10T08:56:18.466Z"
   },
   {
    "duration": 22,
    "start_time": "2023-08-10T08:56:18.690Z"
   },
   {
    "duration": 16,
    "start_time": "2023-08-10T08:56:18.715Z"
   },
   {
    "duration": 7,
    "start_time": "2023-08-10T08:56:18.787Z"
   },
   {
    "duration": 10,
    "start_time": "2023-08-10T08:56:18.797Z"
   },
   {
    "duration": 12,
    "start_time": "2023-08-10T08:56:18.808Z"
   },
   {
    "duration": 5,
    "start_time": "2023-08-10T08:56:18.821Z"
   },
   {
    "duration": 29,
    "start_time": "2023-08-10T08:56:18.827Z"
   },
   {
    "duration": 197,
    "start_time": "2023-08-10T08:56:18.858Z"
   },
   {
    "duration": 132,
    "start_time": "2023-08-10T08:56:19.057Z"
   },
   {
    "duration": 10,
    "start_time": "2023-08-10T08:56:19.192Z"
   },
   {
    "duration": 115,
    "start_time": "2023-08-10T08:56:19.203Z"
   },
   {
    "duration": 8,
    "start_time": "2023-08-10T08:56:19.323Z"
   },
   {
    "duration": 13,
    "start_time": "2023-08-10T08:56:19.332Z"
   },
   {
    "duration": 28,
    "start_time": "2023-08-10T08:56:19.347Z"
   },
   {
    "duration": 7,
    "start_time": "2023-08-10T08:56:19.378Z"
   },
   {
    "duration": 47,
    "start_time": "2023-08-10T08:56:19.387Z"
   },
   {
    "duration": 90,
    "start_time": "2023-08-10T08:56:19.436Z"
   },
   {
    "duration": 160,
    "start_time": "2023-08-10T08:56:19.527Z"
   },
   {
    "duration": 14,
    "start_time": "2023-08-10T08:56:19.690Z"
   },
   {
    "duration": 29,
    "start_time": "2023-08-10T08:56:19.707Z"
   },
   {
    "duration": 22,
    "start_time": "2023-08-10T08:56:19.789Z"
   },
   {
    "duration": 41,
    "start_time": "2023-08-10T08:56:19.813Z"
   },
   {
    "duration": 149,
    "start_time": "2023-08-10T08:56:19.855Z"
   },
   {
    "duration": 183,
    "start_time": "2023-08-10T08:56:20.005Z"
   },
   {
    "duration": 100,
    "start_time": "2023-08-10T08:56:20.191Z"
   },
   {
    "duration": 36,
    "start_time": "2023-08-10T08:56:20.293Z"
   },
   {
    "duration": 42,
    "start_time": "2023-08-10T08:56:20.331Z"
   },
   {
    "duration": 20,
    "start_time": "2023-08-10T08:56:20.374Z"
   },
   {
    "duration": 15,
    "start_time": "2023-08-10T08:56:20.396Z"
   },
   {
    "duration": 25,
    "start_time": "2023-08-10T08:56:20.413Z"
   },
   {
    "duration": 49089,
    "start_time": "2023-08-10T08:56:20.439Z"
   },
   {
    "duration": 31,
    "start_time": "2023-08-10T08:57:09.530Z"
   },
   {
    "duration": 89,
    "start_time": "2023-08-10T09:02:42.393Z"
   },
   {
    "duration": 2,
    "start_time": "2023-08-10T09:15:37.309Z"
   },
   {
    "duration": 3,
    "start_time": "2023-08-10T09:15:39.187Z"
   },
   {
    "duration": 3,
    "start_time": "2023-08-10T09:15:53.223Z"
   },
   {
    "duration": 2,
    "start_time": "2023-08-10T09:16:00.958Z"
   },
   {
    "duration": 3,
    "start_time": "2023-08-10T09:16:03.962Z"
   },
   {
    "duration": 2,
    "start_time": "2023-08-10T09:16:07.409Z"
   },
   {
    "duration": 3,
    "start_time": "2023-08-10T09:16:16.279Z"
   },
   {
    "duration": 5,
    "start_time": "2023-08-10T09:18:39.978Z"
   },
   {
    "duration": 1038,
    "start_time": "2023-08-10T09:35:09.832Z"
   },
   {
    "duration": 41,
    "start_time": "2023-08-10T09:35:14.290Z"
   },
   {
    "duration": 18,
    "start_time": "2023-08-10T09:35:17.126Z"
   },
   {
    "duration": 17,
    "start_time": "2023-08-10T09:35:22.780Z"
   },
   {
    "duration": 43,
    "start_time": "2023-08-10T09:35:27.280Z"
   },
   {
    "duration": 6,
    "start_time": "2023-08-10T09:35:31.569Z"
   },
   {
    "duration": 22,
    "start_time": "2023-08-10T09:35:32.379Z"
   },
   {
    "duration": 9,
    "start_time": "2023-08-10T09:35:37.069Z"
   },
   {
    "duration": 5,
    "start_time": "2023-08-10T09:35:42.370Z"
   },
   {
    "duration": 12,
    "start_time": "2023-08-10T09:35:45.412Z"
   },
   {
    "duration": 3,
    "start_time": "2023-08-10T09:35:50.767Z"
   },
   {
    "duration": 10,
    "start_time": "2023-08-10T09:35:52.559Z"
   },
   {
    "duration": 7,
    "start_time": "2023-08-10T09:35:54.375Z"
   },
   {
    "duration": 4,
    "start_time": "2023-08-10T09:35:56.329Z"
   },
   {
    "duration": 6,
    "start_time": "2023-08-10T09:37:35.133Z"
   },
   {
    "duration": 96,
    "start_time": "2023-08-10T09:38:06.065Z"
   },
   {
    "duration": 3,
    "start_time": "2023-08-10T09:38:14.464Z"
   },
   {
    "duration": 13,
    "start_time": "2023-08-10T09:38:18.374Z"
   },
   {
    "duration": 8,
    "start_time": "2023-08-10T10:14:23.562Z"
   },
   {
    "duration": 10,
    "start_time": "2023-08-10T10:15:20.807Z"
   },
   {
    "duration": 8,
    "start_time": "2023-08-10T10:15:42.245Z"
   },
   {
    "duration": 4,
    "start_time": "2023-08-10T10:17:08.861Z"
   },
   {
    "duration": 8,
    "start_time": "2023-08-10T10:17:51.206Z"
   },
   {
    "duration": 9,
    "start_time": "2023-08-10T10:17:56.963Z"
   },
   {
    "duration": 3,
    "start_time": "2023-08-10T10:18:57.923Z"
   },
   {
    "duration": 11,
    "start_time": "2023-08-10T10:18:59.986Z"
   },
   {
    "duration": 3,
    "start_time": "2023-08-10T10:19:02.806Z"
   },
   {
    "duration": 7,
    "start_time": "2023-08-10T10:19:05.828Z"
   },
   {
    "duration": 21,
    "start_time": "2023-08-10T10:21:12.367Z"
   },
   {
    "duration": 16,
    "start_time": "2023-08-10T10:23:44.346Z"
   },
   {
    "duration": 3,
    "start_time": "2023-08-10T10:24:04.169Z"
   },
   {
    "duration": 13,
    "start_time": "2023-08-10T10:24:06.229Z"
   },
   {
    "duration": 1150,
    "start_time": "2023-08-10T10:24:38.066Z"
   },
   {
    "duration": 44,
    "start_time": "2023-08-10T10:24:40.284Z"
   },
   {
    "duration": 20,
    "start_time": "2023-08-10T10:24:42.138Z"
   },
   {
    "duration": 12,
    "start_time": "2023-08-10T10:24:43.738Z"
   },
   {
    "duration": 38,
    "start_time": "2023-08-10T10:24:45.468Z"
   },
   {
    "duration": 7,
    "start_time": "2023-08-10T10:24:47.993Z"
   },
   {
    "duration": 19,
    "start_time": "2023-08-10T10:24:49.280Z"
   },
   {
    "duration": 10,
    "start_time": "2023-08-10T10:24:52.235Z"
   },
   {
    "duration": 5,
    "start_time": "2023-08-10T10:25:00.714Z"
   },
   {
    "duration": 12,
    "start_time": "2023-08-10T10:25:02.941Z"
   },
   {
    "duration": 4,
    "start_time": "2023-08-10T10:25:08.661Z"
   },
   {
    "duration": 8,
    "start_time": "2023-08-10T10:25:10.342Z"
   },
   {
    "duration": 6,
    "start_time": "2023-08-10T10:25:11.295Z"
   },
   {
    "duration": 4,
    "start_time": "2023-08-10T10:25:12.183Z"
   },
   {
    "duration": 7,
    "start_time": "2023-08-10T10:25:14.640Z"
   },
   {
    "duration": 16,
    "start_time": "2023-08-10T10:25:19.469Z"
   },
   {
    "duration": 2,
    "start_time": "2023-08-10T10:25:24.243Z"
   },
   {
    "duration": 11,
    "start_time": "2023-08-10T10:25:26.825Z"
   },
   {
    "duration": 5,
    "start_time": "2023-08-10T10:25:30.245Z"
   },
   {
    "duration": 9,
    "start_time": "2023-08-10T10:25:33.123Z"
   },
   {
    "duration": 20,
    "start_time": "2023-08-10T10:25:36.773Z"
   },
   {
    "duration": 1088,
    "start_time": "2023-08-10T10:26:08.534Z"
   },
   {
    "duration": 43,
    "start_time": "2023-08-10T10:26:12.265Z"
   },
   {
    "duration": 11,
    "start_time": "2023-08-10T10:26:21.806Z"
   },
   {
    "duration": 5,
    "start_time": "2023-08-10T10:26:25.903Z"
   },
   {
    "duration": 5,
    "start_time": "2023-08-10T10:26:31.021Z"
   },
   {
    "duration": 8,
    "start_time": "2023-08-10T10:26:33.524Z"
   },
   {
    "duration": 6,
    "start_time": "2023-08-10T10:26:34.128Z"
   },
   {
    "duration": 5,
    "start_time": "2023-08-10T10:26:34.931Z"
   },
   {
    "duration": 7,
    "start_time": "2023-08-10T10:26:35.820Z"
   },
   {
    "duration": 3,
    "start_time": "2023-08-10T10:26:42.365Z"
   },
   {
    "duration": 3,
    "start_time": "2023-08-10T10:26:45.668Z"
   },
   {
    "duration": 18,
    "start_time": "2023-08-10T10:26:47.336Z"
   },
   {
    "duration": 4,
    "start_time": "2023-08-10T10:26:49.375Z"
   },
   {
    "duration": 11,
    "start_time": "2023-08-10T10:26:51.336Z"
   },
   {
    "duration": 24,
    "start_time": "2023-08-10T10:26:53.695Z"
   },
   {
    "duration": 4,
    "start_time": "2023-08-10T10:33:17.531Z"
   },
   {
    "duration": 11,
    "start_time": "2023-08-10T10:33:22.374Z"
   },
   {
    "duration": 14,
    "start_time": "2023-08-10T10:33:28.721Z"
   },
   {
    "duration": 11,
    "start_time": "2023-08-10T10:33:59.877Z"
   },
   {
    "duration": 12,
    "start_time": "2023-08-10T10:34:07.740Z"
   },
   {
    "duration": 11,
    "start_time": "2023-08-10T10:34:13.777Z"
   },
   {
    "duration": 108,
    "start_time": "2023-08-10T10:35:14.103Z"
   },
   {
    "duration": 19,
    "start_time": "2023-08-10T10:36:38.577Z"
   },
   {
    "duration": 20,
    "start_time": "2023-08-10T10:37:11.026Z"
   },
   {
    "duration": 14,
    "start_time": "2023-08-10T10:37:34.106Z"
   },
   {
    "duration": 12,
    "start_time": "2023-08-10T10:37:52.901Z"
   },
   {
    "duration": 18,
    "start_time": "2023-08-10T10:38:04.379Z"
   },
   {
    "duration": 11,
    "start_time": "2023-08-10T10:38:21.027Z"
   },
   {
    "duration": 1178,
    "start_time": "2023-08-10T10:38:37.779Z"
   },
   {
    "duration": 41,
    "start_time": "2023-08-10T10:38:38.959Z"
   },
   {
    "duration": 10,
    "start_time": "2023-08-10T10:38:46.125Z"
   },
   {
    "duration": 5,
    "start_time": "2023-08-10T10:38:50.988Z"
   },
   {
    "duration": 5,
    "start_time": "2023-08-10T10:38:56.935Z"
   },
   {
    "duration": 12,
    "start_time": "2023-08-10T10:38:58.687Z"
   },
   {
    "duration": 7,
    "start_time": "2023-08-10T10:39:00.310Z"
   },
   {
    "duration": 4,
    "start_time": "2023-08-10T10:39:01.839Z"
   },
   {
    "duration": 6,
    "start_time": "2023-08-10T10:39:04.525Z"
   },
   {
    "duration": 3,
    "start_time": "2023-08-10T10:39:11.978Z"
   },
   {
    "duration": 2,
    "start_time": "2023-08-10T10:39:14.291Z"
   },
   {
    "duration": 27,
    "start_time": "2023-08-10T10:39:16.423Z"
   },
   {
    "duration": 15,
    "start_time": "2023-08-10T10:39:20.537Z"
   },
   {
    "duration": 12,
    "start_time": "2023-08-10T10:39:24.105Z"
   },
   {
    "duration": 20,
    "start_time": "2023-08-10T10:39:28.089Z"
   },
   {
    "duration": 11,
    "start_time": "2023-08-10T10:39:47.651Z"
   },
   {
    "duration": 20,
    "start_time": "2023-08-10T10:39:53.639Z"
   },
   {
    "duration": 11,
    "start_time": "2023-08-10T10:40:06.134Z"
   },
   {
    "duration": 24,
    "start_time": "2023-08-10T10:40:12.930Z"
   },
   {
    "duration": 12,
    "start_time": "2023-08-10T10:40:16.008Z"
   },
   {
    "duration": 3,
    "start_time": "2023-08-10T10:45:49.294Z"
   },
   {
    "duration": 14,
    "start_time": "2023-08-10T10:45:51.846Z"
   },
   {
    "duration": 3,
    "start_time": "2023-08-10T10:47:10.121Z"
   },
   {
    "duration": 13,
    "start_time": "2023-08-10T10:47:12.069Z"
   },
   {
    "duration": 3,
    "start_time": "2023-08-10T10:47:25.546Z"
   },
   {
    "duration": 13,
    "start_time": "2023-08-10T10:47:28.113Z"
   },
   {
    "duration": 10,
    "start_time": "2023-08-10T10:47:44.094Z"
   },
   {
    "duration": 103,
    "start_time": "2023-08-10T10:49:22.017Z"
   },
   {
    "duration": 12,
    "start_time": "2023-08-10T10:49:30.900Z"
   },
   {
    "duration": 11,
    "start_time": "2023-08-10T10:50:10.209Z"
   },
   {
    "duration": 16,
    "start_time": "2023-08-10T10:51:12.698Z"
   },
   {
    "duration": 12,
    "start_time": "2023-08-10T10:51:25.669Z"
   },
   {
    "duration": 14,
    "start_time": "2023-08-10T10:52:15.498Z"
   },
   {
    "duration": 11,
    "start_time": "2023-08-10T10:52:18.002Z"
   },
   {
    "duration": 13,
    "start_time": "2023-08-10T10:53:00.694Z"
   },
   {
    "duration": 15,
    "start_time": "2023-08-10T10:53:04.606Z"
   },
   {
    "duration": 1169,
    "start_time": "2023-08-10T10:57:16.210Z"
   },
   {
    "duration": 50,
    "start_time": "2023-08-10T10:57:17.381Z"
   },
   {
    "duration": 24,
    "start_time": "2023-08-10T10:57:17.433Z"
   },
   {
    "duration": 11,
    "start_time": "2023-08-10T10:57:17.459Z"
   },
   {
    "duration": 38,
    "start_time": "2023-08-10T10:57:17.472Z"
   },
   {
    "duration": 5,
    "start_time": "2023-08-10T10:57:17.511Z"
   },
   {
    "duration": 63,
    "start_time": "2023-08-10T10:57:17.518Z"
   },
   {
    "duration": 13,
    "start_time": "2023-08-10T10:57:17.582Z"
   },
   {
    "duration": 7,
    "start_time": "2023-08-10T10:57:17.596Z"
   },
   {
    "duration": 20,
    "start_time": "2023-08-10T10:57:17.604Z"
   },
   {
    "duration": 9,
    "start_time": "2023-08-10T10:57:17.626Z"
   },
   {
    "duration": 85,
    "start_time": "2023-08-10T10:57:17.636Z"
   },
   {
    "duration": 56,
    "start_time": "2023-08-10T10:57:17.723Z"
   },
   {
    "duration": 16,
    "start_time": "2023-08-10T10:57:17.782Z"
   },
   {
    "duration": 12,
    "start_time": "2023-08-10T10:57:17.800Z"
   },
   {
    "duration": 15,
    "start_time": "2023-08-10T10:57:17.814Z"
   },
   {
    "duration": 15,
    "start_time": "2023-08-10T10:57:17.830Z"
   },
   {
    "duration": 93,
    "start_time": "2023-08-10T10:57:17.847Z"
   },
   {
    "duration": 56,
    "start_time": "2023-08-10T10:57:17.941Z"
   },
   {
    "duration": 23,
    "start_time": "2023-08-10T10:57:17.999Z"
   },
   {
    "duration": 27,
    "start_time": "2023-08-10T10:57:18.024Z"
   },
   {
    "duration": 30,
    "start_time": "2023-08-10T10:57:18.052Z"
   },
   {
    "duration": 20,
    "start_time": "2023-08-10T10:57:18.084Z"
   },
   {
    "duration": 21,
    "start_time": "2023-08-10T10:57:18.106Z"
   },
   {
    "duration": 42,
    "start_time": "2023-08-10T10:57:18.128Z"
   },
   {
    "duration": 46,
    "start_time": "2023-08-10T10:57:18.172Z"
   },
   {
    "duration": 35,
    "start_time": "2023-08-10T10:57:18.220Z"
   },
   {
    "duration": 44,
    "start_time": "2023-08-10T10:57:18.258Z"
   },
   {
    "duration": 31,
    "start_time": "2023-08-10T10:57:18.304Z"
   },
   {
    "duration": 3,
    "start_time": "2023-08-10T10:57:18.337Z"
   },
   {
    "duration": 9,
    "start_time": "2023-08-10T10:57:18.342Z"
   },
   {
    "duration": 12,
    "start_time": "2023-08-10T10:57:18.353Z"
   },
   {
    "duration": 53,
    "start_time": "2023-08-10T10:57:18.367Z"
   },
   {
    "duration": 22,
    "start_time": "2023-08-10T10:57:18.422Z"
   },
   {
    "duration": 23,
    "start_time": "2023-08-10T10:57:18.446Z"
   },
   {
    "duration": 12,
    "start_time": "2023-08-10T10:57:18.471Z"
   },
   {
    "duration": 12,
    "start_time": "2023-08-10T10:57:18.484Z"
   },
   {
    "duration": 22,
    "start_time": "2023-08-10T10:57:18.498Z"
   },
   {
    "duration": 41,
    "start_time": "2023-08-10T10:57:18.522Z"
   },
   {
    "duration": 30,
    "start_time": "2023-08-10T10:57:18.565Z"
   },
   {
    "duration": 19,
    "start_time": "2023-08-10T10:57:18.601Z"
   },
   {
    "duration": 31,
    "start_time": "2023-08-10T10:57:18.623Z"
   },
   {
    "duration": 15,
    "start_time": "2023-08-10T10:57:18.656Z"
   },
   {
    "duration": 17,
    "start_time": "2023-08-10T10:57:18.673Z"
   },
   {
    "duration": 43,
    "start_time": "2023-08-10T10:57:18.692Z"
   },
   {
    "duration": 42,
    "start_time": "2023-08-10T10:57:18.737Z"
   },
   {
    "duration": 25,
    "start_time": "2023-08-10T10:57:18.780Z"
   },
   {
    "duration": 24,
    "start_time": "2023-08-10T10:57:18.806Z"
   },
   {
    "duration": 46,
    "start_time": "2023-08-10T10:57:18.832Z"
   },
   {
    "duration": 37,
    "start_time": "2023-08-10T10:57:18.879Z"
   },
   {
    "duration": 7,
    "start_time": "2023-08-10T10:57:18.917Z"
   },
   {
    "duration": 185,
    "start_time": "2023-08-10T10:57:18.926Z"
   },
   {
    "duration": 11246,
    "start_time": "2023-08-10T10:57:19.113Z"
   },
   {
    "duration": 138,
    "start_time": "2023-08-10T10:57:30.360Z"
   },
   {
    "duration": 92,
    "start_time": "2023-08-10T10:57:30.500Z"
   },
   {
    "duration": 77,
    "start_time": "2023-08-10T10:57:30.594Z"
   },
   {
    "duration": 58,
    "start_time": "2023-08-10T10:57:30.673Z"
   },
   {
    "duration": 131,
    "start_time": "2023-08-10T10:57:30.733Z"
   },
   {
    "duration": 195,
    "start_time": "2023-08-10T10:57:30.866Z"
   },
   {
    "duration": 0,
    "start_time": "2023-08-10T10:57:31.063Z"
   },
   {
    "duration": 0,
    "start_time": "2023-08-10T10:57:31.064Z"
   },
   {
    "duration": 0,
    "start_time": "2023-08-10T10:57:31.066Z"
   },
   {
    "duration": 0,
    "start_time": "2023-08-10T10:57:31.068Z"
   },
   {
    "duration": 0,
    "start_time": "2023-08-10T10:57:31.069Z"
   },
   {
    "duration": 0,
    "start_time": "2023-08-10T10:57:31.087Z"
   },
   {
    "duration": 0,
    "start_time": "2023-08-10T10:57:31.089Z"
   },
   {
    "duration": 0,
    "start_time": "2023-08-10T10:57:31.092Z"
   },
   {
    "duration": 0,
    "start_time": "2023-08-10T10:57:31.093Z"
   },
   {
    "duration": 0,
    "start_time": "2023-08-10T10:57:31.096Z"
   },
   {
    "duration": 0,
    "start_time": "2023-08-10T10:57:31.097Z"
   },
   {
    "duration": 0,
    "start_time": "2023-08-10T10:57:31.099Z"
   },
   {
    "duration": 0,
    "start_time": "2023-08-10T10:57:31.100Z"
   },
   {
    "duration": 0,
    "start_time": "2023-08-10T10:57:31.101Z"
   },
   {
    "duration": 0,
    "start_time": "2023-08-10T10:57:31.103Z"
   },
   {
    "duration": 0,
    "start_time": "2023-08-10T10:57:31.104Z"
   },
   {
    "duration": 0,
    "start_time": "2023-08-10T10:57:31.105Z"
   },
   {
    "duration": 0,
    "start_time": "2023-08-10T10:57:31.106Z"
   },
   {
    "duration": 0,
    "start_time": "2023-08-10T10:57:31.108Z"
   },
   {
    "duration": 0,
    "start_time": "2023-08-10T10:57:31.108Z"
   },
   {
    "duration": 0,
    "start_time": "2023-08-10T10:57:31.109Z"
   },
   {
    "duration": 0,
    "start_time": "2023-08-10T10:57:31.110Z"
   },
   {
    "duration": 0,
    "start_time": "2023-08-10T10:57:31.111Z"
   },
   {
    "duration": 0,
    "start_time": "2023-08-10T10:57:31.112Z"
   },
   {
    "duration": 0,
    "start_time": "2023-08-10T10:57:31.113Z"
   },
   {
    "duration": 0,
    "start_time": "2023-08-10T10:57:31.114Z"
   },
   {
    "duration": 0,
    "start_time": "2023-08-10T10:57:31.115Z"
   },
   {
    "duration": 1053,
    "start_time": "2023-08-10T10:59:03.212Z"
   },
   {
    "duration": 41,
    "start_time": "2023-08-10T10:59:04.267Z"
   },
   {
    "duration": 18,
    "start_time": "2023-08-10T10:59:04.309Z"
   },
   {
    "duration": 11,
    "start_time": "2023-08-10T10:59:04.329Z"
   },
   {
    "duration": 46,
    "start_time": "2023-08-10T10:59:04.342Z"
   },
   {
    "duration": 5,
    "start_time": "2023-08-10T10:59:04.390Z"
   },
   {
    "duration": 29,
    "start_time": "2023-08-10T10:59:04.397Z"
   },
   {
    "duration": 11,
    "start_time": "2023-08-10T10:59:04.428Z"
   },
   {
    "duration": 8,
    "start_time": "2023-08-10T10:59:04.441Z"
   },
   {
    "duration": 11,
    "start_time": "2023-08-10T10:59:04.450Z"
   },
   {
    "duration": 4,
    "start_time": "2023-08-10T10:59:04.462Z"
   },
   {
    "duration": 24,
    "start_time": "2023-08-10T10:59:04.468Z"
   },
   {
    "duration": 31,
    "start_time": "2023-08-10T10:59:04.493Z"
   },
   {
    "duration": 4,
    "start_time": "2023-08-10T10:59:04.528Z"
   },
   {
    "duration": 13,
    "start_time": "2023-08-10T10:59:04.534Z"
   },
   {
    "duration": 4,
    "start_time": "2023-08-10T10:59:04.548Z"
   },
   {
    "duration": 3,
    "start_time": "2023-08-10T10:59:04.553Z"
   },
   {
    "duration": 5,
    "start_time": "2023-08-10T10:59:04.557Z"
   },
   {
    "duration": 5,
    "start_time": "2023-08-10T10:59:04.564Z"
   },
   {
    "duration": 4,
    "start_time": "2023-08-10T10:59:04.570Z"
   },
   {
    "duration": 22,
    "start_time": "2023-08-10T10:59:04.575Z"
   },
   {
    "duration": 19,
    "start_time": "2023-08-10T10:59:04.598Z"
   },
   {
    "duration": 10,
    "start_time": "2023-08-10T10:59:04.618Z"
   },
   {
    "duration": 10,
    "start_time": "2023-08-10T10:59:04.630Z"
   },
   {
    "duration": 17,
    "start_time": "2023-08-10T10:59:04.642Z"
   },
   {
    "duration": 33,
    "start_time": "2023-08-10T10:59:04.661Z"
   },
   {
    "duration": 9,
    "start_time": "2023-08-10T10:59:04.695Z"
   },
   {
    "duration": 13,
    "start_time": "2023-08-10T10:59:04.705Z"
   },
   {
    "duration": 26,
    "start_time": "2023-08-10T10:59:04.720Z"
   },
   {
    "duration": 3,
    "start_time": "2023-08-10T10:59:04.749Z"
   },
   {
    "duration": 4,
    "start_time": "2023-08-10T10:59:04.754Z"
   },
   {
    "duration": 27,
    "start_time": "2023-08-10T10:59:04.760Z"
   },
   {
    "duration": 6,
    "start_time": "2023-08-10T10:59:04.790Z"
   },
   {
    "duration": 18,
    "start_time": "2023-08-10T10:59:04.799Z"
   },
   {
    "duration": 20,
    "start_time": "2023-08-10T10:59:04.819Z"
   },
   {
    "duration": 13,
    "start_time": "2023-08-10T10:59:04.840Z"
   },
   {
    "duration": 39,
    "start_time": "2023-08-10T10:59:04.855Z"
   },
   {
    "duration": 29,
    "start_time": "2023-08-10T10:59:04.896Z"
   },
   {
    "duration": 25,
    "start_time": "2023-08-10T10:59:04.927Z"
   },
   {
    "duration": 16,
    "start_time": "2023-08-10T10:59:04.955Z"
   },
   {
    "duration": 20,
    "start_time": "2023-08-10T10:59:04.978Z"
   },
   {
    "duration": 16,
    "start_time": "2023-08-10T10:59:05.000Z"
   },
   {
    "duration": 3,
    "start_time": "2023-08-10T10:59:05.018Z"
   },
   {
    "duration": 7,
    "start_time": "2023-08-10T10:59:05.022Z"
   },
   {
    "duration": 7,
    "start_time": "2023-08-10T10:59:05.031Z"
   },
   {
    "duration": 5,
    "start_time": "2023-08-10T10:59:05.040Z"
   },
   {
    "duration": 13,
    "start_time": "2023-08-10T10:59:05.046Z"
   },
   {
    "duration": 11,
    "start_time": "2023-08-10T10:59:05.060Z"
   },
   {
    "duration": 31,
    "start_time": "2023-08-10T10:59:05.072Z"
   },
   {
    "duration": 9,
    "start_time": "2023-08-10T10:59:05.105Z"
   },
   {
    "duration": 7,
    "start_time": "2023-08-10T10:59:05.116Z"
   },
   {
    "duration": 168,
    "start_time": "2023-08-10T10:59:05.124Z"
   },
   {
    "duration": 10176,
    "start_time": "2023-08-10T10:59:05.293Z"
   },
   {
    "duration": 125,
    "start_time": "2023-08-10T10:59:15.471Z"
   },
   {
    "duration": 6,
    "start_time": "2023-08-10T10:59:15.687Z"
   },
   {
    "duration": 51,
    "start_time": "2023-08-10T10:59:15.695Z"
   },
   {
    "duration": 28,
    "start_time": "2023-08-10T10:59:15.748Z"
   },
   {
    "duration": 53,
    "start_time": "2023-08-10T10:59:15.778Z"
   },
   {
    "duration": 39,
    "start_time": "2023-08-10T10:59:15.833Z"
   },
   {
    "duration": 24,
    "start_time": "2023-08-10T10:59:15.874Z"
   },
   {
    "duration": 64,
    "start_time": "2023-08-10T10:59:15.900Z"
   },
   {
    "duration": 206,
    "start_time": "2023-08-10T10:59:15.966Z"
   },
   {
    "duration": 114,
    "start_time": "2023-08-10T10:59:16.174Z"
   },
   {
    "duration": 98,
    "start_time": "2023-08-10T10:59:16.290Z"
   },
   {
    "duration": 25,
    "start_time": "2023-08-10T10:59:16.390Z"
   },
   {
    "duration": 40,
    "start_time": "2023-08-10T10:59:16.416Z"
   },
   {
    "duration": 68,
    "start_time": "2023-08-10T10:59:16.457Z"
   },
   {
    "duration": 45,
    "start_time": "2023-08-10T10:59:16.527Z"
   },
   {
    "duration": 28,
    "start_time": "2023-08-10T10:59:16.574Z"
   },
   {
    "duration": 63,
    "start_time": "2023-08-10T10:59:16.603Z"
   },
   {
    "duration": 192,
    "start_time": "2023-08-10T10:59:16.668Z"
   },
   {
    "duration": 34,
    "start_time": "2023-08-10T10:59:16.861Z"
   },
   {
    "duration": 96,
    "start_time": "2023-08-10T10:59:16.897Z"
   },
   {
    "duration": 119,
    "start_time": "2023-08-10T10:59:16.995Z"
   },
   {
    "duration": 32,
    "start_time": "2023-08-10T10:59:17.115Z"
   },
   {
    "duration": 57,
    "start_time": "2023-08-10T10:59:17.148Z"
   },
   {
    "duration": 127,
    "start_time": "2023-08-10T10:59:17.207Z"
   },
   {
    "duration": 61,
    "start_time": "2023-08-10T10:59:17.335Z"
   },
   {
    "duration": 100,
    "start_time": "2023-08-10T10:59:17.488Z"
   },
   {
    "duration": 71,
    "start_time": "2023-08-10T10:59:17.589Z"
   },
   {
    "duration": 44,
    "start_time": "2023-08-10T10:59:17.661Z"
   },
   {
    "duration": 59,
    "start_time": "2023-08-10T10:59:17.706Z"
   },
   {
    "duration": 37,
    "start_time": "2023-08-10T10:59:17.767Z"
   },
   {
    "duration": 35,
    "start_time": "2023-08-10T10:59:17.806Z"
   },
   {
    "duration": 44828,
    "start_time": "2023-08-10T10:59:17.842Z"
   },
   {
    "duration": 39,
    "start_time": "2023-08-10T11:00:02.672Z"
   },
   {
    "duration": 1816,
    "start_time": "2023-08-10T19:10:56.305Z"
   },
   {
    "duration": 49,
    "start_time": "2023-08-10T19:10:58.123Z"
   },
   {
    "duration": 37,
    "start_time": "2023-08-10T19:10:58.174Z"
   },
   {
    "duration": 15,
    "start_time": "2023-08-10T19:10:58.213Z"
   },
   {
    "duration": 71,
    "start_time": "2023-08-10T19:10:58.231Z"
   },
   {
    "duration": 7,
    "start_time": "2023-08-10T19:10:58.304Z"
   },
   {
    "duration": 42,
    "start_time": "2023-08-10T19:10:58.312Z"
   },
   {
    "duration": 11,
    "start_time": "2023-08-10T19:10:58.356Z"
   },
   {
    "duration": 10,
    "start_time": "2023-08-10T19:10:58.368Z"
   },
   {
    "duration": 44,
    "start_time": "2023-08-10T19:10:58.380Z"
   },
   {
    "duration": 12,
    "start_time": "2023-08-10T19:10:58.426Z"
   },
   {
    "duration": 15,
    "start_time": "2023-08-10T19:10:58.440Z"
   },
   {
    "duration": 8,
    "start_time": "2023-08-10T19:10:58.457Z"
   },
   {
    "duration": 6,
    "start_time": "2023-08-10T19:10:58.468Z"
   },
   {
    "duration": 24,
    "start_time": "2023-08-10T19:10:58.476Z"
   },
   {
    "duration": 15,
    "start_time": "2023-08-10T19:10:58.504Z"
   },
   {
    "duration": 9,
    "start_time": "2023-08-10T19:10:58.521Z"
   },
   {
    "duration": 10,
    "start_time": "2023-08-10T19:10:58.532Z"
   },
   {
    "duration": 10,
    "start_time": "2023-08-10T19:10:58.544Z"
   },
   {
    "duration": 12,
    "start_time": "2023-08-10T19:10:58.556Z"
   },
   {
    "duration": 42,
    "start_time": "2023-08-10T19:10:58.569Z"
   },
   {
    "duration": 61,
    "start_time": "2023-08-10T19:10:58.615Z"
   },
   {
    "duration": 30,
    "start_time": "2023-08-10T19:10:58.679Z"
   },
   {
    "duration": 15,
    "start_time": "2023-08-10T19:10:58.714Z"
   },
   {
    "duration": 28,
    "start_time": "2023-08-10T19:10:58.732Z"
   },
   {
    "duration": 13,
    "start_time": "2023-08-10T19:10:58.761Z"
   },
   {
    "duration": 28,
    "start_time": "2023-08-10T19:10:58.777Z"
   },
   {
    "duration": 24,
    "start_time": "2023-08-10T19:10:58.811Z"
   },
   {
    "duration": 44,
    "start_time": "2023-08-10T19:10:58.837Z"
   },
   {
    "duration": 21,
    "start_time": "2023-08-10T19:10:58.883Z"
   },
   {
    "duration": 14,
    "start_time": "2023-08-10T19:10:58.905Z"
   },
   {
    "duration": 29,
    "start_time": "2023-08-10T19:10:58.921Z"
   },
   {
    "duration": 26,
    "start_time": "2023-08-10T19:10:58.953Z"
   },
   {
    "duration": 61,
    "start_time": "2023-08-10T19:10:58.981Z"
   },
   {
    "duration": 38,
    "start_time": "2023-08-10T19:10:59.046Z"
   },
   {
    "duration": 33,
    "start_time": "2023-08-10T19:10:59.086Z"
   },
   {
    "duration": 13,
    "start_time": "2023-08-10T19:10:59.120Z"
   },
   {
    "duration": 35,
    "start_time": "2023-08-10T19:10:59.135Z"
   },
   {
    "duration": 41,
    "start_time": "2023-08-10T19:10:59.173Z"
   },
   {
    "duration": 17,
    "start_time": "2023-08-10T19:10:59.217Z"
   },
   {
    "duration": 68,
    "start_time": "2023-08-10T19:10:59.244Z"
   },
   {
    "duration": 12,
    "start_time": "2023-08-10T19:10:59.314Z"
   },
   {
    "duration": 16,
    "start_time": "2023-08-10T19:10:59.328Z"
   },
   {
    "duration": 31,
    "start_time": "2023-08-10T19:10:59.346Z"
   },
   {
    "duration": 28,
    "start_time": "2023-08-10T19:10:59.381Z"
   },
   {
    "duration": 5,
    "start_time": "2023-08-10T19:10:59.413Z"
   },
   {
    "duration": 5,
    "start_time": "2023-08-10T19:10:59.420Z"
   },
   {
    "duration": 12,
    "start_time": "2023-08-10T19:10:59.426Z"
   },
   {
    "duration": 30,
    "start_time": "2023-08-10T19:10:59.440Z"
   },
   {
    "duration": 23,
    "start_time": "2023-08-10T19:10:59.475Z"
   },
   {
    "duration": 9,
    "start_time": "2023-08-10T19:10:59.505Z"
   },
   {
    "duration": 268,
    "start_time": "2023-08-10T19:10:59.518Z"
   },
   {
    "duration": 12124,
    "start_time": "2023-08-10T19:10:59.787Z"
   },
   {
    "duration": 91,
    "start_time": "2023-08-10T19:11:11.912Z"
   },
   {
    "duration": 105,
    "start_time": "2023-08-10T19:11:12.005Z"
   },
   {
    "duration": 31,
    "start_time": "2023-08-10T19:11:12.122Z"
   },
   {
    "duration": 55,
    "start_time": "2023-08-10T19:11:12.154Z"
   },
   {
    "duration": 23,
    "start_time": "2023-08-10T19:11:12.212Z"
   },
   {
    "duration": 46,
    "start_time": "2023-08-10T19:11:12.237Z"
   },
   {
    "duration": 22,
    "start_time": "2023-08-10T19:11:12.285Z"
   },
   {
    "duration": 49,
    "start_time": "2023-08-10T19:11:12.309Z"
   },
   {
    "duration": 196,
    "start_time": "2023-08-10T19:11:12.360Z"
   },
   {
    "duration": 150,
    "start_time": "2023-08-10T19:11:12.558Z"
   },
   {
    "duration": 77,
    "start_time": "2023-08-10T19:11:12.711Z"
   },
   {
    "duration": 23,
    "start_time": "2023-08-10T19:11:12.796Z"
   },
   {
    "duration": 13,
    "start_time": "2023-08-10T19:11:12.822Z"
   },
   {
    "duration": 52,
    "start_time": "2023-08-10T19:11:12.837Z"
   },
   {
    "duration": 18,
    "start_time": "2023-08-10T19:11:12.892Z"
   },
   {
    "duration": 11,
    "start_time": "2023-08-10T19:11:12.914Z"
   },
   {
    "duration": 36,
    "start_time": "2023-08-10T19:11:12.927Z"
   },
   {
    "duration": 199,
    "start_time": "2023-08-10T19:11:12.964Z"
   },
   {
    "duration": 39,
    "start_time": "2023-08-10T19:11:13.165Z"
   },
   {
    "duration": 12,
    "start_time": "2023-08-10T19:11:13.207Z"
   },
   {
    "duration": 37,
    "start_time": "2023-08-10T19:11:13.288Z"
   },
   {
    "duration": 64,
    "start_time": "2023-08-10T19:11:13.328Z"
   },
   {
    "duration": 34,
    "start_time": "2023-08-10T19:11:13.413Z"
   },
   {
    "duration": 185,
    "start_time": "2023-08-10T19:11:13.449Z"
   },
   {
    "duration": 189,
    "start_time": "2023-08-10T19:11:13.636Z"
   },
   {
    "duration": 63,
    "start_time": "2023-08-10T19:11:13.835Z"
   },
   {
    "duration": 27,
    "start_time": "2023-08-10T19:11:13.903Z"
   },
   {
    "duration": 14,
    "start_time": "2023-08-10T19:11:13.932Z"
   },
   {
    "duration": 10,
    "start_time": "2023-08-10T19:11:13.948Z"
   },
   {
    "duration": 9,
    "start_time": "2023-08-10T19:11:13.960Z"
   },
   {
    "duration": 35,
    "start_time": "2023-08-10T19:11:13.972Z"
   },
   {
    "duration": 52776,
    "start_time": "2023-08-10T19:11:14.011Z"
   },
   {
    "duration": 38,
    "start_time": "2023-08-10T19:12:06.795Z"
   }
  ],
  "kernelspec": {
   "display_name": "Python 3 (ipykernel)",
   "language": "python",
   "name": "python3"
  },
  "language_info": {
   "codemirror_mode": {
    "name": "ipython",
    "version": 3
   },
   "file_extension": ".py",
   "mimetype": "text/x-python",
   "name": "python",
   "nbconvert_exporter": "python",
   "pygments_lexer": "ipython3",
   "version": "3.9.13"
  },
  "toc": {
   "base_numbering": 1,
   "nav_menu": {},
   "number_sections": true,
   "sideBar": true,
   "skip_h1_title": true,
   "title_cell": "Содержание",
   "title_sidebar": "Contents",
   "toc_cell": true,
   "toc_position": {
    "height": "calc(100% - 180px)",
    "left": "10px",
    "top": "150px",
    "width": "258.594px"
   },
   "toc_section_display": true,
   "toc_window_display": true
  }
 },
 "nbformat": 4,
 "nbformat_minor": 4
}
